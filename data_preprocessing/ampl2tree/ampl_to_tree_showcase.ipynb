{
 "cells": [
  {
   "cell_type": "markdown",
   "metadata": {},
   "source": [
    "# Amplitude (from MARTY) to Tree\n",
    "In this notebook I show off how I convert amplitudes to trees.\n",
    "\n",
    "The amplitudes are already in a modified format exported through a cpp program.\n",
    "\n",
    "Full figures of trees can be seen in the folder `trees_figures`."
   ]
  },
  {
   "cell_type": "code",
   "execution_count": 1,
   "metadata": {},
   "outputs": [],
   "source": [
    "from nltk.tree import Tree\n",
    "from source.ampl_to_tree import ampl_to_tree, raw_ampl_to_tree, expand_tree, contract_tree, subscripts_to_subtree, rename_indices"
   ]
  },
  {
   "cell_type": "markdown",
   "metadata": {},
   "source": [
    "# Full Amplitude"
   ]
  },
  {
   "cell_type": "code",
   "execution_count": 2,
   "metadata": {},
   "outputs": [
    {
     "name": "stdout",
     "output_type": "stream",
     "text": [
      "                                                                                                    Prod                                                                                                    \n",
      " ┌────┬───────┬───────────┬────────────────────────────────────────────────────────┬─────────────────┴─────────┬──────────────────────┬───────────────────┬───────────────────┬──────────────────┐           \n",
      " │    │       │          Pow                                                       │                           │                      │                   │                   │                  │          \n",
      " │    │       │       ┌───┴───────────┐                                            │                           │                      │                   │                   │                  │           \n",
      " │    │       │       │              Sum                                           │                           │                      │                   │                   │                  │          \n",
      " │    │       │       │       ┌───────┴───┬─────────────┐                          │                           │                      │                   │                   │                  │           \n",
      " │    │      Pow      │      Pow         Prod          Prod                      gamma                       gamma                   e_u                 e_u               e_u^(*)            e_u^(*)       \n",
      " │    │   ┌───┴───┐   │   ┌───┴───┐   ┌───┴────┐    ┌───┴──────┐         ┌─────────┼───────┐         ┌─────────┼────────┐      ┌──────┼───────┐    ┌──────┼───────┐    ┌──────┼──────┐    ┌──────┼───────┐   \n",
      "-1/2  i   e       2   -1 m_e      2   -1      s_13 1/2      reg_prop %sigma_126 %eps_36 %del_171 %sigma_126 %eta_132 %del_172 %i_3 %del_171 (p_1) %k_3 %del_172 (p_2) %l_3 %eps_36 (p_3) %i_5 %eta_132 (p_4)\n",
      "\n"
     ]
    }
   ],
   "source": [
    "# this is how it is exported from the cpp program\n",
    "expr_raw = \"Prod;(;-1/2;i;Pow;(;e;2;);Pow;(;Sum;(;Pow;(;m_e;2;);Prod;(;-1;s_13;);Prod;(;1/2;reg_prop;););-1;);gamma_{+%\\sigma_126,%eps_36,%del_171};gamma_{%\\sigma_126,%eta_132,%del_172};e_{i_3,%del_171}(p_1)_u;e_{k_3,%del_172}(p_2)_u;e_{l_3,%eps_36}(p_3)_u^(*);e_{i_5,%eta_132}(p_4)_u^(*);)\"\n",
    "tree = raw_ampl_to_tree(expr_raw)\n",
    "tree.pretty_print(unicodelines=True, abbreviate=False)"
   ]
  },
  {
   "cell_type": "markdown",
   "metadata": {},
   "source": [
    "The indices like `%sigma_126` are not nice.\n",
    "They can be renamed like this:"
   ]
  },
  {
   "cell_type": "code",
   "execution_count": 3,
   "metadata": {},
   "outputs": [
    {
     "name": "stdout",
     "output_type": "stream",
     "text": [
      "                                                                                              Prod                                                                                          \n",
      " ┌────┬───────┬───────────┬─────────────────────────────────────────────────────┬──────────────┴───────┬──────────────────┬─────────────────┬──────────────────┬──────────────────┐          \n",
      " │    │       │          Pow                                                    │                      │                  │                 │                  │                  │         \n",
      " │    │       │       ┌───┴───────────┐                                         │                      │                  │                 │                  │                  │          \n",
      " │    │       │       │              Sum                                        │                      │                  │                 │                  │                  │         \n",
      " │    │       │       │       ┌───────┴───┬─────────────┐                       │                      │                  │                 │                  │                  │          \n",
      " │    │      Pow      │      Pow         Prod          Prod                   gamma                  gamma               e_u               e_u              e_u^(*)            e_u^(*)      \n",
      " │    │   ┌───┴───┐   │   ┌───┴───┐   ┌───┴────┐    ┌───┴──────┐        ┌───────┼──────┐       ┌───────┼──────┐     ┌─────┼──────┐    ┌─────┼──────┐    ┌──────┼──────┐    ┌──────┼──────┐   \n",
      "-1/2  i   e       2   -1 m_e      2   -1      s_13 1/2      reg_prop %sigma_0 %eps_0 %del_0 %sigma_0 %eta_0 %del_1 %i_0 %del_0 (p_1) %k_0 %del_1 (p_2) %l_0  %eps_0 (p_3) %i_1  %eta_0 (p_4)\n",
      "\n"
     ]
    }
   ],
   "source": [
    "tree_renamed = rename_indices(tree)\n",
    "tree_renamed.pretty_print(unicodelines=True, abbreviate=False)"
   ]
  },
  {
   "cell_type": "markdown",
   "metadata": {},
   "source": [
    "# Explanation of parts"
   ]
  },
  {
   "cell_type": "markdown",
   "metadata": {},
   "source": [
    "## Products and sums"
   ]
  },
  {
   "cell_type": "code",
   "execution_count": 4,
   "metadata": {},
   "outputs": [
    {
     "name": "stdout",
     "output_type": "stream",
     "text": [
      "            Prod                \n",
      " ┌───┬───────┼────────────┐      \n",
      " │   │      Sum          Pow    \n",
      " │   │   ┌───┼────┐   ┌───┴───┐  \n",
      "1/9  i   a   b    c   e       3 \n",
      "\n"
     ]
    }
   ],
   "source": [
    "expr_raw = \"Prod;(;1/9;Sum;(;a;b;c;);i;Pow;(;e;3;);)\"\n",
    "tree = raw_ampl_to_tree(expr_raw)\n",
    "tree.pretty_print(unicodelines=True)"
   ]
  },
  {
   "cell_type": "markdown",
   "metadata": {},
   "source": [
    "## Indices"
   ]
  },
  {
   "cell_type": "markdown",
   "metadata": {},
   "source": [
    "In MARTY indices have a % in front and I am keeping this, since I think it's a good idea.\n",
    "\n",
    "$\\gamma^a_{bc}$  turns into a subtree where `gamma` is the node and a, b, c are the leaves.  \n",
    "Similar for the basis functions:  \n",
    "- $e_u^{i, \\delta}(p_1)$ turns into a subtree where `e_u` is the node and `i`, `delta` and `p_1` are the leaves.\n",
    "- if there is a complex conjugate, $e_u^{i, \\delta}(p_1)^*$  then the star is added to the node name.\n",
    "\n",
    "For momenta only the Lorentz index is made to a leaf, not the number, i.e.\n",
    "$p_1^\\mu$ becomes `p_1` with `%mu` as leaf."
   ]
  },
  {
   "cell_type": "code",
   "execution_count": 5,
   "metadata": {},
   "outputs": [
    {
     "name": "stdout",
     "output_type": "stream",
     "text": [
      "    gamma    \n",
      " ┌────┼────┐  \n",
      " %a   %b   %c\n",
      "\n",
      "            gamma           \n",
      "    ┌─────────┼────────┐     \n",
      "%sigma_126 %eta_132 %del_172\n",
      "\n",
      "       e_u         \n",
      " ┌──────┼───────┐   \n",
      "%i_3 %del_171 (p_1)\n",
      "\n",
      "p_1\n",
      " │  \n",
      "%mu\n",
      "\n"
     ]
    }
   ],
   "source": [
    "expr_1 = \"gamma_{a,b,c}\"\n",
    "expr_2 = \"gamma_{%\\\\sigma_126,%eta_132,%del_172}\"\n",
    "expr_3 = \"e_{i_3,%del_171}(p_1)_u\"\n",
    "expr_4 = \"p_1_mu\"\n",
    "subscripts_to_subtree(expr_1).pretty_print(unicodelines=True)\n",
    "subscripts_to_subtree(expr_2).pretty_print(unicodelines=True)\n",
    "subscripts_to_subtree(expr_3).pretty_print(unicodelines=True)\n",
    "subscripts_to_subtree(expr_4).pretty_print(unicodelines=True)"
   ]
  },
  {
   "cell_type": "code",
   "execution_count": 6,
   "metadata": {},
   "outputs": [
    {
     "name": "stdout",
     "output_type": "stream",
     "text": [
      "        Sum          \n",
      " ┌───────┴────┐       \n",
      " │          gamma    \n",
      " │   ┌────────┼────┐  \n",
      " 1   %a       %b   %c\n",
      "\n",
      "               Sum                  \n",
      " ┌──────────────┴─────┐              \n",
      " │                  gamma           \n",
      " │      ┌─────────────┼────────┐     \n",
      " 1  %sigma_126     %eta_132 %del_172\n",
      "\n",
      "         Sum               \n",
      " ┌────────┴─────┐           \n",
      " │             e_u         \n",
      " │   ┌──────────┼───────┐   \n",
      " 1  %i_3     %del_171 (p_1)\n",
      "\n"
     ]
    }
   ],
   "source": [
    "# in a full expression this is done automatically\n",
    "\n",
    "expr_1 = \"Sum;(;1;gamma_{a,b,c};)\"\n",
    "expr_2 = \"Sum;(;1;gamma_{%\\\\sigma_126,%eta_132,%del_172};)\"\n",
    "expr_3 = \"Sum;(;1;e_{i_3,%del_171}(p_1)_u;)\"\n",
    "tree_1 = raw_ampl_to_tree(expr_1)\n",
    "tree_2 = raw_ampl_to_tree(expr_2)\n",
    "tree_3 = raw_ampl_to_tree(expr_3)\n",
    "tree_1.pretty_print(unicodelines=True)\n",
    "tree_2.pretty_print(unicodelines=True)\n",
    "tree_3.pretty_print(unicodelines=True)"
   ]
  },
  {
   "cell_type": "code",
   "execution_count": 7,
   "metadata": {},
   "outputs": [
    {
     "name": "stdout",
     "output_type": "stream",
     "text": [
      "         Sum           \n",
      " ┌────────┴────┐        \n",
      " │           gamma     \n",
      " │   ┌─────────┼────┐   \n",
      " 1  %a_0      %b_0 %c_0\n",
      "\n"
     ]
    }
   ],
   "source": [
    "# renaming indices\n",
    "rename_indices(tree_1).pretty_print(unicodelines=True)"
   ]
  },
  {
   "cell_type": "markdown",
   "metadata": {},
   "source": [
    "# Expanding Trees\n",
    "The tree can be \"expanded\" if it is needed that a node has a fixed number of leaves, e.g.\n",
    "if `Prod` should only always have exactly two arguments, then this expands it.\n",
    "The inverse I call \"contract\". (Not sure if the word \"contract\" is used with trees in a different manner, though.)"
   ]
  },
  {
   "cell_type": "code",
   "execution_count": 8,
   "metadata": {},
   "outputs": [
    {
     "name": "stdout",
     "output_type": "stream",
     "text": [
      "            Prod                \n",
      " ┌───┬───────┼────────────┐      \n",
      " │   │      Sum          Pow    \n",
      " │   │   ┌───┼────┐   ┌───┴───┐  \n",
      "1/9  i   a   b    c   e       3 \n",
      "\n",
      "    Prod                              \n",
      " ┌───┴────────────┐                    \n",
      " │               Prod                 \n",
      " │        ┌───────┴────────┐           \n",
      " │       Sum              Prod        \n",
      " │   ┌────┴───┐        ┌───┴────┐      \n",
      " │   │       Sum       │       Pow    \n",
      " │   │    ┌───┴───┐    │   ┌────┴───┐  \n",
      "1/9  a    b       c    i   e        3 \n",
      "\n",
      "            Prod                \n",
      " ┌───┬───────┼────────────┐      \n",
      " │   │      Sum          Pow    \n",
      " │   │   ┌───┼────┐   ┌───┴───┐  \n",
      "1/9  i   a   b    c   e       3 \n",
      "\n"
     ]
    }
   ],
   "source": [
    "expr_raw = \"Prod;(;1/9;Sum;(;a;b;c;);i;Pow;(;e;3;);)\"\n",
    "tree = raw_ampl_to_tree(expr_raw)\n",
    "tree.pretty_print(unicodelines=True)\n",
    "tree = expand_tree(tree)\n",
    "tree.pretty_print(unicodelines=True)\n",
    "tree = contract_tree(tree, add_opening_bracket=False)\n",
    "tree.pretty_print(unicodelines=True)"
   ]
  },
  {
   "cell_type": "code",
   "execution_count": null,
   "metadata": {},
   "outputs": [],
   "source": []
  }
 ],
 "metadata": {
  "kernelspec": {
   "display_name": "symba",
   "language": "python",
   "name": "symba"
  },
  "language_info": {
   "codemirror_mode": {
    "name": "ipython",
    "version": 3
   },
   "file_extension": ".py",
   "mimetype": "text/x-python",
   "name": "python",
   "nbconvert_exporter": "python",
   "pygments_lexer": "ipython3",
   "version": "3.10.8"
  },
  "orig_nbformat": 4,
  "vscode": {
   "interpreter": {
    "hash": "e7370f93d1d0cde622a1f8e1c04877d8463912d04d973331ad4851f04de6915a"
   }
  }
 },
 "nbformat": 4,
 "nbformat_minor": 2
}
