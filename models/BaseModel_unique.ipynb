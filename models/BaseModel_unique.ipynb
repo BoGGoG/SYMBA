{
 "cells": [
  {
   "cell_type": "markdown",
   "metadata": {},
   "source": [
    "# Base Model QED\n",
    "This is the base setup for working on QED data.\n",
    "It shows how to import the data and how to convert the expressions into different formats."
   ]
  },
  {
   "cell_type": "code",
   "execution_count": 1,
   "metadata": {},
   "outputs": [
    {
     "name": "stderr",
     "output_type": "stream",
     "text": [
      "2022-11-14 15:52:03.685003: I tensorflow/core/platform/cpu_feature_guard.cc:193] This TensorFlow binary is optimized with oneAPI Deep Neural Network Library (oneDNN) to use the following CPU instructions in performance-critical operations:  AVX2 AVX_VNNI FMA\n",
      "To enable them in other operations, rebuild TensorFlow with the appropriate compiler flags.\n",
      "2022-11-14 15:52:03.829330: I tensorflow/core/util/util.cc:169] oneDNN custom operations are on. You may see slightly different numerical results due to floating-point round-off errors from different computation orders. To turn them off, set the environment variable `TF_ENABLE_ONEDNN_OPTS=0`.\n",
      "2022-11-14 15:52:03.889843: E tensorflow/stream_executor/cuda/cuda_blas.cc:2981] Unable to register cuBLAS factory: Attempting to register factory for plugin cuBLAS when one has already been registered\n",
      "2022-11-14 15:52:04.470806: W tensorflow/stream_executor/platform/default/dso_loader.cc:64] Could not load dynamic library 'libnvinfer.so.7'; dlerror: libnvinfer.so.7: cannot open shared object file: No such file or directory; LD_LIBRARY_PATH: /home/boggog/Documents/marty-public/marty/lib:/usr/local/lib::/home/boggog/anaconda3/lib/:/usr/local/lib:/home/boggog/anaconda3/lib/:/home/boggog/anaconda3/lib/\n",
      "2022-11-14 15:52:04.470850: W tensorflow/stream_executor/platform/default/dso_loader.cc:64] Could not load dynamic library 'libnvinfer_plugin.so.7'; dlerror: libnvinfer_plugin.so.7: cannot open shared object file: No such file or directory; LD_LIBRARY_PATH: /home/boggog/Documents/marty-public/marty/lib:/usr/local/lib::/home/boggog/anaconda3/lib/:/usr/local/lib:/home/boggog/anaconda3/lib/:/home/boggog/anaconda3/lib/\n",
      "2022-11-14 15:52:04.470854: W tensorflow/compiler/tf2tensorrt/utils/py_utils.cc:38] TF-TRT Warning: Cannot dlopen some TensorRT libraries. If you would like to use Nvidia GPU with TensorRT, please make sure the missing libraries mentioned above are installed properly.\n"
     ]
    }
   ],
   "source": [
    "from icecream import ic\n",
    "import sympy as sp\n",
    "from itertools import (takewhile,repeat)\n",
    "from tqdm import tqdm\n",
    "import numpy as np\n",
    "import sys\n",
    "import os\n",
    "import importlib.util\n",
    "from sklearn.model_selection import train_test_split\n",
    "import matplotlib.pyplot as plt\n",
    "from tqdm.notebook import tqdm\n",
    "from tensorflow.keras.layers import TextVectorization\n",
    "from tensorflow.keras import layers\n",
    "import tensorflow as tf\n",
    "from tensorflow import keras\n",
    "import pickle"
   ]
  },
  {
   "cell_type": "code",
   "execution_count": 2,
   "metadata": {},
   "outputs": [
    {
     "name": "stderr",
     "output_type": "stream",
     "text": [
      "2022-11-14 15:52:06.033445: I tensorflow/stream_executor/cuda/cuda_gpu_executor.cc:980] successful NUMA node read from SysFS had negative value (-1), but there must be at least one NUMA node, so returning NUMA node zero\n",
      "2022-11-14 15:52:06.037215: I tensorflow/stream_executor/cuda/cuda_gpu_executor.cc:980] successful NUMA node read from SysFS had negative value (-1), but there must be at least one NUMA node, so returning NUMA node zero\n",
      "2022-11-14 15:52:06.037357: I tensorflow/stream_executor/cuda/cuda_gpu_executor.cc:980] successful NUMA node read from SysFS had negative value (-1), but there must be at least one NUMA node, so returning NUMA node zero\n"
     ]
    },
    {
     "data": {
      "text/plain": [
       "[PhysicalDevice(name='/physical_device:GPU:0', device_type='GPU')]"
      ]
     },
     "execution_count": 2,
     "metadata": {},
     "output_type": "execute_result"
    }
   ],
   "source": [
    "tf.config.list_physical_devices('GPU')"
   ]
  },
  {
   "cell_type": "code",
   "execution_count": 3,
   "metadata": {},
   "outputs": [],
   "source": [
    "if \"..\" not in sys.path:\n",
    "    sys.path.insert(0, \"..\")"
   ]
  },
  {
   "cell_type": "code",
   "execution_count": 4,
   "metadata": {},
   "outputs": [],
   "source": [
    "import data_preprocessing.tree.sympy_to_tree as sp2tree\n",
    "from data_preprocessing.sympy_prefix.source.SympyPrefix import prefix_to_sympy, sympy_to_prefix, sympy_to_hybrid_prefix, hybrid_prefix_to_sympy\n"
   ]
  },
  {
   "cell_type": "code",
   "execution_count": 8,
   "metadata": {},
   "outputs": [],
   "source": [
    "import re\n",
    "def fix_i(expr_str):\n",
    "    reg_ex = \"[^a-z]i[^a-z,^\\d]\"\n",
    "    replaced = re.sub(reg_ex, fix_i_match, expr_str)\n",
    "    return replaced\n",
    "    \n",
    "def fix_i_match(matchobj):\n",
    "    \"\"\"\n",
    "    i --> I\n",
    "    \"\"\"\n",
    "    match = matchobj.group(0)\n",
    "    return match.replace(\"i\", \"I\")\n",
    "\n",
    "\n",
    "def rawincount(filename):\n",
    "    \"\"\"count numer of lines in a file. \n",
    "    From https://stackoverflow.com/questions/845058/how-to-get-line-count-of-a-large-file-cheaply-in-python\n",
    "    \"\"\"\n",
    "    f = open(filename, 'rb')\n",
    "    bufgen = takewhile(lambda x: x, (f.raw.read(1024*1024) for _ in repeat(None)))\n",
    "    return sum( buf.count(b'\\n') for buf in bufgen )\n",
    "\n",
    "def load_raw_amplitudes(filename, max_lines=-1):\n",
    "    \"\"\"\n",
    "    Loading raw amplitudes from filename.\n",
    "    \n",
    "    Options:\n",
    "        - `max_lines`: maximum number of lines to read\n",
    "    \"\"\"\n",
    "    print(\"Loading amplitudes from \"+ filename)\n",
    "    if max_lines > 0:\n",
    "        number_of_lines = max_lines\n",
    "    else:\n",
    "        number_of_lines = rawincount(filename)\n",
    "    data = [0 for i in range(number_of_lines-1)]\n",
    "    pbar = tqdm(total=number_of_lines, leave=False)\n",
    "    with open(filename) as f:\n",
    "        line = f.readline()\n",
    "        ctr = 0\n",
    "        data[ctr] = line.replace(\"\\n\", \"\")\n",
    "        while line:\n",
    "            line = f.readline()\n",
    "            if line != \"\":\n",
    "                data[ctr] = line.replace(\"\\n\", \"\")\n",
    "            pbar.update(1)\n",
    "            ctr = ctr + 1\n",
    "            if ctr >= number_of_lines:\n",
    "                break\n",
    "    pbar.close()\n",
    "    return data\n",
    "\n",
    "\n",
    "def load_squared_amplitudes(filename, max_lines=-1):\n",
    "    \"\"\"\n",
    "    Loading squared amplitudes from filename and parsing into sympy.\n",
    "    All squared amplitudes should be exportet from sympy and thus be readable\n",
    "    without any preprocessing.\n",
    "\n",
    "    Options:\n",
    "        - `max_lines`: maximum number of lines to read\n",
    "\n",
    "    Returns:\n",
    "        list of squared amplitudes, each as a sympy expression\n",
    "    \"\"\"\n",
    "    print(\"Loading squared amplitudes from \"+ filename)\n",
    "    if max_lines > 0:\n",
    "        number_of_lines = max_lines\n",
    "    else:\n",
    "        number_of_lines = rawincount(filename)\n",
    "    data = [0 for i in range(number_of_lines-1)]\n",
    "    pbar = tqdm(total=number_of_lines, leave=False)\n",
    "    with open(filename) as f:\n",
    "       line = f.readline()\n",
    "       line_sp = sp.sympify(line.strip())\n",
    "       ctr = 0\n",
    "       data[ctr] = line_sp\n",
    "       while line:\n",
    "            line = f.readline()\n",
    "            if line != \"\":\n",
    "                line = line.strip()\n",
    "                line = fix_i(line)\n",
    "                line_sp = sp.sympify(line.strip())\n",
    "                data[ctr] = line_sp\n",
    "            pbar.update(1)\n",
    "            ctr = ctr + 1\n",
    "            if ctr >= number_of_lines:\n",
    "                break\n",
    "    pbar.close()\n",
    "    return data"
   ]
  },
  {
   "cell_type": "code",
   "execution_count": 9,
   "metadata": {},
   "outputs": [
    {
     "name": "stdout",
     "output_type": "stream",
     "text": [
      "Loading amplitudes from ../data_unique.nosync/QED_amplitudes_TreeLevel_1to2.txt\n"
     ]
    },
    {
     "data": {
      "application/vnd.jupyter.widget-view+json": {
       "model_id": "10565fe77b354982b9bbd30acdc09407",
       "version_major": 2,
       "version_minor": 0
      },
      "text/plain": [
       "  0%|          | 0/6 [00:00<?, ?it/s]"
      ]
     },
     "metadata": {},
     "output_type": "display_data"
    },
    {
     "name": "stdout",
     "output_type": "stream",
     "text": [
      "Loading squared amplitudes from ../data_unique.nosync/QED_sqamplitudes_TreeLevel_1to2.txt\n"
     ]
    },
    {
     "data": {
      "application/vnd.jupyter.widget-view+json": {
       "model_id": "623cab22b10644ac90f0fa6bae0c84ae",
       "version_major": 2,
       "version_minor": 0
      },
      "text/plain": [
       "  0%|          | 0/6 [00:00<?, ?it/s]"
      ]
     },
     "metadata": {},
     "output_type": "display_data"
    },
    {
     "name": "stdout",
     "output_type": "stream",
     "text": [
      "Loading amplitudes from ../data_unique.nosync/QED_amplitudes_TreeLevel_2to1.txt\n"
     ]
    },
    {
     "data": {
      "application/vnd.jupyter.widget-view+json": {
       "model_id": "4dc313443cf948d5a7b33a25222e86e9",
       "version_major": 2,
       "version_minor": 0
      },
      "text/plain": [
       "  0%|          | 0/6 [00:00<?, ?it/s]"
      ]
     },
     "metadata": {},
     "output_type": "display_data"
    },
    {
     "name": "stdout",
     "output_type": "stream",
     "text": [
      "Loading squared amplitudes from ../data_unique.nosync/QED_sqamplitudes_TreeLevel_2to1.txt\n"
     ]
    },
    {
     "data": {
      "application/vnd.jupyter.widget-view+json": {
       "model_id": "1dc0d1bd5d2447f5ae7ed793676c8f0a",
       "version_major": 2,
       "version_minor": 0
      },
      "text/plain": [
       "  0%|          | 0/6 [00:00<?, ?it/s]"
      ]
     },
     "metadata": {},
     "output_type": "display_data"
    },
    {
     "name": "stdout",
     "output_type": "stream",
     "text": [
      "Loading amplitudes from ../data_unique.nosync/QED_amplitudes_TreeLevel_2to2.txt\n"
     ]
    },
    {
     "data": {
      "application/vnd.jupyter.widget-view+json": {
       "model_id": "81a1aa1c53d14c6e845d2160fe5a3949",
       "version_major": 2,
       "version_minor": 0
      },
      "text/plain": [
       "  0%|          | 0/28 [00:00<?, ?it/s]"
      ]
     },
     "metadata": {},
     "output_type": "display_data"
    },
    {
     "name": "stdout",
     "output_type": "stream",
     "text": [
      "Loading squared amplitudes from ../data_unique.nosync/QED_sqamplitudes_TreeLevel_2to2.txt\n"
     ]
    },
    {
     "data": {
      "application/vnd.jupyter.widget-view+json": {
       "model_id": "d7669ac1d2dc4c34ab7eb6f7fa084dc9",
       "version_major": 2,
       "version_minor": 0
      },
      "text/plain": [
       "  0%|          | 0/28 [00:00<?, ?it/s]"
      ]
     },
     "metadata": {},
     "output_type": "display_data"
    },
    {
     "name": "stdout",
     "output_type": "stream",
     "text": [
      "Loading amplitudes from ../data_unique.nosync/QED_amplitudes_TreeLevel_2to3.txt\n"
     ]
    },
    {
     "data": {
      "application/vnd.jupyter.widget-view+json": {
       "model_id": "0ad4aaadca514ae0945bea7c7fe1af75",
       "version_major": 2,
       "version_minor": 0
      },
      "text/plain": [
       "  0%|          | 0/128 [00:00<?, ?it/s]"
      ]
     },
     "metadata": {},
     "output_type": "display_data"
    },
    {
     "name": "stdout",
     "output_type": "stream",
     "text": [
      "Loading squared amplitudes from ../data_unique.nosync/QED_sqamplitudes_TreeLevel_2to3.txt\n"
     ]
    },
    {
     "data": {
      "application/vnd.jupyter.widget-view+json": {
       "model_id": "1e93c02b392a4ae3a1b59c2e089d68ec",
       "version_major": 2,
       "version_minor": 0
      },
      "text/plain": [
       "  0%|          | 0/128 [00:00<?, ?it/s]"
      ]
     },
     "metadata": {},
     "output_type": "display_data"
    },
    {
     "name": "stdout",
     "output_type": "stream",
     "text": [
      "Loading amplitudes from ../data_unique.nosync/QED_amplitudes_TreeLevel_3to2.txt\n"
     ]
    },
    {
     "data": {
      "application/vnd.jupyter.widget-view+json": {
       "model_id": "bc192447bc944a768d7ce1b4d63540d5",
       "version_major": 2,
       "version_minor": 0
      },
      "text/plain": [
       "  0%|          | 0/128 [00:00<?, ?it/s]"
      ]
     },
     "metadata": {},
     "output_type": "display_data"
    },
    {
     "name": "stdout",
     "output_type": "stream",
     "text": [
      "Loading squared amplitudes from ../data_unique.nosync/QED_sqamplitudes_TreeLevel_3to2.txt\n"
     ]
    },
    {
     "data": {
      "application/vnd.jupyter.widget-view+json": {
       "model_id": "cf5988c0baf7464d9253687f04ad790e",
       "version_major": 2,
       "version_minor": 0
      },
      "text/plain": [
       "  0%|          | 0/128 [00:00<?, ?it/s]"
      ]
     },
     "metadata": {},
     "output_type": "display_data"
    },
    {
     "name": "stdout",
     "output_type": "stream",
     "text": [
      "Loading amplitudes from ../data_unique.nosync/QED_amplitudes_TreeLevel_3to3.txt\n"
     ]
    },
    {
     "data": {
      "application/vnd.jupyter.widget-view+json": {
       "model_id": "41580d41fabd44ba9a9b6c5d2ba60c08",
       "version_major": 2,
       "version_minor": 0
      },
      "text/plain": [
       "  0%|          | 0/1040 [00:00<?, ?it/s]"
      ]
     },
     "metadata": {},
     "output_type": "display_data"
    },
    {
     "name": "stdout",
     "output_type": "stream",
     "text": [
      "Loading squared amplitudes from ../data_unique.nosync/QED_sqamplitudes_TreeLevel_3to3.txt\n"
     ]
    },
    {
     "data": {
      "application/vnd.jupyter.widget-view+json": {
       "model_id": "6912c6077ac04233a6b37c7f2970586b",
       "version_major": 2,
       "version_minor": 0
      },
      "text/plain": [
       "  0%|          | 0/1040 [00:00<?, ?it/s]"
      ]
     },
     "metadata": {},
     "output_type": "display_data"
    }
   ],
   "source": [
    "data_folder = \"../data_unique.nosync/\"\n",
    "amplitudes_filename_start = \"QED_amplitudes_TreeLevel_\"\n",
    "sqamplitudes_filename_start = \"QED_sqamplitudes_TreeLevel_\"\n",
    "processes = [\"1to2\", \"2to1\", \"2to2\", \"2to3\", \"3to2\", \"3to3\"]\n",
    "max_lines = -1\n",
    "\n",
    "amplitudes = []\n",
    "sqamplitudes = []\n",
    "for process in processes:\n",
    "    ampl_f = data_folder + amplitudes_filename_start + process + \".txt\"\n",
    "    sqampl_f = data_folder + sqamplitudes_filename_start + process + \".txt\"\n",
    "    amplitudes_process = load_raw_amplitudes(ampl_f, max_lines=max_lines)\n",
    "    sqamplitudes_process = load_squared_amplitudes(sqampl_f, max_lines=max_lines)\n",
    "    amplitudes.append(amplitudes_process)\n",
    "    sqamplitudes.append(sqamplitudes_process)"
   ]
  },
  {
   "cell_type": "markdown",
   "metadata": {},
   "source": [
    "We will keep the different amplitudes separated for now, so `amplitudes` has the form\n",
    "`[multiplicity, i]` where `multiplicity = [\"1to2\", \"2to1\", ...]`."
   ]
  },
  {
   "cell_type": "code",
   "execution_count": 11,
   "metadata": {},
   "outputs": [
    {
     "name": "stdout",
     "output_type": "stream",
     "text": [
      "6\n",
      "6\n",
      "5\n",
      "5\n",
      "5\n",
      "5\n",
      "27\n",
      "27\n",
      "127\n",
      "127\n",
      "127\n",
      "127\n",
      "1039\n",
      "1039\n"
     ]
    }
   ],
   "source": [
    "# the amplitudes are in prefix format\n",
    "print(len(amplitudes))\n",
    "print(len(sqamplitudes))\n",
    "print(len(amplitudes[0]))\n",
    "print(len(sqamplitudes[0]))\n",
    "print(len(amplitudes[1]))\n",
    "print(len(sqamplitudes[1]))\n",
    "print(len(amplitudes[2]))\n",
    "print(len(sqamplitudes[2]))\n",
    "print(len(amplitudes[3]))\n",
    "print(len(sqamplitudes[3]))\n",
    "print(len(amplitudes[4]))\n",
    "print(len(sqamplitudes[4]))\n",
    "print(len(amplitudes[5]))\n",
    "print(len(sqamplitudes[5]))"
   ]
  },
  {
   "cell_type": "code",
   "execution_count": 12,
   "metadata": {},
   "outputs": [
    {
     "data": {
      "text/plain": [
       "'Prod,-1,Prod,i,Prod,e,Prod,gamma,alpha_2,alpha_0,alpha_1,Prod,A^(*),i_2,alpha_2,(p_3),Prod,ee,i_0,alpha_1,(p_1)_u,ee^(*),i_1,alpha_0,(p_2)_u'"
      ]
     },
     "execution_count": 12,
     "metadata": {},
     "output_type": "execute_result"
    }
   ],
   "source": [
    "amplitudes[0][0]"
   ]
  },
  {
   "cell_type": "code",
   "execution_count": 13,
   "metadata": {},
   "outputs": [
    {
     "data": {
      "text/latex": [
       "$\\displaystyle - 4 e^{2} \\cdot \\left(2 m_{e}^{2} - s_{12}\\right)$"
      ],
      "text/plain": [
       "-4*e**2*(2*m_e**2 - s_12)"
      ]
     },
     "execution_count": 13,
     "metadata": {},
     "output_type": "execute_result"
    }
   ],
   "source": [
    "sqamplitudes[0][0]"
   ]
  },
  {
   "cell_type": "code",
   "execution_count": 15,
   "metadata": {},
   "outputs": [
    {
     "data": {
      "application/vnd.jupyter.widget-view+json": {
       "model_id": "5b10ed33aafe49abb7556fc9219d8477",
       "version_major": 2,
       "version_minor": 0
      },
      "text/plain": [
       "  0%|          | 0/5 [00:00<?, ?it/s]"
      ]
     },
     "metadata": {},
     "output_type": "display_data"
    },
    {
     "data": {
      "application/vnd.jupyter.widget-view+json": {
       "model_id": "a7ed41f624804953bc16376389c8fbab",
       "version_major": 2,
       "version_minor": 0
      },
      "text/plain": [
       "  0%|          | 0/5 [00:00<?, ?it/s]"
      ]
     },
     "metadata": {},
     "output_type": "display_data"
    },
    {
     "data": {
      "application/vnd.jupyter.widget-view+json": {
       "model_id": "5624c7e3d2374361bd3aaadc95cb815d",
       "version_major": 2,
       "version_minor": 0
      },
      "text/plain": [
       "  0%|          | 0/27 [00:00<?, ?it/s]"
      ]
     },
     "metadata": {},
     "output_type": "display_data"
    },
    {
     "data": {
      "application/vnd.jupyter.widget-view+json": {
       "model_id": "6f12a704c5ac48df8bc0a313d247da2e",
       "version_major": 2,
       "version_minor": 0
      },
      "text/plain": [
       "  0%|          | 0/127 [00:00<?, ?it/s]"
      ]
     },
     "metadata": {},
     "output_type": "display_data"
    },
    {
     "data": {
      "application/vnd.jupyter.widget-view+json": {
       "model_id": "4a708e0ae86a4cd3831663cd5dcbb0b6",
       "version_major": 2,
       "version_minor": 0
      },
      "text/plain": [
       "  0%|          | 0/127 [00:00<?, ?it/s]"
      ]
     },
     "metadata": {},
     "output_type": "display_data"
    },
    {
     "data": {
      "application/vnd.jupyter.widget-view+json": {
       "model_id": "4d58f5639fa64091bccd752ced8473db",
       "version_major": 2,
       "version_minor": 0
      },
      "text/plain": [
       "  0%|          | 0/1039 [00:00<?, ?it/s]"
      ]
     },
     "metadata": {},
     "output_type": "display_data"
    },
    {
     "data": {
      "text/plain": [
       "array(['mul', 's-', '4', 'mul', 'pow', 'e', '2', 'add', 'mul', 's-', '1',\n",
       "       's_12', 'mul', '2', 'pow', 'm_e', '2'], dtype='<U4')"
      ]
     },
     "execution_count": 15,
     "metadata": {},
     "output_type": "execute_result"
    }
   ],
   "source": [
    "# convert squared ampmlitudes to prefix\n",
    "ctr = 0\n",
    "def try_sympy_to_prefix(expr):\n",
    "    global ctr\n",
    "    ctr = ctr + 1\n",
    "    try:\n",
    "        return sympy_to_prefix(expr)\n",
    "    except:\n",
    "        print(\"problem with:\", expr, \"at ctr =\", ctr)\n",
    "        return 0\n",
    "sqampl_prefix = [[try_sympy_to_prefix(a) for a in tqdm(sq, leave=False)] for sq in sqamplitudes]\n",
    "np.array(sqampl_prefix[0][0])"
   ]
  },
  {
   "cell_type": "code",
   "execution_count": 16,
   "metadata": {},
   "outputs": [
    {
     "data": {
      "application/vnd.jupyter.widget-view+json": {
       "model_id": "3eb7726f728c47618d60fe0b64e485ca",
       "version_major": 2,
       "version_minor": 0
      },
      "text/plain": [
       "  0%|          | 0/5 [00:00<?, ?it/s]"
      ]
     },
     "metadata": {},
     "output_type": "display_data"
    },
    {
     "data": {
      "application/vnd.jupyter.widget-view+json": {
       "model_id": "225d2083d54c4d4f94312d8f4288341c",
       "version_major": 2,
       "version_minor": 0
      },
      "text/plain": [
       "  0%|          | 0/5 [00:00<?, ?it/s]"
      ]
     },
     "metadata": {},
     "output_type": "display_data"
    },
    {
     "data": {
      "application/vnd.jupyter.widget-view+json": {
       "model_id": "b9ce5f0bf05c40cda674b099c6fe604a",
       "version_major": 2,
       "version_minor": 0
      },
      "text/plain": [
       "  0%|          | 0/27 [00:00<?, ?it/s]"
      ]
     },
     "metadata": {},
     "output_type": "display_data"
    },
    {
     "data": {
      "application/vnd.jupyter.widget-view+json": {
       "model_id": "5db697c61dc94652883ebe987eb961cf",
       "version_major": 2,
       "version_minor": 0
      },
      "text/plain": [
       "  0%|          | 0/127 [00:00<?, ?it/s]"
      ]
     },
     "metadata": {},
     "output_type": "display_data"
    },
    {
     "data": {
      "application/vnd.jupyter.widget-view+json": {
       "model_id": "2a2129b959b04b36aafefea2c6c54b4f",
       "version_major": 2,
       "version_minor": 0
      },
      "text/plain": [
       "  0%|          | 0/127 [00:00<?, ?it/s]"
      ]
     },
     "metadata": {},
     "output_type": "display_data"
    },
    {
     "data": {
      "application/vnd.jupyter.widget-view+json": {
       "model_id": "9f234894fceb4836a4e84e2541ad76b7",
       "version_major": 2,
       "version_minor": 0
      },
      "text/plain": [
       "  0%|          | 0/1039 [00:00<?, ?it/s]"
      ]
     },
     "metadata": {},
     "output_type": "display_data"
    },
    {
     "data": {
      "text/latex": [
       "$\\displaystyle \\frac{8 e^{4} \\cdot \\left(2 m_{e}^{4} + m_{e}^{2} \\left(- s_{13} - s_{24}\\right) + s_{12} s_{34} + s_{14} s_{23}\\right)}{\\left(2 m_{e}^{2} + reg_{prop} - 2 s_{13}\\right)^{2}}$"
      ],
      "text/plain": [
       "8*e**4*(2*m_e**4 + m_e**2*(-s_13 - s_24) + s_12*s_34 + s_14*s_23)/(2*m_e**2 + reg_prop - 2*s_13)**2"
      ]
     },
     "metadata": {},
     "output_type": "display_data"
    },
    {
     "name": "stdout",
     "output_type": "stream",
     "text": [
      "                                                              mul                                                                              \n",
      " ┌───────┬─────────────┬───────────────────────────────────────┴──────────────────────────────────┐                                             \n",
      " │       │            pow                                                                        add                                           \n",
      " │       │       ┌─────┴──────────────┐                        ┌────────────────┬─────────────┬───┴────────────────┐                            \n",
      " │       │       │                   add                       │                │             │                   mul                          \n",
      " │       │       │     ┌──────────┬───┴────────┐               │                │             │            ┌───────┴────────────┐               \n",
      " │       │       │     │          │           mul             mul               │             │            │                   add             \n",
      " │       │       │     │          │        ┌───┴───┐       ┌───┴───┐            │             │            │           ┌────────┴───────┐       \n",
      " │      pow      │     │         mul       │      pow      │      pow          mul           mul          pow         mul              mul     \n",
      " │   ┌───┴───┐   │     │      ┌───┴───┐    │   ┌───┴───┐   │   ┌───┴───┐   ┌────┴───┐    ┌────┴───┐    ┌───┴───┐   ┌───┴───┐        ┌───┴───┐   \n",
      " 8   e       4   -2 reg_prop  -2     s_13  2  m_e      2   2  m_e      4  s_12     s_34 s_14     s_23 m_e      2   -1     s_13      -1     s_24\n",
      "\n",
      "tree_to_sympy:\n"
     ]
    },
    {
     "data": {
      "text/latex": [
       "$\\displaystyle \\frac{8 e^{4} \\cdot \\left(2 m_{e}^{4} + m_{e}^{2} \\left(- s_{13} - s_{24}\\right) + s_{12} s_{34} + s_{14} s_{23}\\right)}{\\left(2 m_{e}^{2} + reg_{prop} - 2 s_{13}\\right)^{2}}$"
      ],
      "text/plain": [
       "8*e**4*(2*m_e**4 + m_e**2*(-s_13 - s_24) + s_12*s_34 + s_14*s_23)/(2*m_e**2 + reg_prop - 2*s_13)**2"
      ]
     },
     "metadata": {},
     "output_type": "display_data"
    }
   ],
   "source": [
    "# convert squared amplitudes to trees:\n",
    "ctr = 0\n",
    "def try_sympy_to_tree(expr):\n",
    "    global ctr\n",
    "    ctr = ctr + 1\n",
    "    try:\n",
    "        return sp2tree.sympy_to_tree(expr)\n",
    "    except:\n",
    "        print(\"problem with:\", expr, \"at ctr =\", ctr)\n",
    "        return 0\n",
    "sqampl_tree = [[try_sympy_to_tree(a) for a in tqdm(sq, leave=False)] for sq in sqamplitudes]\n",
    "display(sqamplitudes[2][0])\n",
    "sqampl_tree[2][0].pretty_print(unicodelines=True)\n",
    "\n",
    "# convert back\n",
    "print(\"tree_to_sympy:\")\n",
    "display(sp2tree.tree_to_sympy(sqampl_tree[2][0]))"
   ]
  },
  {
   "cell_type": "markdown",
   "metadata": {},
   "source": [
    "# Export everything\n",
    "Loading and converting takes quite long. Let's export everything for easy reloading."
   ]
  },
  {
   "cell_type": "code",
   "execution_count": 17,
   "metadata": {},
   "outputs": [],
   "source": [
    "export_folder = \"../data.nosync/2022-11-14/\"\n",
    "with open(export_folder+\"amplitudes.pickle\", \"wb\") as f:\n",
    "    pickle.dump(amplitudes, f)\n",
    "\n",
    "with open(export_folder+\"sqamplitudes.pickle\", \"wb\") as f:\n",
    "    pickle.dump(sqamplitudes, f)"
   ]
  },
  {
   "cell_type": "code",
   "execution_count": 18,
   "metadata": {},
   "outputs": [],
   "source": [
    "with open(export_folder+\"amplitudes.pickle\", \"rb\") as f:\n",
    "    amplitudes = pickle.load(f)\n",
    "    amplitudes = [[a.split(\",\") for a in amps] for amps in amplitudes]\n",
    "\n",
    "with open(export_folder+\"sqamplitudes.pickle\", \"rb\") as f:\n",
    "    sqamplitudes = pickle.load(f)"
   ]
  },
  {
   "cell_type": "markdown",
   "metadata": {},
   "source": [
    "# Prefix Model"
   ]
  },
  {
   "cell_type": "markdown",
   "metadata": {},
   "source": [
    "In this base model we will be using prefix notation for the amplitudes and squared amplitudes"
   ]
  },
  {
   "cell_type": "code",
   "execution_count": 19,
   "metadata": {},
   "outputs": [],
   "source": [
    "X_train = []\n",
    "X_test = []\n",
    "y_train = []\n",
    "y_test = []\n",
    "X_val = []\n",
    "y_val = []\n",
    "X_tmp = []\n",
    "y_tmp = []\n",
    "for a, s in zip(amplitudes, sqampl_prefix):\n",
    "    X_train_i, X_test_i, y_train_i, y_test_i = train_test_split(\n",
    "        a, s, test_size=0.1, random_state=42\n",
    "    )\n",
    "    X_train = X_train + X_train_i\n",
    "    X_tmp = X_tmp + X_test_i\n",
    "    y_train = y_train + y_train_i\n",
    "    y_tmp = y_tmp + y_test_i\n",
    "\n",
    "X_train_i, X_test_i, y_train_i, y_test_i = train_test_split(\n",
    "    X_tmp, y_tmp, test_size=0.5, random_state=42\n",
    ")\n",
    "X_val = X_val + X_train_i\n",
    "X_test = X_test + X_test_i\n",
    "y_val = y_val + y_train_i\n",
    "y_test = y_test + y_test_i\n",
    "\n",
    "del X_tmp, y_tmp"
   ]
  },
  {
   "cell_type": "code",
   "execution_count": 20,
   "metadata": {},
   "outputs": [
    {
     "name": "stdout",
     "output_type": "stream",
     "text": [
      "1195\n",
      "1195\n",
      "67\n",
      "67\n",
      "68\n",
      "68\n"
     ]
    }
   ],
   "source": [
    "print(len(X_train))\n",
    "print(len(y_train))\n",
    "print(len(X_val))\n",
    "print(len(y_val))\n",
    "print(len(X_test))\n",
    "print(len(y_test))\n"
   ]
  },
  {
   "cell_type": "code",
   "execution_count": 21,
   "metadata": {},
   "outputs": [
    {
     "data": {
      "image/png": "[encoded data removed]",
      "text/plain": [
       "<Figure size 432x288 with 1 Axes>"
      ]
     },
     "metadata": {},
     "output_type": "display_data"
    }
   ],
   "source": [
    "plt.hist([len(x) for x in X_train], bins=100);"
   ]
  },
  {
   "cell_type": "code",
   "execution_count": 22,
   "metadata": {},
   "outputs": [
    {
     "data": {
      "image/png": "[encoded data removed]",
      "text/plain": [
       "<Figure size 432x288 with 1 Axes>"
      ]
     },
     "metadata": {},
     "output_type": "display_data"
    }
   ],
   "source": [
    "plt.hist([len(y) for y in y_train], bins=100);"
   ]
  },
  {
   "cell_type": "markdown",
   "metadata": {},
   "source": [
    "Only use those X,y where both are at most `sequence_length` long."
   ]
  },
  {
   "cell_type": "code",
   "execution_count": 24,
   "metadata": {},
   "outputs": [
    {
     "name": "stdout",
     "output_type": "stream",
     "text": [
      "X okay: 0.7841004184100419\n",
      "y okay: 0.45523012552301256\n"
     ]
    }
   ],
   "source": [
    "vocab_size = 500\n",
    "sequence_length = 650\n",
    "batch_size = 1\n",
    "\n",
    "X_train_idx_okay = np.where([len(x) < sequence_length for x in X_train])[0]\n",
    "y_train_idx_okay = np.where([len(y) < sequence_length for y in y_train])[0]\n",
    "X_val_idx_okay = np.where([len(x) < sequence_length for x in X_val])[0]\n",
    "y_val_idx_okay = np.where([len(x) < sequence_length for x in y_val])[0]\n",
    "X_test_idx_okay = np.where([len(x) < sequence_length for x in X_test])[0]\n",
    "y_test_idx_okay = np.where([len(x) < sequence_length for x in y_test])[0]\n",
    "\n",
    "\n",
    "train_idx_okay = np.intersect1d(X_train_idx_okay, y_train_idx_okay) \n",
    "val_idx_okay = np.intersect1d(X_val_idx_okay, y_val_idx_okay) \n",
    "test_idx_okay = np.intersect1d(X_test_idx_okay, y_test_idx_okay) \n",
    "print(\"X okay:\", len(X_train_idx_okay) / len(X_train))\n",
    "print(\"y okay:\", len(y_train_idx_okay) / len(y_train))"
   ]
  },
  {
   "cell_type": "code",
   "execution_count": 80,
   "metadata": {},
   "outputs": [],
   "source": [
    "X_train_short = [X_train[i] for i in train_idx_okay]\n",
    "y_train_short = [y_train[i] for i in train_idx_okay]\n",
    "\n",
    "X_val_short = [X_val[i] for i in val_idx_okay]\n",
    "y_val_short = [y_val[i] for i in val_idx_okay]\n",
    "\n",
    "X_test_short = [X_test[i] for i in test_idx_okay]\n",
    "y_test_short = [y_test[i] for i in test_idx_okay]\n"
   ]
  },
  {
   "cell_type": "code",
   "execution_count": 26,
   "metadata": {},
   "outputs": [],
   "source": []
  },
  {
   "cell_type": "markdown",
   "metadata": {},
   "source": [
    "# Data Augmentation"
   ]
  },
  {
   "cell_type": "code",
   "execution_count": 29,
   "metadata": {},
   "outputs": [],
   "source": [
    "def get_unique_indices(amps):\n",
    "    amps = [\" \".join(a) for a in amps]\n",
    "    tmp = np.sort(np.unique(amps, return_index=True, axis=0)[1])\n",
    "    return tmp"
   ]
  },
  {
   "cell_type": "code",
   "execution_count": 45,
   "metadata": {},
   "outputs": [
    {
     "name": "stderr",
     "output_type": "stream",
     "text": [
      "ic| len(get_unique_indices(X_train_short)): 460\n",
      "ic| len(X_train_short): 460\n"
     ]
    }
   ],
   "source": [
    "ic(len(get_unique_indices(X_train_short)));\n",
    "ic(len(X_train_short));"
   ]
  },
  {
   "cell_type": "code",
   "execution_count": 46,
   "metadata": {},
   "outputs": [
    {
     "name": "stderr",
     "output_type": "stream",
     "text": [
      "ic| len(get_unique_indices(y_train_short)): 238\n",
      "ic| len(y_train_short): 460\n"
     ]
    }
   ],
   "source": [
    "ic(len(get_unique_indices(y_train_short)));\n",
    "ic(len(y_train_short));"
   ]
  },
  {
   "cell_type": "code",
   "execution_count": 104,
   "metadata": {},
   "outputs": [],
   "source": [
    "def augment_diagram(x, y, new_electrons = [\"mu\", \"tau\", \"up\", \"down\", \"strange\", \"charm\", \"top\", \"bottom\"]):\n",
    "    \"\"\"\n",
    "    This does some augmentation by switching all electrons to muons etc.\n",
    "    Note that it is not so easy to only switch one electron in a process to say a muon.\n",
    "    \"\"\"\n",
    "    X_aug = []\n",
    "    y_aug = []\n",
    "    for e in new_electrons:\n",
    "        x_new = [xx.replace(\"ee\", e) for xx in x]\n",
    "        y_new = [yy.replace(\"m_e\", \"m_\"+e) for yy in y]\n",
    "        X_aug.append(x_new)\n",
    "        y_aug.append(y_new)\n",
    "    return X_aug, y_aug\n",
    "\n",
    "def augment_data(X, y, new_electrons = [\"mu\", \"tau\", \"up\", \"down\", \"strange\", \"charm\", \"top\", \"bottom\"]):\n",
    "    X_aug = []\n",
    "    y_aug = []\n",
    "    for x, y in zip(X_train_short, y_train_short):\n",
    "        new_data = augment_diagram(x, y, new_electrons=new_electrons)\n",
    "        X_aug = X_aug + new_data[0]\n",
    "        y_aug = y_aug + new_data[1]\n",
    "    return X_aug, y_aug"
   ]
  },
  {
   "cell_type": "code",
   "execution_count": 111,
   "metadata": {},
   "outputs": [],
   "source": [
    "augmentation_data = augment_data(X_train_short, y_train_short)"
   ]
  },
  {
   "cell_type": "code",
   "execution_count": 112,
   "metadata": {},
   "outputs": [
    {
     "data": {
      "text/plain": [
       "3680"
      ]
     },
     "execution_count": 112,
     "metadata": {},
     "output_type": "execute_result"
    }
   ],
   "source": [
    "len(X_train_short)*8"
   ]
  },
  {
   "cell_type": "code",
   "execution_count": 113,
   "metadata": {},
   "outputs": [
    {
     "data": {
      "text/plain": [
       "3680"
      ]
     },
     "execution_count": 113,
     "metadata": {},
     "output_type": "execute_result"
    }
   ],
   "source": [
    "len(augmentation_data[0])"
   ]
  },
  {
   "cell_type": "code",
   "execution_count": 121,
   "metadata": {},
   "outputs": [
    {
     "data": {
      "text/plain": [
       "array(['Prod', 'i', 'Prod', 'Pow', 'e', '2', 'Prod', 'Pow', 'Sum', 's_23',\n",
       "       'Prod', '-1/2', 'reg_prop', '-1', 'Sum', 'Prod', 'p_1', 'alpha_7',\n",
       "       'Prod', 'gamma', 'alpha_8', 'alpha_2', 'alpha_0', 'Prod', 'A',\n",
       "       'i_3', 'alpha_8', '(p_3)', 'Prod', 'A', 'i_1', 'alpha_7', '(p_4)',\n",
       "       'Prod', 'ee^(*)', 'i_0', 'alpha_2', '(p_1)_u', 'ee', 'i_2',\n",
       "       'alpha_0', '(p_2)_v', 'Prod', '-1/2', 'Prod', 'p_4', 'alpha_6',\n",
       "       'Prod', 'gamma', 'alpha_6', 'alpha_4', 'alpha_5', 'Prod', 'gamma',\n",
       "       'alpha_7', 'alpha_3', 'alpha_4', 'Prod', 'gamma', 'alpha_8',\n",
       "       'alpha_5', 'alpha_1', 'Prod', 'A', 'i_3', 'alpha_8', '(p_3)',\n",
       "       'Prod', 'A', 'i_1', 'alpha_7', '(p_4)', 'Prod', 'ee^(*)', 'i_0',\n",
       "       'alpha_3', '(p_1)_u', 'ee', 'i_2', 'alpha_1', '(p_2)_v'],\n",
       "      dtype='<U8')"
      ]
     },
     "execution_count": 121,
     "metadata": {},
     "output_type": "execute_result"
    }
   ],
   "source": [
    "np.array(X_train_short[25])"
   ]
  },
  {
   "cell_type": "code",
   "execution_count": 122,
   "metadata": {},
   "outputs": [
    {
     "data": {
      "text/latex": [
       "$\\displaystyle 4 e^{2} \\cdot \\left(2 m_{e}^{2} + s_{12}\\right)$"
      ],
      "text/plain": [
       "4*e**2*(2*m_e**2 + s_12)"
      ]
     },
     "execution_count": 122,
     "metadata": {},
     "output_type": "execute_result"
    }
   ],
   "source": [
    "hybrid_prefix_to_sympy(y_train_short[0])"
   ]
  },
  {
   "cell_type": "code",
   "execution_count": 124,
   "metadata": {},
   "outputs": [
    {
     "data": {
      "text/latex": [
       "$\\displaystyle 4 e^{2} \\cdot \\left(2 m_{\\mu}^{2} + s_{12}\\right)$"
      ],
      "text/plain": [
       "4*e**2*(2*m_mu**2 + s_12)"
      ]
     },
     "execution_count": 124,
     "metadata": {},
     "output_type": "execute_result"
    }
   ],
   "source": [
    "hybrid_prefix_to_sympy(augmentation_data[1][0])"
   ]
  },
  {
   "cell_type": "code",
   "execution_count": 125,
   "metadata": {},
   "outputs": [],
   "source": [
    "X_train_text = [\" \".join(x) for x in X_train_short+augmentation_data[0]]\n",
    "y_train_text = [\" \".join(yy) for yy in y_train_short+augmentation_data[1]]\n",
    "\n",
    "X_val_text = [\" \".join(x) for x in X_val_short]\n",
    "y_val_text = [\" \".join(yy) for yy in y_val_short]\n",
    "\n",
    "X_test_text = [\" \".join(x) for x in X_test_short]\n",
    "y_test_text = [\" \".join(yy) for yy in y_test_short]"
   ]
  },
  {
   "cell_type": "code",
   "execution_count": 126,
   "metadata": {},
   "outputs": [
    {
     "data": {
      "text/plain": [
       "'../data.nosync/2022-11-14/'"
      ]
     },
     "execution_count": 126,
     "metadata": {},
     "output_type": "execute_result"
    }
   ],
   "source": [
    "export_folder"
   ]
  },
  {
   "cell_type": "code",
   "execution_count": 127,
   "metadata": {},
   "outputs": [],
   "source": [
    "# reading to sympy takes quite long.\n",
    "# We're here caching the alreaday converted amplitudes\n",
    "X_train_cache_file = export_folder+\"X_train.pickle\"\n",
    "y_train_cache_file = export_folder+\"y_train.pickle\"\n",
    "X_val_cache_file = export_folder+\"X_val.pickle\"\n",
    "y_val_cache_file = export_folder+\"y_val.pickle\"\n",
    "X_test_cache_file = export_folder+\"X_test.pickle\"\n",
    "y_test_cache_file = export_folder+\"y_test.pickle\"\n",
    "\n",
    "if os.path.exists(X_train_cache_file) & os.path.exists(y_train_cache_file):\n",
    "    print(\"Exists, loading\")\n",
    "    with open(X_train_cache_file, \"rb\") as f:\n",
    "        X_train_text = pickle.load(f)\n",
    "    with open(X_train_cache_file, \"rb\") as f:\n",
    "        y_train_text = pickle.load(f)\n",
    "\n",
    "else:\n",
    "    with open(X_train_cache_file, \"wb\") as f:\n",
    "        pickle.dump(X_train_text, f)\n",
    "    with open(y_train_cache_file, \"wb\") as f:\n",
    "        pickle.dump(y_train_text, f)\n",
    "\n",
    "if os.path.exists(X_val_cache_file) & os.path.exists(y_val_cache_file):\n",
    "    print(\"Exists, loading\")\n",
    "    with open(X_val_cache_file, \"rb\") as f:\n",
    "        X_val_text = pickle.load(f)\n",
    "    with open(X_val_cache_file, \"rb\") as f:\n",
    "        y_val_text = pickle.load(f)\n",
    "\n",
    "else:\n",
    "    with open(X_val_cache_file, \"wb\") as f:\n",
    "        pickle.dump(X_val_text, f)\n",
    "    with open(y_val_cache_file, \"wb\") as f:\n",
    "        pickle.dump(y_val_text, f)\n",
    "\n",
    "if os.path.exists(X_test_cache_file) & os.path.exists(y_test_cache_file):\n",
    "    print(\"Exists, loading\")\n",
    "    with open(X_test_cache_file, \"rb\") as f:\n",
    "        X_test_text = pickle.load(f)\n",
    "    with open(X_test_cache_file, \"rb\") as f:\n",
    "        y_test_text = pickle.load(f)\n",
    "\n",
    "else:\n",
    "    with open(X_test_cache_file, \"wb\") as f:\n",
    "        pickle.dump(X_test_text, f)\n",
    "    with open(y_test_cache_file, \"wb\") as f:\n",
    "        pickle.dump(y_test_text, f)\n"
   ]
  },
  {
   "cell_type": "markdown",
   "metadata": {},
   "source": [
    "# Vectorization"
   ]
  },
  {
   "cell_type": "code",
   "execution_count": 128,
   "metadata": {},
   "outputs": [
    {
     "name": "stderr",
     "output_type": "stream",
     "text": [
      "2022-11-14 16:49:12.031985: I tensorflow/core/platform/cpu_feature_guard.cc:193] This TensorFlow binary is optimized with oneAPI Deep Neural Network Library (oneDNN) to use the following CPU instructions in performance-critical operations:  AVX2 AVX_VNNI FMA\n",
      "To enable them in other operations, rebuild TensorFlow with the appropriate compiler flags.\n",
      "2022-11-14 16:49:12.032863: I tensorflow/stream_executor/cuda/cuda_gpu_executor.cc:980] successful NUMA node read from SysFS had negative value (-1), but there must be at least one NUMA node, so returning NUMA node zero\n",
      "2022-11-14 16:49:12.033042: I tensorflow/stream_executor/cuda/cuda_gpu_executor.cc:980] successful NUMA node read from SysFS had negative value (-1), but there must be at least one NUMA node, so returning NUMA node zero\n",
      "2022-11-14 16:49:12.033118: I tensorflow/stream_executor/cuda/cuda_gpu_executor.cc:980] successful NUMA node read from SysFS had negative value (-1), but there must be at least one NUMA node, so returning NUMA node zero\n",
      "2022-11-14 16:49:12.516100: I tensorflow/stream_executor/cuda/cuda_gpu_executor.cc:980] successful NUMA node read from SysFS had negative value (-1), but there must be at least one NUMA node, so returning NUMA node zero\n",
      "2022-11-14 16:49:12.516243: I tensorflow/stream_executor/cuda/cuda_gpu_executor.cc:980] successful NUMA node read from SysFS had negative value (-1), but there must be at least one NUMA node, so returning NUMA node zero\n",
      "2022-11-14 16:49:12.516313: I tensorflow/stream_executor/cuda/cuda_gpu_executor.cc:980] successful NUMA node read from SysFS had negative value (-1), but there must be at least one NUMA node, so returning NUMA node zero\n",
      "2022-11-14 16:49:12.516379: I tensorflow/core/common_runtime/gpu/gpu_device.cc:1616] Created device /job:localhost/replica:0/task:0/device:GPU:0 with 364 MB memory:  -> device: 0, name: NVIDIA GeForce RTX 3070 Ti Laptop GPU, pci bus id: 0000:01:00.0, compute capability: 8.6\n"
     ]
    }
   ],
   "source": [
    "def custom_standardization(input_string):\n",
    "    return input_string\n",
    "\n",
    "X_vectorization = TextVectorization(\n",
    "    max_tokens=vocab_size,\n",
    "    output_mode=\"int\",\n",
    "    output_sequence_length=sequence_length,\n",
    "    standardize=None,\n",
    ")\n",
    "\n",
    "y_vectorization = TextVectorization(\n",
    "    max_tokens=vocab_size,\n",
    "    output_mode=\"int\",\n",
    "    output_sequence_length=sequence_length+1,\n",
    "    standardize=None,\n",
    ")\n",
    "\n",
    "X_vectorization.adapt(X_train_text)\n",
    "y_vectorization.adapt(y_train_text)"
   ]
  },
  {
   "cell_type": "code",
   "execution_count": 129,
   "metadata": {},
   "outputs": [],
   "source": [
    "def format_dataset(X, y):\n",
    "    X_vec = X_vectorization(X)\n",
    "    y_vec = y_vectorization(y)\n",
    "    return (\n",
    "        {\n",
    "            \"encoder_inputs\": X_vec,\n",
    "            \"decoder_inputs\": y_vec[:, :-1],\n",
    "        },\n",
    "        y_vec[:, 1:],\n",
    "    )\n",
    "\n",
    "\n",
    "def make_dataset(X_text, y_text):\n",
    "    dataset = tf.data.Dataset.from_tensor_slices((X_text, y_text))\n",
    "    dataset = dataset.batch(batch_size)\n",
    "    dataset = dataset.map(format_dataset)\n",
    "    return dataset.shuffle(2048).prefetch(16).cache()\n",
    "\n",
    "\n",
    "train_ds = make_dataset(X_train_text, y_train_text)\n",
    "val_ds = make_dataset(X_val_text, y_val_text)\n",
    "test_ds = make_dataset(X_test_text, y_test_text)"
   ]
  },
  {
   "cell_type": "code",
   "execution_count": 130,
   "metadata": {},
   "outputs": [
    {
     "name": "stdout",
     "output_type": "stream",
     "text": [
      "inputs[\"encoder_inputs\"].shape: (1, 650)\n",
      "inputs[\"decoder_inputs\"].shape: (1, 650)\n",
      "targets.shape: (1, 650)\n"
     ]
    },
    {
     "name": "stderr",
     "output_type": "stream",
     "text": [
      "2022-11-14 16:49:15.149374: W tensorflow/core/kernels/data/cache_dataset_ops.cc:856] The calling iterator did not fully read the dataset being cached. In order to avoid unexpected truncation of the dataset, the partially cached contents of the dataset  will be discarded. This can happen if you have an input pipeline similar to `dataset.cache().take(k).repeat()`. You should use `dataset.take(k).cache().repeat()` instead.\n"
     ]
    }
   ],
   "source": [
    "for inputs, targets in train_ds.take(1):\n",
    "    print(f'inputs[\"encoder_inputs\"].shape: {inputs[\"encoder_inputs\"].shape}')\n",
    "    print(f'inputs[\"decoder_inputs\"].shape: {inputs[\"decoder_inputs\"].shape}')\n",
    "    print(f\"targets.shape: {targets.shape}\")\n"
   ]
  },
  {
   "cell_type": "code",
   "execution_count": 131,
   "metadata": {},
   "outputs": [],
   "source": [
    "ctr = 0\n",
    "tmp = []\n",
    "for x in train_ds.as_numpy_iterator():\n",
    "    tmp.append(x)\n",
    "    ctr += 1"
   ]
  },
  {
   "cell_type": "code",
   "execution_count": 132,
   "metadata": {},
   "outputs": [
    {
     "data": {
      "text/plain": [
       "4140"
      ]
     },
     "execution_count": 132,
     "metadata": {},
     "output_type": "execute_result"
    }
   ],
   "source": [
    "ctr"
   ]
  },
  {
   "cell_type": "code",
   "execution_count": 133,
   "metadata": {},
   "outputs": [
    {
     "data": {
      "text/plain": [
       "4140"
      ]
     },
     "execution_count": 133,
     "metadata": {},
     "output_type": "execute_result"
    }
   ],
   "source": [
    "len(X_train_text)"
   ]
  },
  {
   "cell_type": "code",
   "execution_count": 134,
   "metadata": {},
   "outputs": [],
   "source": [
    "class TransformerEncoder(layers.Layer):\n",
    "    def __init__(self, embed_dim, dense_dim, num_heads, **kwargs):\n",
    "        super(TransformerEncoder, self).__init__(**kwargs)\n",
    "        self.embed_dim = embed_dim\n",
    "        self.dense_dim = dense_dim\n",
    "        self.num_heads = num_heads\n",
    "        self.attention = layers.MultiHeadAttention(\n",
    "            num_heads=num_heads, key_dim=embed_dim\n",
    "        )\n",
    "        self.dense_proj = keras.Sequential(\n",
    "            [\n",
    "                layers.Dense(dense_dim, activation=\"relu\"),\n",
    "                layers.Dense(embed_dim),\n",
    "            ]\n",
    "        )\n",
    "        self.layernorm_1 = layers.LayerNormalization()\n",
    "        self.layernorm_2 = layers.LayerNormalization()\n",
    "        self.supports_masking = True\n",
    "\n",
    "    def call(self, inputs, mask=None):\n",
    "        if mask is not None:\n",
    "            padding_mask = tf.cast(mask[:, tf.newaxis, tf.newaxis, :], dtype=\"int32\")\n",
    "        attention_output = self.attention(\n",
    "            query=inputs, value=inputs, key=inputs, attention_mask=padding_mask\n",
    "        )\n",
    "        proj_input = self.layernorm_1(inputs + attention_output)\n",
    "        proj_output = self.dense_proj(proj_input)\n",
    "        return self.layernorm_2(proj_input + proj_output)\n",
    "\n",
    "\n",
    "class PositionalEmbedding(layers.Layer):\n",
    "    def __init__(self, sequence_length, vocab_size, embed_dim, **kwargs):\n",
    "        super(PositionalEmbedding, self).__init__(**kwargs)\n",
    "        self.token_embeddings = layers.Embedding(\n",
    "            input_dim=vocab_size, output_dim=embed_dim\n",
    "        )\n",
    "        self.position_embeddings = layers.Embedding(\n",
    "            input_dim=sequence_length, output_dim=embed_dim\n",
    "        )\n",
    "        self.sequence_length = sequence_length\n",
    "        self.vocab_size = vocab_size\n",
    "        self.embed_dim = embed_dim\n",
    "\n",
    "    def call(self, inputs):\n",
    "        length = tf.shape(inputs)[-1]\n",
    "        positions = tf.range(start=0, limit=length, delta=1)\n",
    "        embedded_tokens = self.token_embeddings(inputs)\n",
    "        embedded_positions = self.position_embeddings(positions)\n",
    "        return embedded_tokens + embedded_positions\n",
    "\n",
    "    def compute_mask(self, inputs, mask=None):\n",
    "        return tf.math.not_equal(inputs, 0)\n",
    "\n",
    "\n",
    "class TransformerDecoder(layers.Layer):\n",
    "    def __init__(self, embed_dim, latent_dim, num_heads, **kwargs):\n",
    "        super(TransformerDecoder, self).__init__(**kwargs)\n",
    "        self.embed_dim = embed_dim\n",
    "        self.latent_dim = latent_dim\n",
    "        self.num_heads = num_heads\n",
    "        self.attention_1 = layers.MultiHeadAttention(\n",
    "            num_heads=num_heads, key_dim=embed_dim\n",
    "        )\n",
    "        self.attention_2 = layers.MultiHeadAttention(\n",
    "            num_heads=num_heads, key_dim=embed_dim\n",
    "        )\n",
    "        self.dense_proj = keras.Sequential(\n",
    "            [\n",
    "                layers.Dense(latent_dim, activation=\"relu\"),\n",
    "                layers.Dense(embed_dim),\n",
    "            ]\n",
    "        )\n",
    "        self.layernorm_1 = layers.LayerNormalization()\n",
    "        self.layernorm_2 = layers.LayerNormalization()\n",
    "        self.layernorm_3 = layers.LayerNormalization()\n",
    "        self.supports_masking = True\n",
    "\n",
    "    def call(self, inputs, encoder_outputs, mask=None):\n",
    "        causal_mask = self.get_causal_attention_mask(inputs)\n",
    "        if mask is not None:\n",
    "            padding_mask = tf.cast(mask[:, tf.newaxis, :], dtype=\"int32\")\n",
    "            padding_mask = tf.minimum(padding_mask, causal_mask)\n",
    "\n",
    "        attention_output_1 = self.attention_1(\n",
    "            query=inputs, value=inputs, key=inputs, attention_mask=causal_mask\n",
    "        )\n",
    "        out_1 = self.layernorm_1(inputs + attention_output_1)\n",
    "\n",
    "        attention_output_2 = self.attention_2(\n",
    "            query=out_1,\n",
    "            value=encoder_outputs,\n",
    "            key=encoder_outputs,\n",
    "            attention_mask=padding_mask,\n",
    "        )\n",
    "        out_2 = self.layernorm_2(out_1 + attention_output_2)\n",
    "\n",
    "        proj_output = self.dense_proj(out_2)\n",
    "        return self.layernorm_3(out_2 + proj_output)\n",
    "\n",
    "    def get_causal_attention_mask(self, inputs):\n",
    "        input_shape = tf.shape(inputs)\n",
    "        batch_size, sequence_length = input_shape[0], input_shape[1]\n",
    "        i = tf.range(sequence_length)[:, tf.newaxis]\n",
    "        j = tf.range(sequence_length)\n",
    "        mask = tf.cast(i >= j, dtype=\"int32\")\n",
    "        mask = tf.reshape(mask, (1, input_shape[1], input_shape[1]))\n",
    "        mult = tf.concat(\n",
    "            [tf.expand_dims(batch_size, -1), tf.constant([1, 1], dtype=tf.int32)],\n",
    "            axis=0,\n",
    "        )\n",
    "        return tf.tile(mask, mult)\n"
   ]
  },
  {
   "cell_type": "code",
   "execution_count": 135,
   "metadata": {},
   "outputs": [
    {
     "name": "stdout",
     "output_type": "stream",
     "text": [
      "Model: \"transformer\"\n",
      "__________________________________________________________________________________________________\n",
      " Layer (type)                   Output Shape         Param #     Connected to                     \n",
      "==================================================================================================\n",
      " encoder_inputs (InputLayer)    [(None, None)]       0           []                               \n",
      "                                                                                                  \n",
      " positional_embedding (Position  (None, None, 128)   147200      ['encoder_inputs[0][0]']         \n",
      " alEmbedding)                                                                                     \n",
      "                                                                                                  \n",
      " decoder_inputs (InputLayer)    [(None, None)]       0           []                               \n",
      "                                                                                                  \n",
      " transformer_encoder (Transform  (None, None, 128)   791296      ['positional_embedding[0][0]']   \n",
      " erEncoder)                                                                                       \n",
      "                                                                                                  \n",
      " model_1 (Functional)           (None, None, 500)    1530740     ['decoder_inputs[0][0]',         \n",
      "                                                                  'transformer_encoder[0][0]']    \n",
      "                                                                                                  \n",
      "==================================================================================================\n",
      "Total params: 2,469,236\n",
      "Trainable params: 2,469,236\n",
      "Non-trainable params: 0\n",
      "__________________________________________________________________________________________________\n"
     ]
    }
   ],
   "source": [
    "embed_dim = 128 # 256  # 512\n",
    "latent_dim = 1024 #2048  # 16384\n",
    "num_heads = 8\n",
    "\n",
    "# with tpu_strategy.scope(): # creating the model in the TPUStrategy scope means we will train the model on the TPU\n",
    "encoder_inputs = keras.Input(shape=(None,), dtype=\"int32\", name=\"encoder_inputs\")\n",
    "x = PositionalEmbedding(sequence_length, vocab_size, embed_dim)(encoder_inputs)\n",
    "encoder_outputs = TransformerEncoder(embed_dim, latent_dim, num_heads)(x)\n",
    "encoder = keras.Model(encoder_inputs, encoder_outputs)\n",
    "\n",
    "decoder_inputs = keras.Input(shape=(None,), dtype=\"int32\", name=\"decoder_inputs\")\n",
    "encoded_seq_inputs = keras.Input(shape=(None, embed_dim), name=\"decoder_state_inputs\")\n",
    "x = PositionalEmbedding(sequence_length, vocab_size, embed_dim)(decoder_inputs)\n",
    "x = TransformerDecoder(embed_dim, latent_dim, num_heads)(x, encoded_seq_inputs)\n",
    "x = layers.Dropout(0.5)(x)\n",
    "decoder_outputs = layers.Dense(vocab_size, activation=\"softmax\")(x)\n",
    "decoder = keras.Model([decoder_inputs, encoded_seq_inputs], decoder_outputs)\n",
    "\n",
    "decoder_outputs = decoder([decoder_inputs, encoder_outputs])\n",
    "transformer = keras.Model(\n",
    "    [encoder_inputs, decoder_inputs], decoder_outputs, name=\"transformer\"\n",
    ")\n",
    "transformer.summary()\n"
   ]
  },
  {
   "cell_type": "code",
   "execution_count": 147,
   "metadata": {},
   "outputs": [
    {
     "data": {
      "text/plain": [
       "Text(0, 0.5, 'learning rate')"
      ]
     },
     "execution_count": 147,
     "metadata": {},
     "output_type": "execute_result"
    },
    {
     "data": {
      "image/png": "[encoded data removed]",
      "text/plain": [
       "<Figure size 432x288 with 1 Axes>"
      ]
     },
     "metadata": {},
     "output_type": "display_data"
    }
   ],
   "source": [
    "def learning_rate_cyclic(epoch):\n",
    "    initial_lr = 0.0005\n",
    "    max_lr = 0.002\n",
    "    max_epochs = 5\n",
    "    if epoch <= (max_epochs / 2):\n",
    "        lr = initial_lr + (max_lr-initial_lr) * epoch/(max_epochs/2)\n",
    "        return lr\n",
    "    if (epoch > (max_epochs / 2)) & (epoch < max_epochs):\n",
    "        lr = max_lr - (max_lr-initial_lr) * (epoch-max_epochs/2)/(max_epochs/2)\n",
    "        return lr\n",
    "    else:\n",
    "        lr = initial_lr*np.exp(-(epoch-max_epochs)/10)\n",
    "        return lr\n",
    "\n",
    "xrange = range(0,50)\n",
    "yrange = [learning_rate_cyclic(x) for x in xrange]\n",
    "plt.plot(xrange, yrange)\n",
    "plt.xlabel(\"epoch\")\n",
    "plt.ylabel(\"learning rate\")"
   ]
  },
  {
   "cell_type": "code",
   "execution_count": 148,
   "metadata": {},
   "outputs": [
    {
     "name": "stdout",
     "output_type": "stream",
     "text": [
      "Model: \"transformer\"\n",
      "__________________________________________________________________________________________________\n",
      " Layer (type)                   Output Shape         Param #     Connected to                     \n",
      "==================================================================================================\n",
      " encoder_inputs (InputLayer)    [(None, None)]       0           []                               \n",
      "                                                                                                  \n",
      " positional_embedding (Position  (None, None, 128)   147200      ['encoder_inputs[0][0]']         \n",
      " alEmbedding)                                                                                     \n",
      "                                                                                                  \n",
      " decoder_inputs (InputLayer)    [(None, None)]       0           []                               \n",
      "                                                                                                  \n",
      " transformer_encoder (Transform  (None, None, 128)   791296      ['positional_embedding[0][0]']   \n",
      " erEncoder)                                                                                       \n",
      "                                                                                                  \n",
      " model_1 (Functional)           (None, None, 500)    1530740     ['decoder_inputs[0][0]',         \n",
      "                                                                  'transformer_encoder[0][0]']    \n",
      "                                                                                                  \n",
      "==================================================================================================\n",
      "Total params: 2,469,236\n",
      "Trainable params: 2,469,236\n",
      "Non-trainable params: 0\n",
      "__________________________________________________________________________________________________\n",
      "Epoch 1/30\n",
      "4140/4140 [==============================] - 69s 17ms/step - loss: 0.0219 - accuracy: 0.9817 - val_loss: 0.1029 - val_accuracy: 0.9524 - lr: 5.0000e-04\n",
      "Epoch 2/30\n",
      "4140/4140 [==============================] - 101s 24ms/step - loss: 0.0424 - accuracy: 0.9680 - val_loss: 0.0972 - val_accuracy: 0.9500 - lr: 0.0011\n",
      "Epoch 3/30\n",
      "4140/4140 [==============================] - 100s 24ms/step - loss: 0.0573 - accuracy: 0.9572 - val_loss: 0.1090 - val_accuracy: 0.9326 - lr: 0.0017\n",
      "Epoch 4/30\n",
      "4140/4140 [==============================] - 85s 20ms/step - loss: 0.0439 - accuracy: 0.9667 - val_loss: 0.1043 - val_accuracy: 0.9399 - lr: 0.0017\n",
      "Epoch 5/30\n",
      "4140/4140 [==============================] - 54s 13ms/step - loss: 0.0261 - accuracy: 0.9790 - val_loss: 0.0959 - val_accuracy: 0.9505 - lr: 0.0011\n",
      "Epoch 6/30\n",
      "4140/4140 [==============================] - 51s 12ms/step - loss: 0.0180 - accuracy: 0.9845 - val_loss: 0.1044 - val_accuracy: 0.9577 - lr: 5.0000e-04\n",
      "Epoch 7/30\n",
      "4140/4140 [==============================] - 53s 13ms/step - loss: 0.0177 - accuracy: 0.9848 - val_loss: 0.1114 - val_accuracy: 0.9573 - lr: 4.5242e-04\n",
      "Epoch 8/30\n",
      "4140/4140 [==============================] - 52s 13ms/step - loss: 0.0173 - accuracy: 0.9851 - val_loss: 0.1191 - val_accuracy: 0.9587 - lr: 4.0937e-04\n",
      "Epoch 9/30\n",
      "4140/4140 [==============================] - 52s 13ms/step - loss: 0.0156 - accuracy: 0.9868 - val_loss: 0.1145 - val_accuracy: 0.9582 - lr: 3.7041e-04\n",
      "Epoch 10/30\n",
      "4140/4140 [==============================] - 52s 13ms/step - loss: 0.0056 - accuracy: 0.9958 - val_loss: 0.1142 - val_accuracy: 0.9751 - lr: 3.3516e-04\n",
      "Epoch 11/30\n",
      "4140/4140 [==============================] - 52s 12ms/step - loss: 0.0012 - accuracy: 0.9993 - val_loss: 0.1129 - val_accuracy: 0.9756 - lr: 3.0327e-04\n",
      "Epoch 12/30\n",
      "4140/4140 [==============================] - 50s 12ms/step - loss: 7.2760e-04 - accuracy: 0.9996 - val_loss: 0.1205 - val_accuracy: 0.9744 - lr: 2.7441e-04\n",
      "Epoch 13/30\n",
      "4140/4140 [==============================] - 50s 12ms/step - loss: 5.9622e-04 - accuracy: 0.9997 - val_loss: 0.1199 - val_accuracy: 0.9756 - lr: 2.4829e-04\n",
      "Epoch 14/30\n",
      "4140/4140 [==============================] - 50s 12ms/step - loss: 2.9722e-04 - accuracy: 0.9999 - val_loss: 0.1215 - val_accuracy: 0.9754 - lr: 2.2466e-04\n",
      "Epoch 15/30\n",
      "4140/4140 [==============================] - 51s 12ms/step - loss: 3.5278e-04 - accuracy: 0.9998 - val_loss: 0.1177 - val_accuracy: 0.9768 - lr: 2.0328e-04\n",
      "Epoch 16/30\n",
      "4140/4140 [==============================] - 52s 12ms/step - loss: 2.4685e-04 - accuracy: 0.9999 - val_loss: 0.1222 - val_accuracy: 0.9761 - lr: 1.8394e-04\n",
      "Epoch 17/30\n",
      "4140/4140 [==============================] - 52s 12ms/step - loss: 1.8691e-04 - accuracy: 0.9999 - val_loss: 0.1263 - val_accuracy: 0.9761 - lr: 1.6644e-04\n",
      "Epoch 18/30\n",
      "4140/4140 [==============================] - 52s 12ms/step - loss: 1.1786e-04 - accuracy: 0.9999 - val_loss: 0.1380 - val_accuracy: 0.9744 - lr: 1.5060e-04\n",
      "Epoch 19/30\n",
      "4140/4140 [==============================] - 52s 12ms/step - loss: 7.5638e-05 - accuracy: 1.0000 - val_loss: 0.1341 - val_accuracy: 0.9758 - lr: 1.3627e-04\n",
      "Epoch 20/30\n",
      "4140/4140 [==============================] - 51s 12ms/step - loss: 8.5548e-05 - accuracy: 1.0000 - val_loss: 0.1331 - val_accuracy: 0.9749 - lr: 1.2330e-04\n",
      "Epoch 21/30\n",
      "4140/4140 [==============================] - 51s 12ms/step - loss: 6.3225e-05 - accuracy: 1.0000 - val_loss: 0.1363 - val_accuracy: 0.9764 - lr: 1.1157e-04\n",
      "Epoch 22/30\n",
      "4140/4140 [==============================] - 51s 12ms/step - loss: 4.5650e-05 - accuracy: 1.0000 - val_loss: 0.1387 - val_accuracy: 0.9759 - lr: 1.0095e-04\n",
      "Epoch 23/30\n",
      "4140/4140 [==============================] - 50s 12ms/step - loss: 2.1910e-05 - accuracy: 1.0000 - val_loss: 0.1396 - val_accuracy: 0.9775 - lr: 9.1342e-05\n",
      "Epoch 24/30\n",
      "4140/4140 [==============================] - 51s 12ms/step - loss: 4.2115e-05 - accuracy: 1.0000 - val_loss: 0.1416 - val_accuracy: 0.9771 - lr: 8.2649e-05\n",
      "Epoch 25/30\n",
      "4140/4140 [==============================] - 51s 12ms/step - loss: 1.0426e-05 - accuracy: 1.0000 - val_loss: 0.1413 - val_accuracy: 0.9775 - lr: 7.4784e-05\n",
      "Epoch 26/30\n",
      "4140/4140 [==============================] - 50s 12ms/step - loss: 7.0926e-06 - accuracy: 1.0000 - val_loss: 0.1462 - val_accuracy: 0.9770 - lr: 6.7668e-05\n",
      "Epoch 27/30\n",
      "4140/4140 [==============================] - 50s 12ms/step - loss: 8.6936e-06 - accuracy: 1.0000 - val_loss: 0.1487 - val_accuracy: 0.9766 - lr: 6.1228e-05\n",
      "Epoch 28/30\n",
      "4140/4140 [==============================] - 50s 12ms/step - loss: 2.7200e-06 - accuracy: 1.0000 - val_loss: 0.1452 - val_accuracy: 0.9778 - lr: 5.5402e-05\n",
      "Epoch 29/30\n",
      "4140/4140 [==============================] - 50s 12ms/step - loss: 1.9928e-06 - accuracy: 1.0000 - val_loss: 0.1482 - val_accuracy: 0.9776 - lr: 5.0129e-05\n",
      "Epoch 30/30\n",
      "4140/4140 [==============================] - 51s 12ms/step - loss: 3.6932e-06 - accuracy: 1.0000 - val_loss: 0.1500 - val_accuracy: 0.9768 - lr: 4.5359e-05\n"
     ]
    }
   ],
   "source": [
    "epochs = 30  # This should be at least 30 for convergence\n",
    "lr_schedule = tf.keras.callbacks.LearningRateScheduler(learning_rate_cyclic)\n",
    "checkpoint = keras.callbacks.ModelCheckpoint(\n",
    "    \"models/2022-11-14-Transformer_upto3to3_unique_augmented\", save_best_only=True, monitor=\"val_loss\", save_weights_only=True\n",
    ")\n",
    "\n",
    "callbacks = [lr_schedule, checkpoint]\n",
    "\n",
    "transformer.summary()\n",
    "transformer.compile(\n",
    "    \"adam\", loss=\"sparse_categorical_crossentropy\", metrics=[\"accuracy\"]\n",
    ")\n",
    "history = transformer.fit(train_ds, epochs=epochs, validation_data=val_ds,\n",
    "                          callbacks = callbacks)\n"
   ]
  },
  {
   "cell_type": "code",
   "execution_count": 150,
   "metadata": {},
   "outputs": [
    {
     "data": {
      "text/plain": [
       "<tensorflow.python.checkpoint.checkpoint.CheckpointLoadStatus at 0x7fa49c515e50>"
      ]
     },
     "execution_count": 150,
     "metadata": {},
     "output_type": "execute_result"
    }
   ],
   "source": [
    "transformer.load_weights(\"models/2022-11-14-Transformer_upto3to3_unique_augmented\")"
   ]
  },
  {
   "cell_type": "code",
   "execution_count": 151,
   "metadata": {},
   "outputs": [],
   "source": [
    "y_vocab = y_vectorization.get_vocabulary()\n",
    "y_index_lookup = dict(zip(range(len(y_vocab)), y_vocab))\n",
    "max_decoded_sentence_length = 350\n",
    "\n",
    "\n",
    "def decode_sequence(input_sentence):\n",
    "    tokenized_input_sentence = X_vectorization([input_sentence])\n",
    "    decoded_sentence = \"[start]\"\n",
    "    for i in range(max_decoded_sentence_length):\n",
    "        tokenized_target_sentence = y_vectorization([decoded_sentence])[:, :-1]\n",
    "        predictions = transformer([tokenized_input_sentence, tokenized_target_sentence])\n",
    "\n",
    "        sampled_token_index = np.argmax(predictions[0, i, :])\n",
    "        sampled_token = y_index_lookup[sampled_token_index]\n",
    "        decoded_sentence += \" \" + sampled_token\n",
    "\n",
    "        if sampled_token == \"[END]\":\n",
    "            break\n",
    "    return decoded_sentence"
   ]
  },
  {
   "cell_type": "code",
   "execution_count": 152,
   "metadata": {},
   "outputs": [
    {
     "name": "stdout",
     "output_type": "stream",
     "text": [
      "CPU times: user 8.07 s, sys: 307 ms, total: 8.38 s\n",
      "Wall time: 8.08 s\n"
     ]
    },
    {
     "data": {
      "text/plain": [
       "'[start] s- 2 mul pow e 2 add mul s- 1 s_12 mul 2 pow m_down 2  add add add 2 add mul add s_25  s_14 add s_25 s_13 s_14 add add s_14 2 mul mul s_14 mul mul 2   s_13 mul s_15  s_25  mul 2 s_34 s_13 s_25 mul s_24 s_23 2 s_34 s_15 s_15 s_15 s_13 add s_23 add s_14 pow s_14 s_34 s_34 s_34 s_34  s_23 2 4 s_45 add s_14 s- s_12 s_25 add s_34 add add add add 2 add s_35 2 4 add mul mul add s_24 s- s_13 mul 2 mul s_12 s_15 2 s_24 mul mul mul  s_12 s_14 s_14  s_14  mul s_16 mul 2 mul s_12 mul 2  pow s_34 s_24 s_24 pow  s_34 s_13  8 s_45 add 2 add 2 mul s_14 mul s_25 mul  s_45 add  mul add s_14 s_14 2  mul s_34  s_13 s_12 mul s_15 mul  s_35 s_34 2 mul s_25 s_45 s_12 s_12 s_14 s_13 s_34 2 s_34 s_13 mul s_14 s_23 add s_34 s_13 s_45 mul s_15 add s_23 s- mul mul mul s_14 mul s_23 s-  s_34  s_45  mul  s_15 mul s_56 mul mul mul 1 s_45 s_15  s_35 mul mul s_14 s_25 4 s_15 mul mul s_34 2 4 mul s_24 1  add s_34 s_14 mul mul  s_45 add add mul add mul mul pow  mul 2 2 2 s_34 2 mul mul  add 2 mul mul s_23 s_35 mul mul 2 mul mul 2 2 mul mul mul mul  2 mul 2  mul mul mul mul mul 2 mul 4 s_34 mul mul pow s_34 4 mul 2 2 mul s_45 mul 2 mul 2 mul 2 mul s_23 s_45 2 s_14 4 s_45 s_24 s_25 pow s_13 2 add s_13 s_13 s_25 mul 2 2 2  s_34  s_45 s_25 s_12  s- add s_45 mul mul  2 mul 4 s_13 add add mul s_34 4 2 s_45 s_23 m_up add'"
      ]
     },
     "execution_count": 152,
     "metadata": {},
     "output_type": "execute_result"
    }
   ],
   "source": [
    "%%time\n",
    "decode_sequence(X_train_text[0])"
   ]
  },
  {
   "cell_type": "code",
   "execution_count": 153,
   "metadata": {},
   "outputs": [
    {
     "data": {
      "text/plain": [
       "'mul 4 mul pow e 2 add s_12 mul 2 pow m_e 2'"
      ]
     },
     "execution_count": 153,
     "metadata": {},
     "output_type": "execute_result"
    }
   ],
   "source": [
    "y_train_text[0]"
   ]
  },
  {
   "cell_type": "code",
   "execution_count": 154,
   "metadata": {},
   "outputs": [
    {
     "data": {
      "text/plain": [
       "'[start] 8 mul pow e 6 mul pow add mul s- 1 reg_prop mul 2 s_14 s- 2 mul pow add reg_prop add mul s- 2 s_14 add mul s- 2 s_24 mul 2 s_12 s- 2 add mul s- 4 s_14 mul 2 add mul pow m_up 2 add mul s- 2 mul s_14 s_34 add mul s- 2 mul s_14 s_45 mul s- 2 mul 2 mul s_14 s_35 add mul s_15 s_25 add mul 4 mul s_14 s_35 add mul pow m_up 4 add mul s- 4 s_35 add mul s- 2 s_34 add mul s- 2 s_45 add mul 2 s_13 add mul 2 s_15 mul 4 s_14 mul 2 mul s_14 mul s_35 s_45  4 mul mul s_34 s_14 s_34 2 s_35 s_25 s_13 s_14 s_14 pow s_45 add s_13 s_23 mul s_45 mul s_24 s_15 s_45 mul s_14 8 s_25 mul add s_15 mul s_15 s_15 s_34 mul s_45 2 add mul s_25 s_16 s_26 s_45 mul s_56 mul s_35 s_35 s_23 s_25 mul s_23 mul s_12 add add add add mul mul s_15 mul s_15 mul add mul add s_35 add s_25 add s_45 add s_15 mul add s_13 mul s_34 s- s_15 mul  2  mul add mul mul mul s_45 s_14 mul pow mul s-  add mul s_34 s_15 s_35 4 s_35 s_15 mul s- mul mul 1 s_24 s_45 1 add s_34 s_45 s_24 mul add s_35 s_24 s_45 s_45 add mul mul s_45 s_45 mul s_46 s_14 2 mul mul mul add s_23 add mul s- mul s_23 2 mul s_14 mul mul 2 s_13 mul mul mul mul s_15 s_15 2 mul mul add mul s_36 mul mul s_12 mul mul 4 mul mul mul mul s_14 pow mul s_15 mul mul s_45 mul mul mul 2 mul 4 mul s_15 mul 2 s_13 s_12 s_45 s_34 add s_15 4 2 add s_13 s_56 s_15 s_15 s_34 s_15 2 add s_14 s_34 s_35 s_25 s_34 pow s_15 add s_14 add s_35 s_35 4 s_12 4 s_13 add s- s- s_45 s_35 s_23 add add s_15 mul'"
      ]
     },
     "execution_count": 154,
     "metadata": {},
     "output_type": "execute_result"
    }
   ],
   "source": [
    "decode_sequence(X_val_text[20])"
   ]
  },
  {
   "cell_type": "code",
   "execution_count": 155,
   "metadata": {},
   "outputs": [
    {
     "data": {
      "text/plain": [
       "'mul 8 mul pow e 6 mul pow add mul s- 1 reg_prop mul 2 s_14 s- 2 mul pow add reg_prop add mul s- 2 s_14 add mul s- 2 s_24 mul 2 s_12 s- 2 add mul s- 4 pow m_e 6 add mul pow m_e 2 add mul s- 2 mul s_14 s_34 add mul s- 2 mul s_14 s_45 add mul s- 2 mul s_15 s_35 add mul 2 mul s_35 s_45 mul 4 mul s_14 s_35 add mul pow m_e 4 add mul s- 4 s_35 add mul s- 2 s_34 add mul s- 2 s_45 add mul 2 s_13 add mul 2 s_15 mul 4 s_14 mul 2 mul s_14 mul s_35 s_45'"
      ]
     },
     "execution_count": 155,
     "metadata": {},
     "output_type": "execute_result"
    }
   ],
   "source": [
    "y_val_text[20]"
   ]
  },
  {
   "cell_type": "code",
   "execution_count": null,
   "metadata": {},
   "outputs": [],
   "source": []
  }
 ],
 "metadata": {
  "kernelspec": {
   "display_name": "Python 3.9.12 ('base')",
   "language": "python",
   "name": "python3"
  },
  "language_info": {
   "codemirror_mode": {
    "name": "ipython",
    "version": 3
   },
   "file_extension": ".py",
   "mimetype": "text/x-python",
   "name": "python",
   "nbconvert_exporter": "python",
   "pygments_lexer": "ipython3",
   "version": "3.9.12"
  },
  "orig_nbformat": 4,
  "vscode": {
   "interpreter": {
    "hash": "c4adc2ea131058d4ca334736eaf83f8a99f586a60b7e02773f5921bb39d3dbeb"
   }
  }
 },
 "nbformat": 4,
 "nbformat_minor": 2
}
