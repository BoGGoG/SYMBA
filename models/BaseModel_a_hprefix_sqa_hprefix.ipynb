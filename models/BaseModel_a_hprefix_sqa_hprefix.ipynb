{
 "cells": [
  {
   "cell_type": "markdown",
   "metadata": {},
   "source": [
    "# Base Model QED\n",
    "This is the base setup for working on QED data.\n",
    "It shows how to import the data and how to convert the expressions into different formats.\n",
    "\n",
    "amplitdues: prefix  \n",
    "squared amplitdues: hybrid prefix"
   ]
  },
  {
   "cell_type": "code",
   "execution_count": 1,
   "metadata": {},
   "outputs": [],
   "source": [
    "colab = False\n",
    "\n",
    "if colab:\n",
    "    # Install the most re version of TensorFlow to use the improved\n",
    "    # masking support for `tf.keras.layers.MultiHeadAttention`.\n",
    "    !apt install --allow-change-held-packages libcudnn8=8.1.0.77-1+cuda11.2\n",
    "    !pip uninstall -y -q tensorflow keras tensorflow-estimator tensorflow-text\n",
    "    !pip install -q tensorflow_datasets\n",
    "    !pip install -q -U tensorflow-text tensorflow\n",
    "    !pip install -q icecream"
   ]
  },
  {
   "cell_type": "code",
   "execution_count": 2,
   "metadata": {},
   "outputs": [],
   "source": [
    "import os\n",
    "if colab:\n",
    "    from google.colab import drive\n",
    "    drive.mount('/content/drive')\n",
    "    os.chdir('/content/drive/MyDrive/SYMBA/models')"
   ]
  },
  {
   "cell_type": "code",
   "execution_count": 3,
   "metadata": {},
   "outputs": [
    {
     "name": "stderr",
     "output_type": "stream",
     "text": [
      "2022-12-01 15:40:52.054966: I tensorflow/core/platform/cpu_feature_guard.cc:193] This TensorFlow binary is optimized with oneAPI Deep Neural Network Library (oneDNN) to use the following CPU instructions in performance-critical operations:  AVX2 AVX_VNNI FMA\n",
      "To enable them in other operations, rebuild TensorFlow with the appropriate compiler flags.\n",
      "2022-12-01 15:40:52.228170: I tensorflow/core/util/util.cc:169] oneDNN custom operations are on. You may see slightly different numerical results due to floating-point round-off errors from different computation orders. To turn them off, set the environment variable `TF_ENABLE_ONEDNN_OPTS=0`.\n",
      "2022-12-01 15:40:52.295970: E tensorflow/stream_executor/cuda/cuda_blas.cc:2981] Unable to register cuBLAS factory: Attempting to register factory for plugin cuBLAS when one has already been registered\n",
      "2022-12-01 15:40:52.969483: W tensorflow/stream_executor/platform/default/dso_loader.cc:64] Could not load dynamic library 'libnvinfer.so.7'; dlerror: libnvinfer.so.7: cannot open shared object file: No such file or directory; LD_LIBRARY_PATH: /home/boggog/Documents/marty-public/marty/lib:/usr/local/lib::/home/boggog/anaconda3/lib/:/usr/local/lib:/home/boggog/anaconda3/lib/:/home/boggog/anaconda3/lib/\n",
      "2022-12-01 15:40:52.969542: W tensorflow/stream_executor/platform/default/dso_loader.cc:64] Could not load dynamic library 'libnvinfer_plugin.so.7'; dlerror: libnvinfer_plugin.so.7: cannot open shared object file: No such file or directory; LD_LIBRARY_PATH: /home/boggog/Documents/marty-public/marty/lib:/usr/local/lib::/home/boggog/anaconda3/lib/:/usr/local/lib:/home/boggog/anaconda3/lib/:/home/boggog/anaconda3/lib/\n",
      "2022-12-01 15:40:52.969547: W tensorflow/compiler/tf2tensorrt/utils/py_utils.cc:38] TF-TRT Warning: Cannot dlopen some TensorRT libraries. If you would like to use Nvidia GPU with TensorRT, please make sure the missing libraries mentioned above are installed properly.\n"
     ]
    }
   ],
   "source": [
    "from icecream import ic\n",
    "import sympy as sp\n",
    "from itertools import (takewhile,repeat)\n",
    "from tqdm import tqdm\n",
    "import numpy as np\n",
    "import sys\n",
    "import os\n",
    "import importlib.util\n",
    "from sklearn.model_selection import train_test_split\n",
    "import matplotlib.pyplot as plt\n",
    "from tqdm.notebook import tqdm\n",
    "from tensorflow.keras.layers import TextVectorization\n",
    "from tensorflow.keras import layers\n",
    "import tensorflow as tf\n",
    "from tensorflow import keras\n",
    "import pickle\n",
    "import tensorflow_text as tf_text"
   ]
  },
  {
   "cell_type": "code",
   "execution_count": 4,
   "metadata": {},
   "outputs": [
    {
     "name": "stderr",
     "output_type": "stream",
     "text": [
      "2022-12-01 15:40:54.244572: I tensorflow/stream_executor/cuda/cuda_gpu_executor.cc:980] successful NUMA node read from SysFS had negative value (-1), but there must be at least one NUMA node, so returning NUMA node zero\n",
      "2022-12-01 15:40:54.279567: I tensorflow/stream_executor/cuda/cuda_gpu_executor.cc:980] successful NUMA node read from SysFS had negative value (-1), but there must be at least one NUMA node, so returning NUMA node zero\n",
      "2022-12-01 15:40:54.279757: I tensorflow/stream_executor/cuda/cuda_gpu_executor.cc:980] successful NUMA node read from SysFS had negative value (-1), but there must be at least one NUMA node, so returning NUMA node zero\n"
     ]
    },
    {
     "data": {
      "text/plain": [
       "[PhysicalDevice(name='/physical_device:GPU:0', device_type='GPU')]"
      ]
     },
     "execution_count": 4,
     "metadata": {},
     "output_type": "execute_result"
    }
   ],
   "source": [
    "tf.config.list_physical_devices('GPU')"
   ]
  },
  {
   "cell_type": "code",
   "execution_count": 5,
   "metadata": {},
   "outputs": [],
   "source": [
    "if \"..\" not in sys.path:\n",
    "    sys.path.insert(0, \"..\")"
   ]
  },
  {
   "cell_type": "code",
   "execution_count": 6,
   "metadata": {},
   "outputs": [],
   "source": [
    "import data_preprocessing.tree.sympy_to_tree as sp2tree\n",
    "from data_preprocessing.sympy_prefix.source.SympyPrefix import prefix_to_sympy, sympy_to_prefix, sympy_to_hybrid_prefix, hybrid_prefix_to_sympy\n",
    "from data_preprocessing.ampl_tree.source.ampl_to_tree import ampl_to_tree, raw_ampl_to_tree, expand_tree, contract_tree, subscripts_to_subtree, rename_indices, get_tree, tree_to_prefix"
   ]
  },
  {
   "cell_type": "code",
   "execution_count": 7,
   "metadata": {},
   "outputs": [],
   "source": [
    "import data_preprocessing.expressions_shortener.expressions_shortener as es"
   ]
  },
  {
   "cell_type": "markdown",
   "metadata": {},
   "source": [
    "# Data Preparation\n",
    "This only needs to be run once, then the data is cached."
   ]
  },
  {
   "cell_type": "code",
   "execution_count": 5,
   "metadata": {},
   "outputs": [],
   "source": [
    "import re\n",
    "def fix_i(expr_str):\n",
    "    reg_ex = \"[^a-z]i[^a-z,^\\d]\"\n",
    "    replaced = re.sub(reg_ex, fix_i_match, expr_str)\n",
    "    return replaced\n",
    "    \n",
    "def fix_i_match(matchobj):\n",
    "    \"\"\"\n",
    "    i --> I\n",
    "    \"\"\"\n",
    "    match = matchobj.group(0)\n",
    "    return match.replace(\"i\", \"I\")\n",
    "\n",
    "\n",
    "def rawincount(filename):\n",
    "    \"\"\"count numer of lines in a file. \n",
    "    From https://stackoverflow.com/questions/845058/how-to-get-line-count-of-a-large-file-cheaply-in-python\n",
    "    \"\"\"\n",
    "    f = open(filename, 'rb')\n",
    "    bufgen = takewhile(lambda x: x, (f.raw.read(1024*1024) for _ in repeat(None)))\n",
    "    return sum( buf.count(b'\\n') for buf in bufgen )\n",
    "\n",
    "def load_raw_amplitudes(filename, max_lines=-1):\n",
    "    \"\"\"\n",
    "    Loading raw amplitudes from filename.\n",
    "    \n",
    "    Options:\n",
    "        - `max_lines`: maximum number of lines to read\n",
    "    \"\"\"\n",
    "    print(\"Loading amplitudes from \"+ filename)\n",
    "    if max_lines > 0:\n",
    "        number_of_lines = max_lines\n",
    "    else:\n",
    "        number_of_lines = rawincount(filename)\n",
    "        ic(number_of_lines)\n",
    "    data = [0 for i in range(number_of_lines-1)]\n",
    "    pbar = tqdm(total=number_of_lines)\n",
    "    with open(filename) as f:\n",
    "        line = f.readline()\n",
    "        ctr = 0\n",
    "        data[ctr] = line.replace(\"\\n\", \"\").split(\";\")\n",
    "        while line:\n",
    "            line = f.readline()\n",
    "            if line != \"\":\n",
    "                data[ctr] = line.replace(\"\\n\", \"\").split(\";\")\n",
    "            pbar.update(1)\n",
    "            ctr = ctr + 1\n",
    "            if ctr >= number_of_lines:\n",
    "                break\n",
    "    pbar.close()\n",
    "    return data\n",
    "\n",
    "\n",
    "def load_squared_amplitudes(filename, max_lines=-1):\n",
    "    \"\"\"\n",
    "    Loading squared amplitudes from filename and parsing into sympy.\n",
    "    All squared amplitudes should be exportet from sympy and thus be readable\n",
    "    without any preprocessing.\n",
    "\n",
    "    Options:\n",
    "        - `max_lines`: maximum number of lines to read\n",
    "\n",
    "    Returns:\n",
    "        list of squared amplitudes, each as a sympy expression\n",
    "    \"\"\"\n",
    "    print(\"Loading squared amplitudes from \"+ filename)\n",
    "    if max_lines > 0:\n",
    "        number_of_lines = max_lines\n",
    "    else:\n",
    "        number_of_lines = rawincount(filename)\n",
    "        ic(number_of_lines)\n",
    "    data = [0 for i in range(number_of_lines-1)]\n",
    "    pbar = tqdm(total=number_of_lines)\n",
    "    with open(filename) as f:\n",
    "       line = f.readline()\n",
    "       line_sp = sp.sympify(line.strip())\n",
    "       ctr = 0\n",
    "       data[ctr] = line_sp\n",
    "       while line:\n",
    "            line = f.readline()\n",
    "            if line != \"\":\n",
    "                line = line.strip()\n",
    "                line = fix_i(line)\n",
    "                line_sp = sp.sympify(line.strip())\n",
    "                data[ctr] = line_sp\n",
    "            pbar.update(1)\n",
    "            ctr = ctr + 1\n",
    "            if ctr >= number_of_lines:\n",
    "                break\n",
    "    pbar.close()\n",
    "    return data"
   ]
  },
  {
   "cell_type": "code",
   "execution_count": null,
   "metadata": {},
   "outputs": [],
   "source": [
    "data_folder = \"../data.nosync/\"\n",
    "amplitudes_filename_start = \"QED_amplitudes_TreeLevel_\"\n",
    "sqamplitudes_filename_start = \"QED_sqamplitudes_TreeLevel_\"\n",
    "processes = [\"1to2\", \"2to1\", \"2to2\", \"2to3\", \"3to2\"]\n",
    "max_lines = -1\n",
    "\n",
    "amplitudes = []\n",
    "sqamplitudes = []\n",
    "for process in processes:\n",
    "    ampl_f = data_folder + amplitudes_filename_start + process + \"_raw\"+ \".txt\"\n",
    "    sqampl_f = data_folder + sqamplitudes_filename_start + process + \".txt\"\n",
    "    amplitudes_process = load_raw_amplitudes(ampl_f, max_lines=max_lines)\n",
    "    sqamplitudes_process = load_squared_amplitudes(sqampl_f, max_lines=max_lines)\n",
    "    amplitudes.append(amplitudes_process)\n",
    "    sqamplitudes.append(sqamplitudes_process)"
   ]
  },
  {
   "cell_type": "markdown",
   "metadata": {},
   "source": [
    "We will keep the different amplitudes separated for now, so `amplitudes` has the form\n",
    "`[multiplicity, i]` where `multiplicity = [\"1to2\", \"2to1\", ...]`."
   ]
  },
  {
   "cell_type": "code",
   "execution_count": 12,
   "metadata": {},
   "outputs": [
    {
     "name": "stdout",
     "output_type": "stream",
     "text": [
      "['Prod', '(', '2/3', 'i', 'e', 'gamma_{%\\\\lambda_169,%eta_137,%del_161}', 'A_{l_3,+%\\\\lambda_169}(p_3)', 'c_{i_3,%eta_137}(p_1)_u^(*)', 'c_{k_3,%del_161}(p_2)_u', ')']\n"
     ]
    }
   ],
   "source": [
    "print(amplitudes[1][-1])"
   ]
  },
  {
   "cell_type": "code",
   "execution_count": 13,
   "metadata": {},
   "outputs": [
    {
     "name": "stdout",
     "output_type": "stream",
     "text": [
      "-8*e**2*(2*m_c**2 - s_12)/9\n"
     ]
    }
   ],
   "source": [
    "print(sqamplitudes[1][-1])"
   ]
  },
  {
   "cell_type": "code",
   "execution_count": 17,
   "metadata": {},
   "outputs": [],
   "source": [
    "for a, sqa in zip(amplitudes, sqamplitudes):\n",
    "    assert len(a) == len(sqa)"
   ]
  },
  {
   "cell_type": "code",
   "execution_count": 18,
   "metadata": {},
   "outputs": [
    {
     "name": "stderr",
     "output_type": "stream",
     "text": [
      "ic| len(a): 431\n",
      "ic| len(sqa): 431\n",
      "ic| len(a): 431\n",
      "ic| len(sqa): 431\n",
      "ic| len(a): 10943\n",
      "ic| len(sqa): 10943\n",
      "ic| len(a): 129023\n",
      "ic| len(sqa): 129023\n",
      "ic| len(a): 129023\n",
      "ic| len(sqa): 129023\n"
     ]
    }
   ],
   "source": [
    "# the amplitudes are in prefix format\n",
    "for a, sqa in zip(amplitudes, sqamplitudes):\n",
    "    ic(len(a))\n",
    "    ic(len(sqa))"
   ]
  },
  {
   "cell_type": "markdown",
   "metadata": {},
   "source": [
    "## Only unique amplitudes\n",
    "We only want unique amplitudes, others are thrown away."
   ]
  },
  {
   "cell_type": "code",
   "execution_count": 19,
   "metadata": {},
   "outputs": [],
   "source": [
    "def get_unique_indices(amps):\n",
    "    amps = [\" \".join(a) for a in amps]\n",
    "    tmp = np.sort(np.unique(amps, return_index=True, axis=0)[1])\n",
    "    return tmp"
   ]
  },
  {
   "cell_type": "code",
   "execution_count": 20,
   "metadata": {},
   "outputs": [],
   "source": [
    "unique_indices = [get_unique_indices(a) for a in amplitudes]"
   ]
  },
  {
   "cell_type": "code",
   "execution_count": 21,
   "metadata": {},
   "outputs": [],
   "source": [
    "amplitudes_unique_a = [[amplitudes[j][ind] for ind in unique_indices[j]] for j in range(len(amplitudes))]\n",
    "sqamplitudes_corresponding_a = [[sqamplitudes[j][ind] for ind in unique_indices[j]] for j in range(len(amplitudes))]"
   ]
  },
  {
   "cell_type": "code",
   "execution_count": 22,
   "metadata": {},
   "outputs": [],
   "source": [
    "export_folder = \"../data.nosync/BaseModelDataCache/\"\n",
    "\n",
    "with open(export_folder+\"amplitudes.pickle\", \"bw\") as f:\n",
    "    pickle.dump(amplitudes_unique_a, f)\n",
    "\n",
    "with open(export_folder+\"sqamplitudes.pickle\", \"bw\") as f:\n",
    "    pickle.dump(sqamplitudes_corresponding_a, f)"
   ]
  },
  {
   "cell_type": "markdown",
   "metadata": {},
   "source": [
    "# Data Format Conversion\n",
    "We need to convert the squared amplitudes, which are sympy expressions now, into something. In this notebook we will use the prefix notation."
   ]
  },
  {
   "cell_type": "code",
   "execution_count": 8,
   "metadata": {},
   "outputs": [],
   "source": [
    "export_folder = \"../data.nosync/BaseModelDataCache/\"\n",
    "\n",
    "with open(export_folder+\"amplitudes.pickle\", \"rb\") as f:\n",
    "    amplitudes_unique = pickle.load(f)\n",
    "    # amplitudes_unique = [[a.split(\",\") for a in amps] for amps in amplitudes_unique]\n",
    "\n",
    "with open(export_folder+\"sqamplitudes.pickle\", \"rb\") as f:\n",
    "    sqamplitudes_corresponding = pickle.load(f)"
   ]
  },
  {
   "cell_type": "code",
   "execution_count": 20,
   "metadata": {},
   "outputs": [
    {
     "data": {
      "application/vnd.jupyter.widget-view+json": {
       "model_id": "986683db0053428884316d67bb4917a9",
       "version_major": 2,
       "version_minor": 0
      },
      "text/plain": [
       "  0%|          | 0/108 [00:00<?, ?it/s]"
      ]
     },
     "metadata": {},
     "output_type": "display_data"
    },
    {
     "data": {
      "application/vnd.jupyter.widget-view+json": {
       "model_id": "870e0db07f9d47a1be8681c7d1ab73ca",
       "version_major": 2,
       "version_minor": 0
      },
      "text/plain": [
       "  0%|          | 0/108 [00:00<?, ?it/s]"
      ]
     },
     "metadata": {},
     "output_type": "display_data"
    },
    {
     "data": {
      "application/vnd.jupyter.widget-view+json": {
       "model_id": "b46033fdec8c4bb685a00e7105d5c85e",
       "version_major": 2,
       "version_minor": 0
      },
      "text/plain": [
       "  0%|          | 0/3878 [00:00<?, ?it/s]"
      ]
     },
     "metadata": {},
     "output_type": "display_data"
    },
    {
     "data": {
      "application/vnd.jupyter.widget-view+json": {
       "model_id": "ae6d4a7597064597bd697a91a1dcb4dc",
       "version_major": 2,
       "version_minor": 0
      },
      "text/plain": [
       "  0%|          | 0/72694 [00:00<?, ?it/s]"
      ]
     },
     "metadata": {},
     "output_type": "display_data"
    },
    {
     "data": {
      "application/vnd.jupyter.widget-view+json": {
       "model_id": "783f1de011ba4fa5b69c13240add9fdb",
       "version_major": 2,
       "version_minor": 0
      },
      "text/plain": [
       "  0%|          | 0/72612 [00:00<?, ?it/s]"
      ]
     },
     "metadata": {},
     "output_type": "display_data"
    },
    {
     "data": {
      "text/plain": [
       "array(['mul(', 's-', '4', 'pow', 'e', '2', 'add', 'mul', 's-', '1',\n",
       "       's_12', 'mul', '2', 'pow', 'm_mu', '2', ')'], dtype='<U4')"
      ]
     },
     "execution_count": 20,
     "metadata": {},
     "output_type": "execute_result"
    }
   ],
   "source": [
    "# shorten expressions with expressions_shortener\n",
    "# convert squared ampmlitudes to prefix\n",
    "ctr = 0\n",
    "def try_sympy_to_hybrid_prefix(expr):\n",
    "    global ctr\n",
    "    ctr = ctr + 1\n",
    "    try:\n",
    "        return sympy_to_hybrid_prefix(expr)\n",
    "    except:\n",
    "        print(\"problem with:\", expr, \"at ctr =\", ctr)\n",
    "        return 0\n",
    "sqampl_hybrid_prefix = [[try_sympy_to_hybrid_prefix(a) for a in tqdm(sq)] for sq in sqamplitudes_corresponding]\n",
    "np.array(sqampl_hybrid_prefix[0][0])"
   ]
  },
  {
   "cell_type": "code",
   "execution_count": 22,
   "metadata": {},
   "outputs": [
    {
     "data": {
      "application/vnd.jupyter.widget-view+json": {
       "model_id": "320eed7aeefc411182f25dc24c42ed72",
       "version_major": 2,
       "version_minor": 0
      },
      "text/plain": [
       "  0%|          | 0/108 [00:00<?, ?it/s]"
      ]
     },
     "metadata": {},
     "output_type": "display_data"
    },
    {
     "data": {
      "application/vnd.jupyter.widget-view+json": {
       "model_id": "6f921f6dfc9045a5afa2faedaa132a52",
       "version_major": 2,
       "version_minor": 0
      },
      "text/plain": [
       "  0%|          | 0/108 [00:00<?, ?it/s]"
      ]
     },
     "metadata": {},
     "output_type": "display_data"
    },
    {
     "data": {
      "application/vnd.jupyter.widget-view+json": {
       "model_id": "9b649cfa200140648a1d14a545abc4dd",
       "version_major": 2,
       "version_minor": 0
      },
      "text/plain": [
       "  0%|          | 0/3878 [00:00<?, ?it/s]"
      ]
     },
     "metadata": {},
     "output_type": "display_data"
    },
    {
     "data": {
      "application/vnd.jupyter.widget-view+json": {
       "model_id": "4bb7ca98604d4d0caad649bcb352e6b1",
       "version_major": 2,
       "version_minor": 0
      },
      "text/plain": [
       "  0%|          | 0/72694 [00:00<?, ?it/s]"
      ]
     },
     "metadata": {},
     "output_type": "display_data"
    },
    {
     "data": {
      "application/vnd.jupyter.widget-view+json": {
       "model_id": "210e62557fff496f802a2e334421f3d6",
       "version_major": 2,
       "version_minor": 0
      },
      "text/plain": [
       "  0%|          | 0/72612 [00:00<?, ?it/s]"
      ]
     },
     "metadata": {},
     "output_type": "display_data"
    },
    {
     "data": {
      "text/plain": [
       "array(['mul(', 's-', '4', 'pow', 'e', '2', 'add', 'mul', 's-', '1',\n",
       "       's_12', 'mul', '2', 'pow', 'm_mu', '2', ')'], dtype='<U4')"
      ]
     },
     "execution_count": 22,
     "metadata": {},
     "output_type": "execute_result"
    }
   ],
   "source": [
    "# shorten expressions with expressions_shortener\n",
    "# convert squared ampmlitudes to prefix\n",
    "ctr = 0\n",
    "def try_sympy_to_hybrid_prefix_short(expr):\n",
    "    global ctr\n",
    "    ctr = ctr + 1\n",
    "    try:\n",
    "        expr_shortened = es.shorten_expression(expr)\n",
    "        return sympy_to_hybrid_prefix(expr_shortened)\n",
    "    except:\n",
    "        print(\"problem with:\", expr, \"at ctr =\", ctr)\n",
    "        return 0\n",
    "sqampl_hybrid_prefix_short = [[try_sympy_to_hybrid_prefix_short(a) for a in tqdm(sq)] for sq in sqamplitudes_corresponding]\n",
    "np.array(sqampl_hybrid_prefix[0][0])"
   ]
  },
  {
   "cell_type": "code",
   "execution_count": 23,
   "metadata": {},
   "outputs": [],
   "source": [
    "sqampls_lengths = [[len(a) for a in sqampls] for sqampls in sqampl_hybrid_prefix]\n",
    "sqampls_lengths_short = [[len(a) for a in sqampls] for sqampls in sqampl_hybrid_prefix_short]"
   ]
  },
  {
   "cell_type": "code",
   "execution_count": 24,
   "metadata": {},
   "outputs": [
    {
     "data": {
      "text/plain": [
       "Text(0, 0.5, 'number of occurances')"
      ]
     },
     "execution_count": 24,
     "metadata": {},
     "output_type": "execute_result"
    },
    {
     "data": {
      "image/png": "[encoded data removed]",
      "text/plain": [
       "<Figure size 432x288 with 1 Axes>"
      ]
     },
     "metadata": {
      "needs_background": "light"
     },
     "output_type": "display_data"
    }
   ],
   "source": [
    "plt.hist(sqampls_lengths, bins=100,);\n",
    "plt.xlabel(\"sqamplitude token length\")\n",
    "plt.ylabel(\"number of occurances\")"
   ]
  },
  {
   "cell_type": "code",
   "execution_count": 25,
   "metadata": {},
   "outputs": [
    {
     "data": {
      "text/plain": [
       "Text(0, 0.5, 'number of occurances')"
      ]
     },
     "execution_count": 25,
     "metadata": {},
     "output_type": "execute_result"
    },
    {
     "data": {
      "image/png": "[encoded data removed]",
      "text/plain": [
       "<Figure size 432x288 with 1 Axes>"
      ]
     },
     "metadata": {
      "needs_background": "light"
     },
     "output_type": "display_data"
    }
   ],
   "source": [
    "plt.hist(sqampls_lengths_short, bins=100,);\n",
    "plt.xlabel(\"sqamplitude token length\")\n",
    "plt.ylabel(\"number of occurances\")"
   ]
  },
  {
   "cell_type": "code",
   "execution_count": 9,
   "metadata": {},
   "outputs": [
    {
     "data": {
      "application/vnd.jupyter.widget-view+json": {
       "model_id": "791f873be94544fdb8ba13cbe11fec03",
       "version_major": 2,
       "version_minor": 0
      },
      "text/plain": [
       "  0%|          | 0/108 [00:00<?, ?it/s]"
      ]
     },
     "metadata": {},
     "output_type": "display_data"
    },
    {
     "data": {
      "application/vnd.jupyter.widget-view+json": {
       "model_id": "31687f3fd13f4024977f769cb093ebb3",
       "version_major": 2,
       "version_minor": 0
      },
      "text/plain": [
       "  0%|          | 0/108 [00:00<?, ?it/s]"
      ]
     },
     "metadata": {},
     "output_type": "display_data"
    },
    {
     "data": {
      "application/vnd.jupyter.widget-view+json": {
       "model_id": "ca795df52e254a2bb065de1c87f59537",
       "version_major": 2,
       "version_minor": 0
      },
      "text/plain": [
       "  0%|          | 0/3878 [00:00<?, ?it/s]"
      ]
     },
     "metadata": {},
     "output_type": "display_data"
    },
    {
     "data": {
      "application/vnd.jupyter.widget-view+json": {
       "model_id": "b00e328e53dd4a35896dff704c499680",
       "version_major": 2,
       "version_minor": 0
      },
      "text/plain": [
       "  0%|          | 0/72694 [00:00<?, ?it/s]"
      ]
     },
     "metadata": {},
     "output_type": "display_data"
    },
    {
     "data": {
      "application/vnd.jupyter.widget-view+json": {
       "model_id": "a82d2344aae14ec993bad4492cc33e65",
       "version_major": 2,
       "version_minor": 0
      },
      "text/plain": [
       "  0%|          | 0/72612 [00:00<?, ?it/s]"
      ]
     },
     "metadata": {},
     "output_type": "display_data"
    }
   ],
   "source": [
    "# convert amplitudes to prefix\n",
    "amplitudes_tree = [[raw_ampl_to_tree(a, needs_split=False) for a in tqdm(aa)] for aa in amplitudes_unique]"
   ]
  },
  {
   "cell_type": "code",
   "execution_count": 10,
   "metadata": {},
   "outputs": [
    {
     "name": "stdout",
     "output_type": "stream",
     "text": [
      "                                                   Prod                                                 \n",
      " ┌───┬───┬─────────────────┬────────────────────────┼────────────────────┬───────────────────┐           \n",
      " │   │   │               gamma                    A^(*)                 mu_u              mu_u^(*)      \n",
      " │   │   │       ┌─────────┼────────┐      ┌────────┼────────┐    ┌──────┼───────┐    ┌──────┼───────┐   \n",
      " -1  i   e  %lambda_167 %eta_137 %gam_155 %l_3 %lambda_167 (p_3) %i_3 %gam_155 (p_1) %k_3 %eta_137 (p_2)\n",
      "\n",
      "                                               Prod                                                \n",
      " ┌────┬───┬──────────────┬──────────────────────┼───────────────────┬───────────────────┐           \n",
      " │    │   │            gamma                  A^(*)                b_u               b_u^(*)       \n",
      " │    │   │     ┌────────┼────────┐      ┌──────┼───────┐    ┌──────┼───────┐    ┌──────┼───────┐   \n",
      "-1/3  i   e  %tau_111 %del_171 %del_172 %l_3 %tau_111 (p_3) %i_3 %del_172 (p_1) %k_3 %del_171 (p_2)\n",
      "\n"
     ]
    }
   ],
   "source": [
    "amplitudes_tree[0][0].pretty_print(unicodelines=True)\n",
    "amplitudes_tree[0][-10].pretty_print(unicodelines=True)"
   ]
  },
  {
   "cell_type": "code",
   "execution_count": 11,
   "metadata": {},
   "outputs": [
    {
     "data": {
      "application/vnd.jupyter.widget-view+json": {
       "model_id": "ac2f64672de34cda96529aeba060ed48",
       "version_major": 2,
       "version_minor": 0
      },
      "text/plain": [
       "  0%|          | 0/108 [00:00<?, ?it/s]"
      ]
     },
     "metadata": {},
     "output_type": "display_data"
    },
    {
     "data": {
      "application/vnd.jupyter.widget-view+json": {
       "model_id": "488ea7fc1ed249e7b68651fd9c3b377c",
       "version_major": 2,
       "version_minor": 0
      },
      "text/plain": [
       "  0%|          | 0/108 [00:00<?, ?it/s]"
      ]
     },
     "metadata": {},
     "output_type": "display_data"
    },
    {
     "data": {
      "application/vnd.jupyter.widget-view+json": {
       "model_id": "3e52d4de14d14a72b836160850630315",
       "version_major": 2,
       "version_minor": 0
      },
      "text/plain": [
       "  0%|          | 0/3878 [00:00<?, ?it/s]"
      ]
     },
     "metadata": {},
     "output_type": "display_data"
    },
    {
     "data": {
      "application/vnd.jupyter.widget-view+json": {
       "model_id": "a39008b536764c519b62fd88dff088d8",
       "version_major": 2,
       "version_minor": 0
      },
      "text/plain": [
       "  0%|          | 0/72694 [00:00<?, ?it/s]"
      ]
     },
     "metadata": {},
     "output_type": "display_data"
    },
    {
     "data": {
      "application/vnd.jupyter.widget-view+json": {
       "model_id": "609b6194286e48fd90e7ea5bf672bb15",
       "version_major": 2,
       "version_minor": 0
      },
      "text/plain": [
       "  0%|          | 0/72612 [00:00<?, ?it/s]"
      ]
     },
     "metadata": {},
     "output_type": "display_data"
    }
   ],
   "source": [
    "amplitudes_hybrid_prefix = [[tree_to_prefix(t, hybrid=True) for t in tqdm(tt)] for tt in amplitudes_tree]"
   ]
  },
  {
   "cell_type": "code",
   "execution_count": 14,
   "metadata": {},
   "outputs": [
    {
     "data": {
      "text/plain": [
       "['Prod(',\n",
       " '-1',\n",
       " 'i',\n",
       " 'e',\n",
       " 'gamma',\n",
       " '%lambda_167',\n",
       " '%eta_137',\n",
       " '%gam_155',\n",
       " 'A^(*)',\n",
       " '%l_3',\n",
       " '%lambda_167',\n",
       " '(p_3)',\n",
       " 'mu_u',\n",
       " '%i_3',\n",
       " '%gam_155',\n",
       " '(p_1)',\n",
       " 'mu_u^(*)',\n",
       " '%k_3',\n",
       " '%eta_137',\n",
       " '(p_2)',\n",
       " ')']"
      ]
     },
     "execution_count": 14,
     "metadata": {},
     "output_type": "execute_result"
    }
   ],
   "source": [
    "amplitudes_hybrid_prefix[0][0]"
   ]
  },
  {
   "cell_type": "code",
   "execution_count": 15,
   "metadata": {},
   "outputs": [],
   "source": [
    "with open(export_folder+\"amplitudes_hybrid_prefix.pickle\", \"bw\") as f:\n",
    "    pickle.dump(amplitudes_hybrid_prefix, f)\n",
    "# with open(export_folder+\"sqampl_hybrid_prefix_short.pickle\", \"bw\") as f:\n",
    "#     pickle.dump(sqampl_hybrid_prefix_short, f)"
   ]
  },
  {
   "cell_type": "markdown",
   "metadata": {},
   "source": [
    "# Reloading converted amplitudes and squared amplitudes"
   ]
  },
  {
   "cell_type": "code",
   "execution_count": 16,
   "metadata": {},
   "outputs": [],
   "source": [
    "export_folder = \"../data.nosync/BaseModelDataCache/\"\n",
    "\n",
    "with open(export_folder+\"amplitudes_hybrid_prefix.pickle\", \"br\") as f:\n",
    "    amplitudes_hybrid_prefix = pickle.load(f)\n",
    "with open(export_folder+\"sqampl_hybrid_prefix_short.pickle\", \"br\") as f:\n",
    "    sqampl_hybrid_prefix_short = pickle.load(f)"
   ]
  },
  {
   "cell_type": "code",
   "execution_count": 17,
   "metadata": {},
   "outputs": [
    {
     "name": "stdout",
     "output_type": "stream",
     "text": [
      "['Prod(', '-1', 'i', 'e', 'gamma', '%lambda_167', '%eta_137', '%gam_155', 'A^(*)', '%l_3', '%lambda_167', '(p_3)', 'mu_u', '%i_3', '%gam_155', '(p_1)', 'mu_u^(*)', '%k_3', '%eta_137', '(p_2)', ')']\n",
      "['Prod(', '-1/3', 'i', 'e', 'gamma', '%tau_111', '%del_171', '%del_172', 'A^(*)', '%l_3', '%tau_111', '(p_3)', 'b_u', '%i_3', '%del_172', '(p_1)', 'b_u^(*)', '%k_3', '%del_171', '(p_2)', ')']\n"
     ]
    }
   ],
   "source": [
    "print(amplitudes_hybrid_prefix[0][0])\n",
    "print(amplitudes_hybrid_prefix[0][-10])"
   ]
  },
  {
   "cell_type": "code",
   "execution_count": 18,
   "metadata": {},
   "outputs": [
    {
     "name": "stdout",
     "output_type": "stream",
     "text": [
      "['mul(', 's-', '4', 'pow', 'e', '2', 'add', 'mul', 's-', '1', 's_12', 'mul', '2', 'm2mu', ')']\n",
      "['mul(', 'mul', 's-', '4', 'pow', '9', 's-', '1', 'pow', 'e', '2', 'add', 'mul', 's-', '1', 's_12', 'mul', '2', 'm2b', ')']\n"
     ]
    }
   ],
   "source": [
    "print(sqampl_hybrid_prefix_short[0][0])\n",
    "print(sqampl_hybrid_prefix_short[0][-10])"
   ]
  },
  {
   "cell_type": "code",
   "execution_count": 19,
   "metadata": {},
   "outputs": [],
   "source": [
    "ampls_lengths = [[len(a) for a in ampls] for ampls in amplitudes_hybrid_prefix]\n",
    "sqampls_lengths_short = [[len(a) for a in sqampls] for sqampls in sqampl_hybrid_prefix_short]"
   ]
  },
  {
   "cell_type": "code",
   "execution_count": 20,
   "metadata": {},
   "outputs": [
    {
     "data": {
      "text/plain": [
       "Text(0, 0.5, 'number of occurances')"
      ]
     },
     "execution_count": 20,
     "metadata": {},
     "output_type": "execute_result"
    },
    {
     "data": {
      "image/png": "[encoded data removed]",
      "text/plain": [
       "<Figure size 432x288 with 1 Axes>"
      ]
     },
     "metadata": {
      "needs_background": "light"
     },
     "output_type": "display_data"
    }
   ],
   "source": [
    "plt.hist(ampls_lengths, bins=100,);\n",
    "plt.xlabel(\"amplitude token length\")\n",
    "plt.ylabel(\"number of occurances\")"
   ]
  },
  {
   "cell_type": "code",
   "execution_count": 21,
   "metadata": {},
   "outputs": [
    {
     "data": {
      "text/plain": [
       "Text(0, 0.5, 'number of occurances')"
      ]
     },
     "execution_count": 21,
     "metadata": {},
     "output_type": "execute_result"
    },
    {
     "data": {
      "image/png": "[encoded data removed]",
      "text/plain": [
       "<Figure size 432x288 with 1 Axes>"
      ]
     },
     "metadata": {
      "needs_background": "light"
     },
     "output_type": "display_data"
    }
   ],
   "source": [
    "plt.hist(sqampls_lengths_short, bins=100,);\n",
    "plt.xlabel(\"sqamplitude token length\")\n",
    "plt.ylabel(\"number of occurances\")"
   ]
  },
  {
   "cell_type": "markdown",
   "metadata": {},
   "source": [
    "Say we have a maximal sequence length of 350.\n",
    "Let's do a train-test split and then filter out the too long amplitudes"
   ]
  },
  {
   "cell_type": "code",
   "execution_count": 24,
   "metadata": {},
   "outputs": [],
   "source": [
    "X_train = []\n",
    "X_test = []\n",
    "y_train = []\n",
    "y_test = []\n",
    "for i in range(len(amplitudes_hybrid_prefix)):\n",
    "    X_train_tmp, X_test_tmp, y_train_tmp, y_test_tmp = train_test_split(amplitudes_hybrid_prefix[i], sqampl_hybrid_prefix_short[i],\n",
    "        test_size=0.1, random_state=42)\n",
    "    X_train.append(X_train_tmp)\n",
    "    y_train.append(y_train_tmp)\n",
    "    X_test.append(X_test_tmp)\n",
    "    y_test.append(y_test_tmp)"
   ]
  },
  {
   "cell_type": "code",
   "execution_count": 25,
   "metadata": {},
   "outputs": [],
   "source": [
    "with open(export_folder+\"X_train_a_hprefix_sqa_hprefix.pickle\", \"bw\") as f:\n",
    "    pickle.dump(X_train, f)\n",
    "with open(export_folder+\"y_train_a_hprefix_sqa_hprefix.pickle\", \"bw\") as f:\n",
    "    pickle.dump(y_train, f)\n",
    "with open(export_folder+\"X_test_a_hprefix_sqa_hprefix.pickle\", \"bw\") as f:\n",
    "    pickle.dump(X_test, f)\n",
    "with open(export_folder+\"y_test_a_hprefix_sqa_hprefix.pickle\", \"bw\") as f:\n",
    "    pickle.dump(y_test, f)"
   ]
  },
  {
   "cell_type": "code",
   "execution_count": 26,
   "metadata": {},
   "outputs": [],
   "source": [
    "export_folder = \"../data.nosync/BaseModelDataCache/\"\n",
    "\n",
    "with open(export_folder+\"X_train_a_hprefix_sqa_hprefix.pickle\", \"br\") as f:\n",
    "    X_train = pickle.load(f)\n",
    "with open(export_folder+\"y_train_a_hprefix_sqa_hprefix.pickle\", \"br\") as f:\n",
    "    y_train = pickle.load(f)\n",
    "with open(export_folder+\"X_test_a_hprefix_sqa_hprefix.pickle\", \"br\") as f:\n",
    "    X_test = pickle.load(f)\n",
    "with open(export_folder+\"y_test_a_hprefix_sqa_hprefix.pickle\", \"br\") as f:\n",
    "    y_test = pickle.load(f)"
   ]
  },
  {
   "cell_type": "markdown",
   "metadata": {},
   "source": [
    "Only use those X,y where both are at most `sequence_length` long."
   ]
  },
  {
   "cell_type": "code",
   "execution_count": 27,
   "metadata": {},
   "outputs": [],
   "source": [
    "def remove_too_long(X, y, idxs_okay_export, max_seq_len=350, idxs_okay=None):\n",
    "    \"\"\"\n",
    "    find indices where X and y are less than `max_seq_len` long.\n",
    "    Append to `idxs_okay_export`.\n",
    "    \"\"\"\n",
    "    if idxs_okay is None:\n",
    "        X_idxs_ok = np.where([len(x) < max_seq_len for x in X])[0]\n",
    "        y_idxs_ok = np.where([len(y) < max_seq_len for y in y])[0]\n",
    "        idxs_okay = np.intersect1d(X_idxs_ok, y_idxs_ok) \n",
    "    idxs_okay_export.append(idxs_okay)\n",
    "    X_new = [X[i] for i in idxs_okay]\n",
    "    y_new = [y[i] for i in idxs_okay]\n",
    "    return X_new, y_new"
   ]
  },
  {
   "cell_type": "code",
   "execution_count": 28,
   "metadata": {},
   "outputs": [],
   "source": [
    "vocab_size = 500\n",
    "max_seq_len = 350\n",
    "batch_size = 1\n",
    "\n",
    "idxs_train_okay_export = []\n",
    "X_train_filtered, y_train_filtered = [], []\n",
    "for i in range(len(X_train)):\n",
    "    X_train_filtered_tmp, y_train_filtered_tmp = remove_too_long(\n",
    "        X_train[i], y_train[i], idxs_train_okay_export, max_seq_len=max_seq_len)\n",
    "    X_train_filtered.append(X_train_filtered_tmp)\n",
    "    y_train_filtered.append(y_train_filtered_tmp)\n",
    "\n",
    "idxs_test_okay_export = []\n",
    "X_test_filtered, y_test_filtered = [], []\n",
    "for i in range(len(X_test)):\n",
    "    X_test_filtered_tmp, y_test_filtered_tmp = remove_too_long(\n",
    "        X_test[i], y_test[i], idxs_test_okay_export, max_seq_len=max_seq_len)\n",
    "    X_test_filtered.append(X_test_filtered_tmp)\n",
    "    y_test_filtered.append(y_test_filtered_tmp)"
   ]
  },
  {
   "cell_type": "code",
   "execution_count": 29,
   "metadata": {},
   "outputs": [
    {
     "data": {
      "text/plain": [
       "array([1.        , 1.        , 1.        , 0.93889093, 0.93845448])"
      ]
     },
     "execution_count": 29,
     "metadata": {},
     "output_type": "execute_result"
    }
   ],
   "source": [
    "# percentage of amplitudes kept depending on process (1to1, 1to2, ...)\n",
    "np.array([len(idx) for idx in idxs_train_okay_export]) / np.array([len(idx) for idx in X_train]) "
   ]
  },
  {
   "cell_type": "code",
   "execution_count": 30,
   "metadata": {},
   "outputs": [
    {
     "data": {
      "text/plain": [
       "0.9403531214208154"
      ]
     },
     "execution_count": 30,
     "metadata": {},
     "output_type": "execute_result"
    }
   ],
   "source": [
    "# percentage of all amplitudes that are kept (not too long)\n",
    "np.sum([len(idx) for idx in idxs_train_okay_export]) / np.sum([len(idx) for idx in X_train]) "
   ]
  },
  {
   "cell_type": "code",
   "execution_count": 31,
   "metadata": {},
   "outputs": [],
   "source": [
    "for i in range(len(X_train_filtered)):\n",
    "    assert len(X_train_filtered[i]) == len(y_train_filtered[i])\n",
    "\n",
    "for i in range(len(X_test_filtered)):\n",
    "    assert len(X_test_filtered[i]) == len(y_test_filtered[i])"
   ]
  },
  {
   "cell_type": "code",
   "execution_count": 32,
   "metadata": {},
   "outputs": [],
   "source": [
    "X_train_final = [[\" \".join(x) for x in X] for X in X_train_filtered]\n",
    "y_train_final = [[\" \".join(yy) for yy in y] for y in y_train_filtered]\n",
    "\n",
    "X_test_final = [[\" \".join(x) for x in X] for X in X_test_filtered]\n",
    "y_test_final = [[\" \".join(yy) for yy in y] for y in y_test_filtered]"
   ]
  },
  {
   "cell_type": "code",
   "execution_count": 33,
   "metadata": {},
   "outputs": [
    {
     "name": "stdout",
     "output_type": "stream",
     "text": [
      "['Prod(', '-1', 'i', 'e', 'gamma', '%lambda_167', '%eta_137', '%del_155', 'A', '%l_3', '%lambda_167', '(p_3)', 'mu_u^(*)', '%i_3', '%eta_137', '(p_1)', 'mu_u', '%k_3', '%del_155', '(p_2)', ')']\n"
     ]
    }
   ],
   "source": [
    "print(X_train[1][12])"
   ]
  },
  {
   "cell_type": "code",
   "execution_count": 34,
   "metadata": {},
   "outputs": [
    {
     "name": "stdout",
     "output_type": "stream",
     "text": [
      "['mul(', 's-', '2', 'pow', 'e', '2', 'add', 'mul', 's-', '1', 's_12', 'mul', '2', 'm2mu', ')']\n"
     ]
    }
   ],
   "source": [
    "print(y_train[1][12])"
   ]
  },
  {
   "cell_type": "markdown",
   "metadata": {},
   "source": [
    "# Final Dataset, Data Pipeline "
   ]
  },
  {
   "cell_type": "code",
   "execution_count": 35,
   "metadata": {},
   "outputs": [],
   "source": [
    "export_folder = \"../data.nosync/BaseModelDataCache/\"\n",
    "\n",
    "vocab_size = 500\n",
    "max_seq_len = 350\n",
    "batch_size = 1\n",
    "\n",
    "\n",
    "# reading to sympy takes quite long.\n",
    "# We're here caching the alreaday converted amplitudes\n",
    "X_train_cache_file = export_folder+\"X_train_final_Xhp_yhp.pickle\"\n",
    "y_train_cache_file = export_folder+\"y_train_final_Xhp_yhp.pickle\"\n",
    "X_test_cache_file = export_folder+\"X_test_final_Xhp_yhp.pickle\"\n",
    "y_test_cache_file = export_folder+\"y_test_final_Xhp_yhp.pickle\"\n",
    "\n",
    "if os.path.exists(X_train_cache_file) & os.path.exists(y_train_cache_file):\n",
    "    print(\"Exists, loading\")\n",
    "    with open(X_train_cache_file, \"rb\") as f:\n",
    "        X_train_final = pickle.load(f)\n",
    "    with open(y_train_cache_file, \"rb\") as f:\n",
    "        y_train_final = pickle.load(f)\n",
    "\n",
    "else:\n",
    "    with open(X_train_cache_file, \"wb\") as f:\n",
    "        pickle.dump(X_train_final, f)\n",
    "    with open(y_train_cache_file, \"wb\") as f:\n",
    "        pickle.dump(y_train_final, f)\n",
    "\n",
    "if os.path.exists(X_test_cache_file) & os.path.exists(y_test_cache_file):\n",
    "    print(\"Exists, loading\")\n",
    "    with open(X_test_cache_file, \"rb\") as f:\n",
    "        X_test_final = pickle.load(f)\n",
    "    with open(y_test_cache_file, \"rb\") as f:\n",
    "        y_test_final = pickle.load(f)\n",
    "\n",
    "else:\n",
    "    with open(X_test_cache_file, \"wb\") as f:\n",
    "        pickle.dump(X_test_final, f)\n",
    "    with open(y_test_cache_file, \"wb\") as f:\n",
    "        pickle.dump(y_test_final, f)"
   ]
  },
  {
   "cell_type": "code",
   "execution_count": 36,
   "metadata": {},
   "outputs": [
    {
     "data": {
      "text/plain": [
       "'Prod( -1/3 i e gamma %nu_92 %gam_161 %del_167 A %l_3 %nu_92 (p_3) d_u^(*) %i_3 %gam_161 (p_1) d_v %k_3 %del_167 (p_2) )'"
      ]
     },
     "execution_count": 36,
     "metadata": {},
     "output_type": "execute_result"
    }
   ],
   "source": [
    "X_train_final[0][0]"
   ]
  },
  {
   "cell_type": "code",
   "execution_count": 37,
   "metadata": {},
   "outputs": [
    {
     "data": {
      "text/plain": [
       "'mul( mul 4 pow 9 s- 1 pow e 2 add s_12 mul 2 m2d )'"
      ]
     },
     "execution_count": 37,
     "metadata": {},
     "output_type": "execute_result"
    }
   ],
   "source": [
    "y_train_final[0][0]"
   ]
  },
  {
   "cell_type": "code",
   "execution_count": 38,
   "metadata": {},
   "outputs": [],
   "source": [
    "def flatten(l):\n",
    "    return [item for sublist in l for item in sublist]\n",
    "\n",
    "X_train_all = flatten(X_train_final)\n",
    "y_train_all = flatten(y_train_final) \n",
    "\n",
    "X_test_all = flatten(X_test_final)\n",
    "y_test_all = flatten(y_test_final) "
   ]
  },
  {
   "cell_type": "code",
   "execution_count": 39,
   "metadata": {},
   "outputs": [],
   "source": [
    "def train_test_split(ds, ds_size, train_split=0.9, shuffle=True, shuffle_size=10000):\n",
    "    assert (train_split>=0) & (train_split<=1)\n",
    "    # test_split = 1 - train_split\n",
    "    \n",
    "    if shuffle:\n",
    "        # Specify seed to always have the same split distribution between runs\n",
    "        ds = ds.shuffle(shuffle_size, seed=12)\n",
    "    \n",
    "    train_size = int(train_split * ds_size)\n",
    "    train_ds = ds.take(train_size)    \n",
    "    test_ds = ds.skip(train_size)\n",
    "    \n",
    "    return train_ds, test_ds"
   ]
  },
  {
   "cell_type": "code",
   "execution_count": 40,
   "metadata": {},
   "outputs": [
    {
     "name": "stderr",
     "output_type": "stream",
     "text": [
      "2022-12-01 17:29:34.696898: I tensorflow/core/platform/cpu_feature_guard.cc:193] This TensorFlow binary is optimized with oneAPI Deep Neural Network Library (oneDNN) to use the following CPU instructions in performance-critical operations:  AVX2 AVX_VNNI FMA\n",
      "To enable them in other operations, rebuild TensorFlow with the appropriate compiler flags.\n",
      "2022-12-01 17:29:34.698403: I tensorflow/stream_executor/cuda/cuda_gpu_executor.cc:980] successful NUMA node read from SysFS had negative value (-1), but there must be at least one NUMA node, so returning NUMA node zero\n",
      "2022-12-01 17:29:34.698595: I tensorflow/stream_executor/cuda/cuda_gpu_executor.cc:980] successful NUMA node read from SysFS had negative value (-1), but there must be at least one NUMA node, so returning NUMA node zero\n",
      "2022-12-01 17:29:34.698672: I tensorflow/stream_executor/cuda/cuda_gpu_executor.cc:980] successful NUMA node read from SysFS had negative value (-1), but there must be at least one NUMA node, so returning NUMA node zero\n",
      "2022-12-01 17:29:35.218499: I tensorflow/stream_executor/cuda/cuda_gpu_executor.cc:980] successful NUMA node read from SysFS had negative value (-1), but there must be at least one NUMA node, so returning NUMA node zero\n",
      "2022-12-01 17:29:35.218662: I tensorflow/stream_executor/cuda/cuda_gpu_executor.cc:980] successful NUMA node read from SysFS had negative value (-1), but there must be at least one NUMA node, so returning NUMA node zero\n",
      "2022-12-01 17:29:35.218738: I tensorflow/stream_executor/cuda/cuda_gpu_executor.cc:980] successful NUMA node read from SysFS had negative value (-1), but there must be at least one NUMA node, so returning NUMA node zero\n",
      "2022-12-01 17:29:35.218807: I tensorflow/core/common_runtime/gpu/gpu_device.cc:1616] Created device /job:localhost/replica:0/task:0/device:GPU:0 with 6019 MB memory:  -> device: 0, name: NVIDIA GeForce RTX 3070 Ti Laptop GPU, pci bus id: 0000:01:00.0, compute capability: 8.6\n"
     ]
    }
   ],
   "source": [
    "df_train = tf.data.Dataset.from_tensor_slices((X_train_all, y_train_all)).prefetch(2)\n",
    "df_test = tf.data.Dataset.from_tensor_slices((X_test_all, y_test_all)).prefetch(2)"
   ]
  },
  {
   "cell_type": "code",
   "execution_count": 41,
   "metadata": {},
   "outputs": [],
   "source": [
    "df_train, df_val = train_test_split(df_train, df_train.cardinality().numpy(), train_split=0.98)"
   ]
  },
  {
   "cell_type": "code",
   "execution_count": 42,
   "metadata": {},
   "outputs": [
    {
     "name": "stderr",
     "output_type": "stream",
     "text": [
      "ic| df_val.cardinality().numpy(): 2529\n",
      "ic| df_train.cardinality().numpy(): 123909\n"
     ]
    },
    {
     "data": {
      "text/plain": [
       "<tf.Tensor: shape=(), dtype=float64, numpy=0.9795898603007045>"
      ]
     },
     "execution_count": 42,
     "metadata": {},
     "output_type": "execute_result"
    }
   ],
   "source": [
    "ic(df_val.cardinality().numpy())\n",
    "ic(df_train.cardinality().numpy())\n",
    "1 - df_val.cardinality() / df_train.cardinality()"
   ]
  },
  {
   "cell_type": "code",
   "execution_count": 43,
   "metadata": {},
   "outputs": [
    {
     "name": "stdout",
     "output_type": "stream",
     "text": [
      "amplitudes:\n",
      "b'Prod( 1/27 i Pow e 3 Pow Sum( s_11 Prod 2 s_13 Prod -2 s_14 Prod -2 s_34 s_44 reg_prop ) -1 Pow Sum( Pow m_s 2 Prod 2 s_34 Prod -1 s_44 Prod -1 reg_prop ) -1 gamma %lambda_184 %eta_211 %eps_41 gamma %tau_161 %del_216 %eta_212 Sum( Prod m_s gamma %tau_161 %eta_210 %eta_211 Prod( p_1 %tau_164 gamma %tau_161 %eta_210 %eta_273 gamma %tau_164 %eta_273 %eta_211 ) Prod( p_2 %tau_164 gamma %tau_161 %eta_210 %eta_274 gamma %tau_164 %eta_274 %eta_211 ) Prod( -1 p_5 %tau_164 gamma %tau_161 %eta_210 %eta_275 gamma %tau_164 %eta_275 %eta_211 ) ) A^(*) %i_5 %lambda_184 (p_3) b_u^(*) %k_3 %del_216 (p_2) b_u %l_5 %eta_212 (p_5) s_u^(*) %i_3 %eta_210 (p_1) s_u %k_5 %eps_41 (p_4) )'\n",
      "b'Prod( 8/27 i Pow e 3 Pow Sum( Pow m_s 2 Prod 2 s_34 s_44 reg_prop ) -1 Pow Sum( Pow m_s 2 Prod -2 s_13 Prod -2 s_14 Prod 2 s_34 s_44 reg_prop ) -1 Sum( Prod( p_1 %lambda_388 gamma %lambda_386 %eta_650 %eta_651 gamma %lambda_388 %eta_652 %eps_136 A %k_3 %lambda_386 (p_2) c_v^(*) %i_3 %eta_650 (p_1) c_v %l_5 %eta_651 (p_5) s_u^(*) %i_5 %eta_652 (p_3) s_v %k_5 %eps_136 (p_4) ) Prod( -1/2 p_3 %sigma_172 gamma %sigma_172 %eta_708 %eta_709 gamma %lambda_386 %eta_709 %eta_658 gamma %lambda_388 %eta_657 %eta_708 gamma %lambda_388 %eta_661 %eps_138 A %k_3 %lambda_386 (p_2) c_v^(*) %i_3 %eta_657 (p_1) c_v %l_5 %eta_658 (p_5) s_u^(*) %i_5 %eta_661 (p_3) s_v %k_5 %eps_138 (p_4) ) Prod( -1/2 p_4 %sigma_172 gamma %sigma_172 %eta_710 %eta_711 gamma %lambda_386 %eta_711 %eta_663 gamma %lambda_388 %eta_662 %eta_710 gamma %lambda_388 %eta_666 %eps_139 A %k_3 %lambda_386 (p_2) c_v^(*) %i_3 %eta_662 (p_1) c_v %l_5 %eta_663 (p_5) s_u^(*) %i_5 %eta_666 (p_3) s_v %k_5 %eps_139 (p_4) ) ) )'\n",
      "b'Prod( -1/27 i Pow e 3 Pow Sum( Pow m_b 2 Prod 2 s_13 Prod -2 s_14 s_33 Prod -2 s_34 s_44 reg_prop ) -1 Pow Sum( s_13 Prod 1/2 s_33 Prod 1/2 reg_prop ) -1 Sum Prod( p_1 %tau_546 gamma %tau_549 %gam_746 %eps_43 gamma %tau_549 %del_738 %eta_379 A^(*) %l_3 %tau_546 (p_3) b_u^(*) %i_3 %gam_746 (p_1) b_u^(*) %k_3 %del_738 (p_2) b_u %j_5 %eps_43 (p_4) b_u %k_5 %eta_379 (p_5) ) Prod( 1/2 p_3 %nu_200 gamma %nu_200 %gam_772 %gam_773 gamma %tau_546 %gam_749 %gam_772 gamma %tau_549 %gam_773 %eps_45 gamma %tau_549 %del_740 %eta_381 A^(*) %l_3 %tau_546 (p_3) b_u^(*) %i_3 %gam_749 (p_1) b_u^(*) %k_3 %del_740 (p_2) b_u %j_5 %eps_45 (p_4) b_u %k_5 %eta_381 (p_5) ) )'\n",
      "squared amplitudes:\n",
      "b'mul( mul 16 pow 729 s- 1 pow e 6 pow add( m2s mul s- 1 reg_prop mul s- 1 s_44 mul 2 s_34 ) s- 2 pow add( reg_prop s_11 s_44 mul s- 2 s_14 mul s- 2 s_34 mul 2 s_13 ) s- 2 add( mul 2 m4bxs_14 mul 2 m4sxs_25 mul m2b add( mul( s- 1 s_11 s_14 ) mul( s- 4 s_12 s_24 ) mul( s- 4 s_15 s_45 ) mul( s- 2 s_11 s_24 ) mul( s- 2 s_12 s_14 ) mul( s- 2 s_14 s_25 ) mul( 2 s_11 s_45 ) mul( 2 s_12 s_45 ) mul( 2 s_14 s_15 ) mul( 2 s_15 s_24 ) ) mul m2s add( mul s- 4 pow s_25 2 mul s_12 s_45 mul s_15 s_24 mul( s- 8 s_12 s_15 ) mul( s- 2 s_14 s_25 ) mul( s- 2 s_24 s_25 ) mul( 2 s_11 s_25 ) mul( 2 s_25 s_45 ) ) mul( s- 8 m2s m4b ) mul( s- 4 m2b m4s ) mul( s- 2 s_45 pow s_12 2 ) mul( 2 s_24 pow s_15 2 ) mul( m2b m2s add( mul s- 4 s_45 mul 3 s_14 mul 4 s_24 mul 12 s_25 ) ) mul( s- 1 s_11 s_12 s_45 ) mul( s- 1 s_11 s_15 s_24 ) mul( s- 2 s_12 s_15 s_45 ) mul( s- 2 s_14 s_15 s_25 ) mul( 2 s_12 s_14 s_25 ) mul( 2 s_12 s_15 s_24 ) mul( 2 s_12 s_24 s_25 ) mul( 2 s_15 s_25 s_45 ) mul( 4 s_12 s_14 s_15 ) ) )'\n",
      "b'mul( mul 256 pow 729 s- 1 pow e 6 pow add( m2s reg_prop s_44 mul 2 s_34 ) s- 2 pow add( m2s reg_prop s_44 mul s- 2 s_13 mul s- 2 s_14 mul 2 s_34 ) s- 2 add( mul s- 1 m4sxs_15 mul 4 m4cxs_34 mul m2c add( mul 4 pow s_34 2 mul( s- 8 s_13 s_14 ) mul( s- 2 s_15 s_34 ) mul( 2 s_34 s_35 ) mul( 2 s_34 s_44 ) mul( 2 s_34 s_45 ) mul( 4 s_13 s_44 ) ) mul m2s add( mul s_13 s_45 mul( s- 1 s_15 s_44 ) mul( s- 2 s_14 s_15 ) mul( s- 2 s_15 s_34 ) mul( 2 s_13 s_35 ) mul( 3 s_14 s_35 ) mul( 4 s_14 s_45 ) ) mul( 2 s_35 pow s_14 2 ) mul( 2 s_45 pow s_13 2 ) mul( 4 m2c m4s ) mul( 4 m2s m4c ) mul( m2c m2s add( mul s- 4 s_13 mul s- 2 s_15 mul 2 s_35 mul 2 s_45 mul 4 s_44 mul 10 s_34 ) ) mul( s_13 s_44 s_45 ) mul( s- 1 s_14 s_35 s_44 ) mul( s- 2 s_13 s_14 s_35 ) mul( s- 2 s_13 s_14 s_45 ) mul( s- 2 s_13 s_15 s_34 ) mul( s- 2 s_13 s_15 s_44 ) mul( s- 2 s_14 s_15 s_34 ) mul( 2 s_13 s_34 s_35 ) mul( 2 s_13 s_35 s_44 ) mul( 2 s_14 s_34 s_45 ) mul( 4 s_13 s_14 s_15 ) ) )'\n",
      "b'mul( mul s- 8 pow 729 s- 1 pow e 6 pow add( reg_prop s_33 mul 2 s_13 ) s- 2 pow add( m2b reg_prop s_33 s_44 mul s- 2 s_14 mul s- 2 s_34 mul 2 s_13 ) s- 2 add( mul 4 m6b mul m2b add( mul( s- 1 s_14 s_33 ) mul( s- 2 s_13 s_25 ) mul( s- 2 s_25 s_33 ) mul( 2 s_12 s_45 ) mul( 2 s_13 s_34 ) mul( 2 s_15 s_24 ) mul( 2 s_23 s_45 ) mul( 2 s_24 s_35 ) ) mul m4b add( mul s- 2 s_14 mul s- 2 s_25 mul s- 2 s_34 mul 4 s_13 mul 4 s_33 ) mul( s_12 s_33 s_45 ) mul( s_15 s_24 s_33 ) mul( s- 2 s_13 s_23 s_45 ) mul( s- 2 s_13 s_24 s_35 ) ) )'\n"
     ]
    }
   ],
   "source": [
    "for x_examples, y_examples in df_train.batch(3).take(1):\n",
    "    print(\"amplitudes:\")\n",
    "    for xx in x_examples.numpy():\n",
    "        print(xx)\n",
    "    print(\"squared amplitudes:\")\n",
    "    for yy in y_examples.numpy():\n",
    "        print(yy)"
   ]
  },
  {
   "cell_type": "code",
   "execution_count": 44,
   "metadata": {},
   "outputs": [
    {
     "name": "stderr",
     "output_type": "stream",
     "text": [
      "ic| bogoTokenizer.tokenize([\"hello world\", \"this is a test\"]): <tf.RaggedTensor [[2, 8, 4, 3], [2, 5, 7, 9, 6, 3]]>\n"
     ]
    },
    {
     "name": "stdout",
     "output_type": "stream",
     "text": [
      "lookup\n",
      "<tf.RaggedTensor [[b'[START]', b'hello', b'world', b'[END]'],\n",
      " [b'[START]', b'this', b'is', b'a', b'test', b'[END]']]>\n",
      "detokenize\n",
      "tf.Tensor([b'hello world' b'this is a test'], shape=(2,), dtype=string)\n"
     ]
    }
   ],
   "source": [
    "class BogoTokenizer(tf_text.Tokenizer, tf_text.Detokenizer):\n",
    "    \"\"\"\n",
    "    My implementation of a tf_text.Tokenizer.\n",
    "    It's actually just a wrapper around TextVectorization,\n",
    "    but so that it works for my case.\n",
    "    \"\"\"\n",
    "    def __init__(self, max_tokens=vocab_size, output_mode=\"int\", output_sequence_length=None,\n",
    "            standardize=None, ragged=False,):\n",
    "        super(BogoTokenizer, self).__init__()\n",
    "        self.vectorizer = TextVectorization(max_tokens=max_tokens, output_mode=output_mode,\n",
    "            output_sequence_length=output_sequence_length, ragged=ragged, standardize=None)\n",
    "        self.start = \"[START]\"\n",
    "        self.end = \"[END]\"\n",
    "\n",
    "    def tokenize(self, input):\n",
    "        input_with_start_end = [self.start+\" \"+inp+\" \"+self.end for inp in input]\n",
    "        return self.vectorizer(input_with_start_end)\n",
    "\n",
    "    def encode(self, input):\n",
    "        return self.vectorizer(input)\n",
    "\n",
    "    def adapt(self, input):\n",
    "        input_with_start_end = [self.start+\" \"+inp+\" \"+self.end for inp in input]\n",
    "        self.vectorizer.adapt(input_with_start_end)\n",
    "\n",
    "    def detokenize(self, tokens):\n",
    "        vocab = tf.constant(self.vectorizer.get_vocabulary())\n",
    "        sentences = tf.gather(vocab, tokens)\n",
    "        sentences = sentences[:, 1:-1]\n",
    "        signature = tf.type_spec_from_value(tf.strings.join(sentences[0]))\n",
    "        sentences = tf.map_fn(fn=lambda s: tf.strings.join(s, separator=\" \"), elems=sentences,\n",
    "            fn_output_signature=signature)\n",
    "        return sentences\n",
    "\n",
    "    def lookup(self, tokens):\n",
    "        vocab = tf.constant(self.vectorizer.get_vocabulary())\n",
    "        return tf.gather(vocab, tokens)\n",
    "\n",
    "    def get_vocabulary(self):\n",
    "        return self.vectorizer.get_vocabulary()\n",
    "\n",
    "    def get_vocab_size(self):\n",
    "        return len(self.vectorizer.get_vocabulary())\n",
    "\n",
    "bogoTokenizer = BogoTokenizer(output_sequence_length=None, ragged=True)\n",
    "bogoTokenizer.adapt([\"hello world\", \"this is a test\"])\n",
    "tokens = ic(bogoTokenizer.tokenize([\"hello world\", \"this is a test\"]))\n",
    "print(\"lookup\")\n",
    "print(bogoTokenizer.lookup(tokens))\n",
    "print(\"detokenize\")\n",
    "print(bogoTokenizer.detokenize(tokens))"
   ]
  },
  {
   "cell_type": "code",
   "execution_count": 45,
   "metadata": {},
   "outputs": [
    {
     "data": {
      "text/plain": [
       "'Prod( -1/3 i e gamma %nu_92 %gam_161 %del_167 A %l_3 %nu_92 (p_3) d_u^(*) %i_3 %gam_161 (p_1) d_v %k_3 %del_167 (p_2) )'"
      ]
     },
     "execution_count": 45,
     "metadata": {},
     "output_type": "execute_result"
    }
   ],
   "source": [
    "X_train_all[0]"
   ]
  },
  {
   "cell_type": "code",
   "execution_count": 46,
   "metadata": {},
   "outputs": [],
   "source": [
    "tokenizer_X = BogoTokenizer(ragged=True)\n",
    "tokenizer_y = BogoTokenizer(ragged=True)\n",
    "\n",
    "tokenizer_X.adapt(X_train_all)\n",
    "tokenizer_y.adapt(y_train_all)\n",
    "\n",
    "tokenizers = {\"X\": tokenizer_X, \"y\": tokenizer_y}"
   ]
  },
  {
   "cell_type": "code",
   "execution_count": 47,
   "metadata": {},
   "outputs": [
    {
     "name": "stdout",
     "output_type": "stream",
     "text": [
      "<tf.RaggedTensor [[28, 1, 4, 2, 1, 29]]>\n",
      "tf.Tensor([b'[UNK] Prod gamma [UNK]'], shape=(1,), dtype=string)\n"
     ]
    }
   ],
   "source": [
    "enc = tokenizer_X.tokenize([\"banana Prod gamma banananana\"])\n",
    "print(enc)\n",
    "round_trip = tokenizer_X.detokenize(enc)\n",
    "print(round_trip)"
   ]
  },
  {
   "cell_type": "code",
   "execution_count": 48,
   "metadata": {},
   "outputs": [
    {
     "data": {
      "text/plain": [
       "<tf.Tensor: shape=(1,), dtype=string, numpy=array([b's_12 [UNK] gamma )'], dtype=object)>"
      ]
     },
     "execution_count": 48,
     "metadata": {},
     "output_type": "execute_result"
    }
   ],
   "source": [
    "tokenizer_X.detokenize([[45, 42, 1, 2, 3, 46]])"
   ]
  },
  {
   "cell_type": "code",
   "execution_count": 49,
   "metadata": {},
   "outputs": [
    {
     "data": {
      "text/plain": [
       "<tf.Tensor: shape=(1, 6), dtype=string, numpy=\n",
       "array([[b's_24', b's_12', b'[UNK]', b'gamma', b')', b'-1/2']],\n",
       "      dtype=object)>"
      ]
     },
     "execution_count": 49,
     "metadata": {},
     "output_type": "execute_result"
    }
   ],
   "source": [
    "tokenizer_X.lookup([[45, 42, 1, 2, 3, 46]])"
   ]
  },
  {
   "cell_type": "code",
   "execution_count": 50,
   "metadata": {},
   "outputs": [
    {
     "name": "stdout",
     "output_type": "stream",
     "text": [
      "tf.Tensor(\n",
      "[b'Prod( 1/27 i Pow e 3 Pow Sum( s_11 Prod 2 s_13 Prod -2 s_14 Prod -2 s_34 s_44 reg_prop ) -1 Pow Sum( Pow m_s 2 Prod 2 s_34 Prod -1 s_44 Prod -1 reg_prop ) -1 gamma %lambda_184 %eta_211 %eps_41 gamma %tau_161 %del_216 %eta_212 Sum( Prod m_s gamma %tau_161 %eta_210 %eta_211 Prod( p_1 %tau_164 gamma %tau_161 %eta_210 %eta_273 gamma %tau_164 %eta_273 %eta_211 ) Prod( p_2 %tau_164 gamma %tau_161 %eta_210 %eta_274 gamma %tau_164 %eta_274 %eta_211 ) Prod( -1 p_5 %tau_164 gamma %tau_161 %eta_210 %eta_275 gamma %tau_164 %eta_275 %eta_211 ) ) A^(*) %i_5 %lambda_184 (p_3) b_u^(*) %k_3 %del_216 (p_2) b_u %l_5 %eta_212 (p_5) s_u^(*) %i_3 %eta_210 (p_1) s_u %k_5 %eps_41 (p_4) )'\n",
      " b'Prod( 8/27 i Pow e 3 Pow Sum( Pow m_s 2 Prod 2 s_34 s_44 reg_prop ) -1 Pow Sum( Pow m_s 2 Prod -2 s_13 Prod -2 s_14 Prod 2 s_34 s_44 reg_prop ) -1 Sum( Prod( p_1 %lambda_388 gamma %lambda_386 %eta_650 %eta_651 gamma %lambda_388 %eta_652 %eps_136 A %k_3 %lambda_386 (p_2) c_v^(*) %i_3 %eta_650 (p_1) c_v %l_5 %eta_651 (p_5) s_u^(*) %i_5 %eta_652 (p_3) s_v %k_5 %eps_136 (p_4) ) Prod( -1/2 p_3 %sigma_172 gamma %sigma_172 %eta_708 %eta_709 gamma %lambda_386 %eta_709 %eta_658 gamma %lambda_388 %eta_657 %eta_708 gamma %lambda_388 %eta_661 %eps_138 A %k_3 %lambda_386 (p_2) c_v^(*) %i_3 %eta_657 (p_1) c_v %l_5 %eta_658 (p_5) s_u^(*) %i_5 %eta_661 (p_3) s_v %k_5 %eps_138 (p_4) ) Prod( -1/2 p_4 %sigma_172 gamma %sigma_172 %eta_710 %eta_711 gamma %lambda_386 %eta_711 %eta_663 gamma %lambda_388 %eta_662 %eta_710 gamma %lambda_388 %eta_666 %eps_139 A %k_3 %lambda_386 (p_2) c_v^(*) %i_3 %eta_662 (p_1) c_v %l_5 %eta_663 (p_5) s_u^(*) %i_5 %eta_666 (p_3) s_v %k_5 %eps_139 (p_4) ) ) )'\n",
      " b'Prod( -1/27 i Pow e 3 Pow Sum( Pow m_b 2 Prod 2 s_13 Prod -2 s_14 s_33 Prod -2 s_34 s_44 reg_prop ) -1 Pow Sum( s_13 Prod 1/2 s_33 Prod 1/2 reg_prop ) -1 Sum Prod( p_1 %tau_546 gamma %tau_549 %gam_746 %eps_43 gamma %tau_549 %del_738 %eta_379 A^(*) %l_3 %tau_546 (p_3) b_u^(*) %i_3 %gam_746 (p_1) b_u^(*) %k_3 %del_738 (p_2) b_u %j_5 %eps_43 (p_4) b_u %k_5 %eta_379 (p_5) ) Prod( 1/2 p_3 %nu_200 gamma %nu_200 %gam_772 %gam_773 gamma %tau_546 %gam_749 %gam_772 gamma %tau_549 %gam_773 %eps_45 gamma %tau_549 %del_740 %eta_381 A^(*) %l_3 %tau_546 (p_3) b_u^(*) %i_3 %gam_749 (p_1) b_u^(*) %k_3 %del_740 (p_2) b_u %j_5 %eps_45 (p_4) b_u %k_5 %eta_381 (p_5) ) )'], shape=(3,), dtype=string)\n",
      "encoded batch:\n",
      "[28, 7, 127, 26, 5, 27, 30, 5, 16, 38, 4, 15, 34, 4, 23, 41, 4, 23, 39, 43, 20, 3, 6, 5, 16, 5, 91, 15, 4, 15, 39, 4, 6, 43, 4, 6, 20, 3, 6, 2, 95, 362, 103, 2, 282, 381, 482, 16, 4, 91, 2, 282, 1, 362, 7, 33, 326, 2, 282, 1, 443, 2, 326, 443, 362, 3, 7, 35, 326, 2, 282, 1, 409, 2, 326, 409, 362, 3, 7, 6, 83, 326, 2, 282, 1, 254, 2, 326, 254, 362, 3, 3, 22, 19, 95, 8, 58, 11, 381, 9, 71, 25, 482, 14, 66, 12, 1, 10, 67, 18, 103, 13, 3, 29]\n",
      "[28, 7, 200, 26, 5, 27, 30, 5, 16, 5, 91, 15, 4, 15, 39, 43, 20, 3, 6, 5, 16, 5, 91, 15, 4, 23, 34, 4, 23, 41, 4, 15, 39, 43, 20, 3, 6, 16, 7, 33, 1, 2, 1, 1, 1, 2, 1, 1, 1, 21, 11, 1, 9, 70, 12, 1, 10, 60, 25, 1, 14, 66, 19, 1, 8, 80, 18, 1, 13, 3, 7, 46, 36, 278, 2, 278, 1, 1, 2, 1, 1, 1, 2, 1, 1, 1, 2, 1, 1, 253, 21, 11, 1, 9, 70, 12, 1, 10, 60, 25, 1, 14, 66, 19, 1, 8, 80, 18, 253, 13, 3, 7, 46, 32, 278, 2, 278, 1, 1, 2, 1, 1, 1, 2, 1, 1, 1, 2, 1, 1, 187, 21, 11, 1, 9, 70, 12, 1, 10, 60, 25, 1, 14, 66, 19, 1, 8, 80, 18, 187, 13, 3, 3, 3, 29]\n",
      "[28, 7, 131, 26, 5, 27, 30, 5, 16, 5, 94, 15, 4, 15, 34, 4, 23, 41, 37, 4, 23, 39, 43, 20, 3, 6, 5, 16, 34, 4, 31, 37, 4, 31, 20, 3, 6, 84, 7, 33, 1, 2, 1, 1, 110, 2, 1, 1, 1, 22, 24, 1, 8, 58, 12, 1, 10, 58, 11, 1, 9, 71, 17, 110, 13, 71, 18, 1, 14, 3, 7, 31, 36, 1, 2, 1, 1, 1, 2, 1, 1, 1, 2, 1, 1, 104, 2, 1, 1, 1, 22, 24, 1, 8, 58, 12, 1, 10, 58, 11, 1, 9, 71, 17, 104, 13, 71, 18, 1, 14, 3, 3, 29]\n",
      "tf.Tensor(\n",
      "[b'Prod( 1/27 i Pow e 3 Pow Sum( s_11 Prod 2 s_13 Prod -2 s_14 Prod -2 s_34 s_44 reg_prop ) -1 Pow Sum( Pow m_s 2 Prod 2 s_34 Prod -1 s_44 Prod -1 reg_prop ) -1 gamma %lambda_184 %eta_211 %eps_41 gamma %tau_161 %del_216 %eta_212 Sum( Prod m_s gamma %tau_161 [UNK] %eta_211 Prod( p_1 %tau_164 gamma %tau_161 [UNK] %eta_273 gamma %tau_164 %eta_273 %eta_211 ) Prod( p_2 %tau_164 gamma %tau_161 [UNK] %eta_274 gamma %tau_164 %eta_274 %eta_211 ) Prod( -1 p_5 %tau_164 gamma %tau_161 [UNK] %eta_275 gamma %tau_164 %eta_275 %eta_211 ) ) A^(*) %i_5 %lambda_184 (p_3) b_u^(*) %k_3 %del_216 (p_2) b_u %l_5 %eta_212 (p_5) s_u^(*) %i_3 [UNK] (p_1) s_u %k_5 %eps_41 (p_4) )'\n",
      " b'Prod( 8/27 i Pow e 3 Pow Sum( Pow m_s 2 Prod 2 s_34 s_44 reg_prop ) -1 Pow Sum( Pow m_s 2 Prod -2 s_13 Prod -2 s_14 Prod 2 s_34 s_44 reg_prop ) -1 Sum( Prod( p_1 [UNK] gamma [UNK] [UNK] [UNK] gamma [UNK] [UNK] [UNK] A %k_3 [UNK] (p_2) c_v^(*) %i_3 [UNK] (p_1) c_v %l_5 [UNK] (p_5) s_u^(*) %i_5 [UNK] (p_3) s_v %k_5 [UNK] (p_4) ) Prod( -1/2 p_3 %sigma_172 gamma %sigma_172 [UNK] [UNK] gamma [UNK] [UNK] [UNK] gamma [UNK] [UNK] [UNK] gamma [UNK] [UNK] %eps_138 A %k_3 [UNK] (p_2) c_v^(*) %i_3 [UNK] (p_1) c_v %l_5 [UNK] (p_5) s_u^(*) %i_5 [UNK] (p_3) s_v %k_5 %eps_138 (p_4) ) Prod( -1/2 p_4 %sigma_172 gamma %sigma_172 [UNK] [UNK] gamma [UNK] [UNK] [UNK] gamma [UNK] [UNK] [UNK] gamma [UNK] [UNK] %eps_139 A %k_3 [UNK] (p_2) c_v^(*) %i_3 [UNK] (p_1) c_v %l_5 [UNK] (p_5) s_u^(*) %i_5 [UNK] (p_3) s_v %k_5 %eps_139 (p_4) ) ) )'\n",
      " b'Prod( -1/27 i Pow e 3 Pow Sum( Pow m_b 2 Prod 2 s_13 Prod -2 s_14 s_33 Prod -2 s_34 s_44 reg_prop ) -1 Pow Sum( s_13 Prod 1/2 s_33 Prod 1/2 reg_prop ) -1 Sum Prod( p_1 [UNK] gamma [UNK] [UNK] %eps_43 gamma [UNK] [UNK] [UNK] A^(*) %l_3 [UNK] (p_3) b_u^(*) %i_3 [UNK] (p_1) b_u^(*) %k_3 [UNK] (p_2) b_u %j_5 %eps_43 (p_4) b_u %k_5 [UNK] (p_5) ) Prod( 1/2 p_3 [UNK] gamma [UNK] [UNK] [UNK] gamma [UNK] [UNK] [UNK] gamma [UNK] [UNK] %eps_45 gamma [UNK] [UNK] [UNK] A^(*) %l_3 [UNK] (p_3) b_u^(*) %i_3 [UNK] (p_1) b_u^(*) %k_3 [UNK] (p_2) b_u %j_5 %eps_45 (p_4) b_u %k_5 [UNK] (p_5) ) )'], shape=(3,), dtype=string)\n"
     ]
    }
   ],
   "source": [
    "print(x_examples)\n",
    "encoded = tokenizer_X.tokenize(x_examples)\n",
    "print(\"encoded batch:\")\n",
    "for row in encoded.to_list():\n",
    "    print(row)\n",
    "\n",
    "round_trip = tokenizer_X.detokenize(encoded)\n",
    "print(round_trip)"
   ]
  },
  {
   "cell_type": "code",
   "execution_count": 51,
   "metadata": {},
   "outputs": [],
   "source": [
    "MAX_TOKENS=350\n",
    "def prepare_batch(X, y):\n",
    "    X = tokenizers[\"X\"].encode(X)      # Output is ragged.\n",
    "    X = X[:, :MAX_TOKENS]    # Trim to MAX_TOKENS.\n",
    "    X = X.to_tensor()  # Convert to 0-padded dense Tensor\n",
    "\n",
    "    y = tokenizers[\"y\"].encode(y)\n",
    "    y = y[:, :(MAX_TOKENS+1)]\n",
    "    y_inputs = y[:, :-1].to_tensor()  # Drop the [END] tokens\n",
    "    y_labels = y[:, 1:].to_tensor()   # Drop the [START] tokens\n",
    "\n",
    "    return (X, y_inputs), y_labels"
   ]
  },
  {
   "cell_type": "code",
   "execution_count": 52,
   "metadata": {},
   "outputs": [],
   "source": [
    "BUFFER_SIZE = 20000\n",
    "BATCH_SIZE = 32\n",
    "\n",
    "def make_batches(ds):\n",
    "  return (\n",
    "      ds\n",
    "      .shuffle(BUFFER_SIZE)\n",
    "      .batch(BATCH_SIZE)\n",
    "      .map(prepare_batch, tf.data.AUTOTUNE)\n",
    "      .prefetch(buffer_size=tf.data.AUTOTUNE))"
   ]
  },
  {
   "cell_type": "code",
   "execution_count": 53,
   "metadata": {},
   "outputs": [],
   "source": [
    "train_batches = make_batches(df_train)\n",
    "val_batches = make_batches(df_val)\n",
    "test_batches = make_batches(df_test)"
   ]
  },
  {
   "cell_type": "code",
   "execution_count": 54,
   "metadata": {},
   "outputs": [
    {
     "data": {
      "text/plain": [
       "<PrefetchDataset element_spec=((TensorSpec(shape=(None, None), dtype=tf.int64, name=None), TensorSpec(shape=(None, None), dtype=tf.int64, name=None)), TensorSpec(shape=(None, None), dtype=tf.int64, name=None))>"
      ]
     },
     "execution_count": 54,
     "metadata": {},
     "output_type": "execute_result"
    }
   ],
   "source": [
    "train_batches"
   ]
  },
  {
   "cell_type": "code",
   "execution_count": 55,
   "metadata": {},
   "outputs": [
    {
     "name": "stdout",
     "output_type": "stream",
     "text": [
      "(32, 281)\n",
      "(32, 345)\n",
      "(32, 345)\n"
     ]
    }
   ],
   "source": [
    "for (xx, yy), yy_labels in train_batches.take(1):\n",
    "    print(xx.shape)\n",
    "    print(yy.shape)\n",
    "    print(yy_labels.shape)"
   ]
  },
  {
   "cell_type": "code",
   "execution_count": 56,
   "metadata": {},
   "outputs": [
    {
     "name": "stdout",
     "output_type": "stream",
     "text": [
      "tf.Tensor([ 7 26  5 27 30  5 16 37  4 23], shape=(10,), dtype=int64)\n",
      "tf.Tensor([ 3 51 13 29 28 13 16 25 22 19], shape=(10,), dtype=int64)\n",
      "tf.Tensor([51 13 29 28 13 16 25 22 19  6], shape=(10,), dtype=int64)\n"
     ]
    }
   ],
   "source": [
    "print(xx[0][:10])\n",
    "print(yy[0][:10])\n",
    "print(yy_labels[0][:10])"
   ]
  },
  {
   "cell_type": "code",
   "execution_count": 57,
   "metadata": {},
   "outputs": [],
   "source": [
    "def positional_encoding(length, depth):\n",
    "  depth = depth/2\n",
    "\n",
    "  positions = np.arange(length)[:, np.newaxis]     # (seq, 1)\n",
    "  depths = np.arange(depth)[np.newaxis, :]/depth   # (1, depth)\n",
    "\n",
    "  angle_rates = 1 / (10000**depths)         # (1, depth)\n",
    "  angle_rads = positions * angle_rates      # (pos, depth)\n",
    "\n",
    "  pos_encoding = np.concatenate(\n",
    "      [np.sin(angle_rads), np.cos(angle_rads)],\n",
    "      axis=-1) \n",
    "\n",
    "  return tf.cast(pos_encoding, dtype=tf.float32)"
   ]
  },
  {
   "cell_type": "code",
   "execution_count": 58,
   "metadata": {},
   "outputs": [],
   "source": [
    "class PositionalEmbedding(tf.keras.layers.Layer):\n",
    "  \"\"\"embedding + positional encoding\"\"\"\n",
    "  def __init__(self, vocab_size, d_model):\n",
    "    super().__init__()\n",
    "    self.d_model = d_model\n",
    "    self.embedding = tf.keras.layers.Embedding(vocab_size, d_model, mask_zero=True) \n",
    "    self.pos_encoding = positional_encoding(length=2048, depth=d_model)\n",
    "\n",
    "  def compute_mask(self, *args, **kwargs):\n",
    "    return self.embedding.compute_mask(*args, **kwargs)\n",
    "\n",
    "  def call(self, x):\n",
    "    length = tf.shape(x)[1]\n",
    "    x = self.embedding(x)\n",
    "    # This factor sets the relative scale of the embedding and positonal_encoding.\n",
    "    x *= tf.math.sqrt(tf.cast(self.d_model, tf.float32))\n",
    "    x = x + self.pos_encoding[tf.newaxis, :length, :]\n",
    "    return x"
   ]
  },
  {
   "cell_type": "code",
   "execution_count": 59,
   "metadata": {},
   "outputs": [],
   "source": [
    "embed_X = PositionalEmbedding(vocab_size=tokenizers[\"X\"].get_vocab_size(), d_model=512)\n",
    "embed_y = PositionalEmbedding(vocab_size=tokenizers[\"y\"].get_vocab_size(), d_model=512)\n",
    "\n",
    "X_emb = embed_X(xx)\n",
    "y_emb = embed_X(yy)"
   ]
  },
  {
   "cell_type": "code",
   "execution_count": 60,
   "metadata": {},
   "outputs": [
    {
     "data": {
      "text/plain": [
       "<tf.Tensor: shape=(32, 281), dtype=bool, numpy=\n",
       "array([[ True,  True,  True, ..., False, False, False],\n",
       "       [ True,  True,  True, ..., False, False, False],\n",
       "       [ True,  True,  True, ..., False, False, False],\n",
       "       ...,\n",
       "       [ True,  True,  True, ..., False, False, False],\n",
       "       [ True,  True,  True, ..., False, False, False],\n",
       "       [ True,  True,  True, ..., False, False, False]])>"
      ]
     },
     "execution_count": 60,
     "metadata": {},
     "output_type": "execute_result"
    }
   ],
   "source": [
    "X_emb._keras_mask"
   ]
  },
  {
   "cell_type": "code",
   "execution_count": 61,
   "metadata": {},
   "outputs": [
    {
     "data": {
      "text/plain": [
       "<tf.Tensor: shape=(5,), dtype=int64, numpy=array([ 7, 26,  5, 27, 30])>"
      ]
     },
     "execution_count": 61,
     "metadata": {},
     "output_type": "execute_result"
    }
   ],
   "source": [
    "xx[0][0:5]"
   ]
  },
  {
   "cell_type": "code",
   "execution_count": 62,
   "metadata": {},
   "outputs": [
    {
     "data": {
      "text/plain": [
       "<tf.Tensor: shape=(5, 512), dtype=float32, numpy=\n",
       "array([[-0.13546064,  0.69598347, -0.28972754, ...,  1.1727179 ,\n",
       "         1.0892569 ,  0.6714809 ],\n",
       "       [ 1.7553012 ,  0.77115774,  1.9187546 , ...,  0.8091723 ,\n",
       "         0.01575792,  1.4015987 ],\n",
       "       [ 0.5122517 ,  1.6046032 ,  1.6691855 , ...,  1.4501709 ,\n",
       "         0.8326774 ,  2.0348377 ],\n",
       "       [ 0.68419015,  0.61280715, -0.753955  , ...,  1.3192405 ,\n",
       "         1.3271487 ,  0.04875952],\n",
       "       [ 0.2567833 , -0.5721197 , -0.5291657 , ...,  0.985366  ,\n",
       "         0.4667887 ,  0.9598986 ]], dtype=float32)>"
      ]
     },
     "execution_count": 62,
     "metadata": {},
     "output_type": "execute_result"
    }
   ],
   "source": [
    "X_emb[0][0:5]"
   ]
  },
  {
   "cell_type": "code",
   "execution_count": 63,
   "metadata": {},
   "outputs": [
    {
     "data": {
      "text/plain": [
       "<tf.Tensor: shape=(), dtype=float32, numpy=0.015757918>"
      ]
     },
     "execution_count": 63,
     "metadata": {},
     "output_type": "execute_result"
    }
   ],
   "source": [
    "X_emb[0][1][-2]"
   ]
  },
  {
   "cell_type": "markdown",
   "metadata": {},
   "source": [
    "## Building the actual layers"
   ]
  },
  {
   "cell_type": "code",
   "execution_count": 64,
   "metadata": {},
   "outputs": [],
   "source": [
    "class BaseAttention(tf.keras.layers.Layer):\n",
    "  def __init__(self, **kwargs):\n",
    "    super().__init__()\n",
    "    self.mha = tf.keras.layers.MultiHeadAttention(**kwargs)\n",
    "    self.layernorm = tf.keras.layers.LayerNormalization()\n",
    "    self.add = tf.keras.layers.Add()"
   ]
  },
  {
   "cell_type": "code",
   "execution_count": 65,
   "metadata": {},
   "outputs": [],
   "source": [
    "class CrossAttention(BaseAttention):\n",
    "  def call(self, x, context):\n",
    "    attn_output, attn_scores = self.mha(\n",
    "        query=x,\n",
    "        key=context,\n",
    "        value=context,\n",
    "        return_attention_scores=True)\n",
    "\n",
    "    # Cache the attention scores for plotting later.\n",
    "    self.last_attn_scores = attn_scores\n",
    "\n",
    "    x = self.add([x, attn_output])\n",
    "    x = self.layernorm(x)\n",
    "\n",
    "    return x"
   ]
  },
  {
   "cell_type": "code",
   "execution_count": 66,
   "metadata": {},
   "outputs": [
    {
     "name": "stdout",
     "output_type": "stream",
     "text": [
      "(32, 281, 512)\n",
      "(32, 345, 512)\n"
     ]
    },
    {
     "name": "stderr",
     "output_type": "stream",
     "text": [
      "2022-12-01 17:34:52.061197: I tensorflow/stream_executor/cuda/cuda_blas.cc:1614] TensorFloat-32 will be used for the matrix multiplication. This will only be logged once.\n"
     ]
    },
    {
     "name": "stdout",
     "output_type": "stream",
     "text": [
      "(32, 281, 512)\n"
     ]
    },
    {
     "name": "stderr",
     "output_type": "stream",
     "text": [
      "2022-12-01 17:34:52.626417: I tensorflow/stream_executor/cuda/cuda_dnn.cc:384] Loaded cuDNN version 8100\n"
     ]
    }
   ],
   "source": [
    "sample_ca = CrossAttention(num_heads=2, key_dim=512)\n",
    "\n",
    "print(X_emb.shape)\n",
    "print(y_emb.shape)\n",
    "print(sample_ca(X_emb, y_emb).shape)\n"
   ]
  },
  {
   "cell_type": "code",
   "execution_count": 67,
   "metadata": {},
   "outputs": [],
   "source": [
    "class GlobalSelfAttention(BaseAttention):\n",
    "  def call(self, x):\n",
    "    attn_output = self.mha(\n",
    "        query=x,\n",
    "        value=x,\n",
    "        key=x)\n",
    "    x = self.add([x, attn_output])\n",
    "    x = self.layernorm(x)\n",
    "    return x"
   ]
  },
  {
   "cell_type": "code",
   "execution_count": 68,
   "metadata": {},
   "outputs": [
    {
     "name": "stdout",
     "output_type": "stream",
     "text": [
      "(32, 281, 512)\n",
      "(32, 281, 512)\n"
     ]
    }
   ],
   "source": [
    "sample_gsa = GlobalSelfAttention(num_heads=2, key_dim=512)\n",
    "\n",
    "print(X_emb.shape)\n",
    "print(sample_gsa(X_emb).shape)\n"
   ]
  },
  {
   "cell_type": "code",
   "execution_count": 69,
   "metadata": {},
   "outputs": [],
   "source": [
    "class CausalSelfAttention(BaseAttention):\n",
    "  def call(self, x):\n",
    "    attn_output = self.mha(\n",
    "        query=x,\n",
    "        value=x,\n",
    "        key=x,\n",
    "        use_causal_mask = True)\n",
    "    x = self.add([x, attn_output])\n",
    "    x = self.layernorm(x)\n",
    "    return x"
   ]
  },
  {
   "cell_type": "code",
   "execution_count": 70,
   "metadata": {},
   "outputs": [],
   "source": [
    "class FeedForward(tf.keras.layers.Layer):\n",
    "  def __init__(self, d_model, dff, dropout_rate=0.1):\n",
    "    super().__init__()\n",
    "    self.seq = tf.keras.Sequential([\n",
    "      tf.keras.layers.Dense(dff, activation='relu'),\n",
    "      tf.keras.layers.Dense(d_model),\n",
    "      tf.keras.layers.Dropout(dropout_rate)\n",
    "    ])\n",
    "    self.add = tf.keras.layers.Add()\n",
    "    self.layer_norm = tf.keras.layers.LayerNormalization()\n",
    "\n",
    "  def call(self, x):\n",
    "    x = self.add([x, self.seq(x)])\n",
    "    x = self.layer_norm(x) \n",
    "    return x"
   ]
  },
  {
   "cell_type": "code",
   "execution_count": 71,
   "metadata": {},
   "outputs": [],
   "source": [
    "class EncoderLayer(tf.keras.layers.Layer):\n",
    "  def __init__(self,*, d_model, num_heads, dff, dropout_rate=0.1):\n",
    "    super().__init__()\n",
    "\n",
    "    self.self_attention = GlobalSelfAttention(\n",
    "        num_heads=num_heads,\n",
    "        key_dim=d_model,\n",
    "        dropout=dropout_rate)\n",
    "\n",
    "    self.ffn = FeedForward(d_model, dff)\n",
    "\n",
    "  def call(self, x):\n",
    "    x = self.self_attention(x)\n",
    "    x = self.ffn(x)\n",
    "    return x"
   ]
  },
  {
   "cell_type": "code",
   "execution_count": 72,
   "metadata": {},
   "outputs": [],
   "source": [
    "class Encoder(tf.keras.layers.Layer):\n",
    "  def __init__(self, *, num_layers, d_model, num_heads,\n",
    "               dff, vocab_size, dropout_rate=0.1):\n",
    "    super().__init__()\n",
    "\n",
    "    self.d_model = d_model\n",
    "    self.num_layers = num_layers\n",
    "\n",
    "    self.pos_embedding = PositionalEmbedding(\n",
    "        vocab_size=vocab_size, d_model=d_model)\n",
    "\n",
    "    self.enc_layers = [\n",
    "        EncoderLayer(d_model=d_model,\n",
    "                     num_heads=num_heads,\n",
    "                     dff=dff,\n",
    "                     dropout_rate=dropout_rate)\n",
    "        for _ in range(num_layers)]\n",
    "    self.dropout = tf.keras.layers.Dropout(dropout_rate)\n",
    "\n",
    "  def call(self, x):\n",
    "    # `x` is token-IDs shape: (batch, seq_len)\n",
    "    x = self.pos_embedding(x)  # Shape `(batch_size, seq_len, d_model)`.\n",
    "\n",
    "    # Add dropout.\n",
    "    x = self.dropout(x)\n",
    "\n",
    "    for i in range(self.num_layers):\n",
    "      x = self.enc_layers[i](x)\n",
    "\n",
    "    return x  # Shape `(batch_size, seq_len, d_model)`."
   ]
  },
  {
   "cell_type": "code",
   "execution_count": 73,
   "metadata": {},
   "outputs": [],
   "source": [
    "class DecoderLayer(tf.keras.layers.Layer):\n",
    "  def __init__(self,\n",
    "               *,\n",
    "               d_model,\n",
    "               num_heads,\n",
    "               dff,\n",
    "               dropout_rate=0.1):\n",
    "    super(DecoderLayer, self).__init__()\n",
    "\n",
    "    self.causal_self_attention = CausalSelfAttention(\n",
    "        num_heads=num_heads,\n",
    "        key_dim=d_model,\n",
    "        dropout=dropout_rate)\n",
    "\n",
    "    self.cross_attention = CrossAttention(\n",
    "        num_heads=num_heads,\n",
    "        key_dim=d_model,\n",
    "        dropout=dropout_rate)\n",
    "\n",
    "    self.ffn = FeedForward(d_model, dff)\n",
    "\n",
    "  def call(self, x, context):\n",
    "    x = self.causal_self_attention(x=x)\n",
    "    x = self.cross_attention(x=x, context=context)\n",
    "\n",
    "    # Cache the last attention scores for plotting later\n",
    "    self.last_attn_scores = self.cross_attention.last_attn_scores\n",
    "\n",
    "    x = self.ffn(x)  # Shape `(batch_size, seq_len, d_model)`.\n",
    "    return x"
   ]
  },
  {
   "cell_type": "code",
   "execution_count": 74,
   "metadata": {},
   "outputs": [],
   "source": [
    "class Decoder(tf.keras.layers.Layer):\n",
    "  def __init__(self, *, num_layers, d_model, num_heads, dff, vocab_size,\n",
    "               dropout_rate=0.1):\n",
    "    super(Decoder, self).__init__()\n",
    "\n",
    "    self.d_model = d_model\n",
    "    self.num_layers = num_layers\n",
    "\n",
    "    self.pos_embedding = PositionalEmbedding(vocab_size=vocab_size,\n",
    "                                             d_model=d_model)\n",
    "    self.dropout = tf.keras.layers.Dropout(dropout_rate)\n",
    "    self.dec_layers = [\n",
    "        DecoderLayer(d_model=d_model, num_heads=num_heads,\n",
    "                     dff=dff, dropout_rate=dropout_rate)\n",
    "        for _ in range(num_layers)]\n",
    "\n",
    "    self.last_attn_scores = None\n",
    "\n",
    "  def call(self, x, context):\n",
    "    # `x` is token-IDs shape (batch, target_seq_len)\n",
    "    x = self.pos_embedding(x)  # (batch_size, target_seq_len, d_model)\n",
    "\n",
    "    x = self.dropout(x)\n",
    "\n",
    "    for i in range(self.num_layers):\n",
    "      x  = self.dec_layers[i](x, context)\n",
    "\n",
    "    self.last_attn_scores = self.dec_layers[-1].last_attn_scores\n",
    "\n",
    "    # The shape of x is (batch_size, target_seq_len, d_model).\n",
    "    return x"
   ]
  },
  {
   "cell_type": "code",
   "execution_count": 75,
   "metadata": {},
   "outputs": [],
   "source": [
    "class Transformer(tf.keras.Model):\n",
    "  def __init__(self, *, num_layers, d_model, num_heads, dff,\n",
    "               input_vocab_size, target_vocab_size, dropout_rate=0.1):\n",
    "    super().__init__()\n",
    "    self.encoder = Encoder(num_layers=num_layers, d_model=d_model,\n",
    "                           num_heads=num_heads, dff=dff,\n",
    "                           vocab_size=input_vocab_size,\n",
    "                           dropout_rate=dropout_rate)\n",
    "\n",
    "    self.decoder = Decoder(num_layers=num_layers, d_model=d_model,\n",
    "                           num_heads=num_heads, dff=dff,\n",
    "                           vocab_size=target_vocab_size,\n",
    "                           dropout_rate=dropout_rate)\n",
    "\n",
    "    self.final_layer = tf.keras.layers.Dense(target_vocab_size)\n",
    "\n",
    "  def call(self, inputs):\n",
    "    # To use a Keras model with `.fit` you must pass all your inputs in the\n",
    "    # first argument.\n",
    "    context, x  = inputs\n",
    "\n",
    "    context = self.encoder(context)  # (batch_size, context_len, d_model)\n",
    "\n",
    "    x = self.decoder(x, context)  # (batch_size, target_len, d_model)\n",
    "\n",
    "    # Final linear layer output.\n",
    "    logits = self.final_layer(x)  # (batch_size, target_len, target_vocab_size)\n",
    "\n",
    "    try:\n",
    "      # Drop the keras mask, so it doesn't scale the losses/metrics.\n",
    "      # b/250038731\n",
    "      del logits._keras_mask\n",
    "    except AttributeError:\n",
    "      pass\n",
    "\n",
    "    # Return the final output and the attention weights.\n",
    "    return logits"
   ]
  },
  {
   "cell_type": "code",
   "execution_count": 76,
   "metadata": {},
   "outputs": [],
   "source": [
    "num_layers = 4\n",
    "d_model = 128\n",
    "dff = 512\n",
    "num_heads = 8\n",
    "dropout_rate = 0.1"
   ]
  },
  {
   "cell_type": "code",
   "execution_count": 77,
   "metadata": {},
   "outputs": [],
   "source": [
    "transformer = Transformer(\n",
    "    num_layers=num_layers,\n",
    "    d_model=d_model,\n",
    "    num_heads=num_heads,\n",
    "    dff=dff,\n",
    "    input_vocab_size=tokenizers[\"X\"].get_vocab_size(),\n",
    "    target_vocab_size=tokenizers[\"y\"].get_vocab_size(),\n",
    "    dropout_rate=dropout_rate)"
   ]
  },
  {
   "cell_type": "code",
   "execution_count": 78,
   "metadata": {},
   "outputs": [
    {
     "name": "stdout",
     "output_type": "stream",
     "text": [
      "(10, 512, 230)\n"
     ]
    }
   ],
   "source": [
    "print(transformer((X_emb[0][0:10], y_emb[0][0:10]), training=False).shape)"
   ]
  },
  {
   "cell_type": "code",
   "execution_count": 79,
   "metadata": {},
   "outputs": [
    {
     "data": {
      "text/plain": [
       "TensorShape([32, 281, 512])"
      ]
     },
     "execution_count": 79,
     "metadata": {},
     "output_type": "execute_result"
    }
   ],
   "source": [
    "X_emb.shape"
   ]
  },
  {
   "cell_type": "code",
   "execution_count": 80,
   "metadata": {},
   "outputs": [
    {
     "name": "stdout",
     "output_type": "stream",
     "text": [
      "2.10.0\n"
     ]
    }
   ],
   "source": [
    "print(tf.__version__) "
   ]
  },
  {
   "cell_type": "code",
   "execution_count": 81,
   "metadata": {},
   "outputs": [
    {
     "name": "stdout",
     "output_type": "stream",
     "text": [
      "Model: \"transformer\"\n",
      "_________________________________________________________________\n",
      " Layer (type)                Output Shape              Param #   \n",
      "=================================================================\n",
      " encoder (Encoder)           multiple                  2702848   \n",
      "                                                                 \n",
      " decoder (Decoder)           multiple                  4779264   \n",
      "                                                                 \n",
      " dense_16 (Dense)            multiple                  29670     \n",
      "                                                                 \n",
      "=================================================================\n",
      "Total params: 7,511,782\n",
      "Trainable params: 7,511,782\n",
      "Non-trainable params: 0\n",
      "_________________________________________________________________\n"
     ]
    }
   ],
   "source": [
    "transformer.summary()"
   ]
  },
  {
   "cell_type": "code",
   "execution_count": 82,
   "metadata": {},
   "outputs": [],
   "source": [
    "class CustomSchedule(tf.keras.optimizers.schedules.LearningRateSchedule):\n",
    "  def __init__(self, d_model, warmup_steps=4000):\n",
    "    super().__init__()\n",
    "\n",
    "    self.d_model = d_model\n",
    "    self.d_model = tf.cast(self.d_model, tf.float32)\n",
    "\n",
    "    self.warmup_steps = warmup_steps\n",
    "\n",
    "  def __call__(self, step):\n",
    "    step = tf.cast(step, dtype=tf.float32)\n",
    "    arg1 = tf.math.rsqrt(step)\n",
    "    arg2 = step * (self.warmup_steps ** -1.5)\n",
    "\n",
    "    return tf.math.rsqrt(self.d_model) * tf.math.minimum(arg1, arg2)"
   ]
  },
  {
   "cell_type": "code",
   "execution_count": 83,
   "metadata": {},
   "outputs": [],
   "source": [
    "learning_rate = CustomSchedule(d_model)\n",
    "\n",
    "optimizer = tf.keras.optimizers.Adam(learning_rate, beta_1=0.9, beta_2=0.98,\n",
    "                                     epsilon=1e-9)"
   ]
  },
  {
   "cell_type": "code",
   "execution_count": 84,
   "metadata": {},
   "outputs": [],
   "source": [
    "def masked_loss(label, pred):\n",
    "  mask = label != 0\n",
    "  loss_object = tf.keras.losses.SparseCategoricalCrossentropy(\n",
    "    from_logits=True, reduction='none')\n",
    "  loss = loss_object(label, pred)\n",
    "\n",
    "  mask = tf.cast(mask, dtype=loss.dtype)\n",
    "  loss *= mask\n",
    "\n",
    "  loss = tf.reduce_sum(loss)/tf.reduce_sum(mask)\n",
    "  return loss\n",
    "\n",
    "\n",
    "def masked_accuracy(label, pred):\n",
    "  pred = tf.argmax(pred, axis=2)\n",
    "  label = tf.cast(label, pred.dtype)\n",
    "  match = label == pred\n",
    "\n",
    "  mask = label != 0\n",
    "\n",
    "  match = match & mask\n",
    "\n",
    "  match = tf.cast(match, dtype=tf.float32)\n",
    "  mask = tf.cast(mask, dtype=tf.float32)\n",
    "  return tf.reduce_sum(match)/tf.reduce_sum(mask)"
   ]
  },
  {
   "cell_type": "code",
   "execution_count": 85,
   "metadata": {},
   "outputs": [],
   "source": [
    "transformer.compile(\n",
    "    loss=masked_loss,\n",
    "    optimizer=optimizer,\n",
    "    metrics=[masked_accuracy])"
   ]
  },
  {
   "cell_type": "code",
   "execution_count": 86,
   "metadata": {},
   "outputs": [],
   "source": [
    "callbacks = [\n",
    "    tf.keras.callbacks.EarlyStopping(patience=6),\n",
    "        tf.keras.callbacks.ModelCheckpoint(filepath='saved_models/2022-12-01-ahp-sqahp-checkpoint.h5',\n",
    "        save_weights_only=True,\n",
    "        monitor=\"val_loss\",\n",
    "        mode=\"min\",\n",
    "        ),\n",
    "    tf.keras.callbacks.CSVLogger('csv_logs/2022-12-01-ahp-sqahp.csv', separator=\",\", append=False),\n",
    "    tf.keras.callbacks.TensorBoard(log_dir='tensorboard_logs/2022-12-01-ahp-sqahp/'),\n",
    "    tf.keras.callbacks.BackupAndRestore(\n",
    "        'training_backup/2022-12-01-ahp-sqahp_backup/', save_freq=\"epoch\", delete_checkpoint=True\n",
    "    )\n",
    "]"
   ]
  },
  {
   "cell_type": "code",
   "execution_count": null,
   "metadata": {},
   "outputs": [],
   "source": [
    "transformer.fit(train_batches,\n",
    "                epochs=10,\n",
    "                validation_data=val_batches)"
   ]
  },
  {
   "cell_type": "code",
   "execution_count": null,
   "metadata": {},
   "outputs": [
    {
     "data": {
      "text/plain": [
       "['2022-11-09-Transformer_2to2.index',\n",
       " '2022-11-09-Transformer_2to2.data-00000-of-00001',\n",
       " '2022-11-14-Transformer_upto3to3_unique_augmented.index',\n",
       " '2022-11-09-Transformer_all_except_3to3.data-00000-of-00001',\n",
       " '2022-11-09-Transformer_all_except_3to3.index',\n",
       " '2022-11-14-Transformer_upto3to3_unique_augmented.data-00000-of-00001',\n",
       " 'checkpoint']"
      ]
     },
     "execution_count": 273,
     "metadata": {},
     "output_type": "execute_result"
    }
   ],
   "source": [
    "os.listdir(\"saved_models\")"
   ]
  },
  {
   "cell_type": "code",
   "execution_count": 274,
   "metadata": {},
   "outputs": [],
   "source": [
    "transformer.save_weights(\"models/2022-12-01-ahp-sqahp_final\")"
   ]
  },
  {
   "cell_type": "code",
   "execution_count": 263,
   "metadata": {},
   "outputs": [],
   "source": [
    "class Translator(tf.Module):\n",
    "  def __init__(self, tokenizers, transformer):\n",
    "    self.tokenizers = tokenizers\n",
    "    self.transformer = transformer\n",
    "\n",
    "  def __call__(self, sentence, max_length=MAX_TOKENS):\n",
    "    # The input sentence is Portuguese, hence adding the `[START]` and `[END]` tokens.\n",
    "    assert isinstance(sentence, tf.Tensor)\n",
    "    if len(sentence.shape) == 0:\n",
    "      sentence = sentence[tf.newaxis]\n",
    "\n",
    "    sentence = self.tokenizers[\"X\"].tokenize(sentence).to_tensor()\n",
    "\n",
    "    encoder_input = sentence\n",
    "\n",
    "    # As the output language is English, initialize the output with the\n",
    "    # English `[START]` token.\n",
    "    start_end = self.tokenizers[\"y\"].tokenize([''])[0]\n",
    "    start = start_end[0][tf.newaxis]\n",
    "    end = start_end[1][tf.newaxis]\n",
    "\n",
    "    # `tf.TensorArray` is required here (instead of a Python list), so that the\n",
    "    # dynamic-loop can be traced by `tf.function`.\n",
    "    output_array = tf.TensorArray(dtype=tf.int64, size=0, dynamic_size=True)\n",
    "    output_array = output_array.write(0, start)\n",
    "\n",
    "    for i in tf.range(max_length):\n",
    "      output = tf.transpose(output_array.stack())\n",
    "      predictions = self.transformer([encoder_input, output], training=False)\n",
    "\n",
    "      # Select the last token from the `seq_len` dimension.\n",
    "      predictions = predictions[:, -1:, :]  # Shape `(batch_size, 1, vocab_size)`.\n",
    "\n",
    "      predicted_id = tf.argmax(predictions, axis=-1)\n",
    "\n",
    "      # Concatenate the `predicted_id` to the output which is given to the\n",
    "      # decoder as its input.\n",
    "      output_array = output_array.write(i+1, predicted_id[0])\n",
    "\n",
    "      if predicted_id == end:\n",
    "        break\n",
    "\n",
    "    output = tf.transpose(output_array.stack())\n",
    "    # The output shape is `(1, tokens)`.\n",
    "    text = tokenizers[\"y\"].detokenize(output)[0]  # Shape: `()`.\n",
    "\n",
    "    tokens = tokenizers[\"y\"].lookup(output)[0]\n",
    "\n",
    "    # `tf.function` prevents us from using the attention_weights that were\n",
    "    # calculated on the last iteration of the loop.\n",
    "    # So, recalculate them outside the loop.\n",
    "    self.transformer([encoder_input, output[:,:-1]], training=False)\n",
    "    attention_weights = self.transformer.decoder.last_attn_scores\n",
    "\n",
    "    return text, tokens, attention_weights"
   ]
  },
  {
   "cell_type": "code",
   "execution_count": 264,
   "metadata": {},
   "outputs": [],
   "source": [
    "translator = Translator(tokenizers, transformer)"
   ]
  },
  {
   "cell_type": "code",
   "execution_count": 265,
   "metadata": {},
   "outputs": [
    {
     "data": {
      "text/plain": [
       "'Prod 2/3 Prod i Prod e Prod gamma alpha_2 alpha_0 alpha_1 Prod A^(*) i_2 alpha_2 (p_3) Prod tt i_0 alpha_1 (p_1)_u tt^(*) i_1 alpha_0 (p_2)_u'"
      ]
     },
     "execution_count": 265,
     "metadata": {},
     "output_type": "execute_result"
    }
   ],
   "source": [
    "sentence = X_test_final[0][0]\n",
    "sentence"
   ]
  },
  {
   "cell_type": "code",
   "execution_count": 266,
   "metadata": {},
   "outputs": [
    {
     "data": {
      "text/plain": [
       "TensorShape([])"
      ]
     },
     "execution_count": 266,
     "metadata": {},
     "output_type": "execute_result"
    }
   ],
   "source": [
    "tf.constant(sentence).shape"
   ]
  },
  {
   "cell_type": "code",
   "execution_count": 267,
   "metadata": {},
   "outputs": [],
   "source": [
    "sentence2 = tf.constant(sentence)[tf.newaxis]"
   ]
  },
  {
   "cell_type": "code",
   "execution_count": 268,
   "metadata": {},
   "outputs": [
    {
     "data": {
      "text/plain": [
       "<tf.RaggedTensor [[45, 2, 133, 2, 43, 2, 44, 2, 3, 18, 20, 19, 2, 34, 10, 18, 40, 2, 90,\n",
       "  12, 19, 31, 89, 11, 20, 72, 46]]>"
      ]
     },
     "execution_count": 268,
     "metadata": {},
     "output_type": "execute_result"
    }
   ],
   "source": [
    "tokenizers[\"X\"].tokenize(sentence2)"
   ]
  },
  {
   "cell_type": "code",
   "execution_count": 269,
   "metadata": {},
   "outputs": [
    {
     "data": {
      "text/plain": [
       "<tf.RaggedTensor [[45, 46]]>"
      ]
     },
     "execution_count": 269,
     "metadata": {},
     "output_type": "execute_result"
    }
   ],
   "source": [
    "tokenizers[\"X\"].tokenize([\"\"])"
   ]
  },
  {
   "cell_type": "code",
   "execution_count": 270,
   "metadata": {},
   "outputs": [
    {
     "data": {
      "text/plain": [
       "(<tf.Tensor: shape=(), dtype=string, numpy=b'e 4 e e 4 s_23 e 4 s_23 s_23 e 4 s_23 s_23 s_23 s_23 s_23 s_23 s_23 s_23 s_23 s- 2 s_23 s_24 s- 2 s_23 pow m_tt 2 mul s- 2 pow m_tt 2 mul s- 2 pow s_23 2 mul 2 pow m_tt 2 mul 2 mul s_13 pow m_tt 2 add mul s- 1 mul s_23 pow m_tt 2 mul s- 2 mul s_24 pow m_tt 2 add mul s- 2 mul s_34 pow m_tt 2 add mul s- 2 mul s_12 pow m_tt 4 add mul s- 2 mul s_12 pow m_tt 4 add mul s- 2 mul s_12 pow m_tt 4 add mul s- 2 mul s_14 mul s_24 s_34 add mul s- 2 mul s_12 mul 2 mul s_13 mul s_23 pow m_tt 2 add mul s- 2 mul s_14 mul s_23 pow m_tt 2 add mul s- 2 mul s_24 mul s_34 pow m_tt 2 add mul 2 mul s_12 mul s_13 pow m_tt 2 add mul 4 mul s_13 mul s_24 pow m_tt 2 add mul 4 mul s_23 mul s_24 pow m_tt 2 mul s- 2 mul s_12 mul s_34 pow m_tt 2 mul s- 2 mul s_23 mul s- 2 mul s_23 mul pow m_tt 2 pow m_tt 2 mul s- 2 mul s_14 mul s_24 s_34 mul 2 mul s_13 mul s_23 pow m_tt 2 add mul s- 2 mul s_23 mul s_34 pow m_tt 2 mul 2 mul s_23 mul s_24 pow m_tt 2 add mul 4 mul s_24 mul pow m_tt 2 mul 8 mul s_13 mul s_24 pow m_tt 2 mul s- 2 mul s_23 mul s_34 pow m_tt 2 mul s- 2 mul s_23 mul s_34 pow m_tt 2 mul s- 2 mul s_23 mul s_34 pow m_tt 2 mul s- 2 mul s_23 mul s_34 pow m_tt 2 add mul s- 2 mul s_23 mul s_24 pow m_tt 2 mul mul s- 2 mul s_23 mul s_34 pow m_tt 2 mul mul mul s_24 mul pow m_tt 2 mul mul s- 2 mul s_23 mul s_34 pow m_tt 2 mul mul'>,\n",
       " <tf.Tensor: shape=(351,), dtype=string, numpy=\n",
       " array([b'[START]', b'e', b'4', b'e', b'e', b'4', b's_23', b'e', b'4',\n",
       "        b's_23', b's_23', b'e', b'4', b's_23', b's_23', b's_23', b's_23',\n",
       "        b's_23', b's_23', b's_23', b's_23', b's_23', b's-', b'2', b's_23',\n",
       "        b's_24', b's-', b'2', b's_23', b'pow', b'm_tt', b'2', b'mul',\n",
       "        b's-', b'2', b'pow', b'm_tt', b'2', b'mul', b's-', b'2', b'pow',\n",
       "        b's_23', b'2', b'mul', b'2', b'pow', b'm_tt', b'2', b'mul', b'2',\n",
       "        b'mul', b's_13', b'pow', b'm_tt', b'2', b'add', b'mul', b's-',\n",
       "        b'1', b'mul', b's_23', b'pow', b'm_tt', b'2', b'mul', b's-', b'2',\n",
       "        b'mul', b's_24', b'pow', b'm_tt', b'2', b'add', b'mul', b's-',\n",
       "        b'2', b'mul', b's_34', b'pow', b'm_tt', b'2', b'add', b'mul',\n",
       "        b's-', b'2', b'mul', b's_12', b'pow', b'm_tt', b'4', b'add',\n",
       "        b'mul', b's-', b'2', b'mul', b's_12', b'pow', b'm_tt', b'4',\n",
       "        b'add', b'mul', b's-', b'2', b'mul', b's_12', b'pow', b'm_tt',\n",
       "        b'4', b'add', b'mul', b's-', b'2', b'mul', b's_14', b'mul',\n",
       "        b's_24', b's_34', b'add', b'mul', b's-', b'2', b'mul', b's_12',\n",
       "        b'mul', b'2', b'mul', b's_13', b'mul', b's_23', b'pow', b'm_tt',\n",
       "        b'2', b'add', b'mul', b's-', b'2', b'mul', b's_14', b'mul',\n",
       "        b's_23', b'pow', b'm_tt', b'2', b'add', b'mul', b's-', b'2',\n",
       "        b'mul', b's_24', b'mul', b's_34', b'pow', b'm_tt', b'2', b'add',\n",
       "        b'mul', b'2', b'mul', b's_12', b'mul', b's_13', b'pow', b'm_tt',\n",
       "        b'2', b'add', b'mul', b'4', b'mul', b's_13', b'mul', b's_24',\n",
       "        b'pow', b'm_tt', b'2', b'add', b'mul', b'4', b'mul', b's_23',\n",
       "        b'mul', b's_24', b'pow', b'm_tt', b'2', b'mul', b's-', b'2',\n",
       "        b'mul', b's_12', b'mul', b's_34', b'pow', b'm_tt', b'2', b'mul',\n",
       "        b's-', b'2', b'mul', b's_23', b'mul', b's-', b'2', b'mul', b's_23',\n",
       "        b'mul', b'pow', b'm_tt', b'2', b'pow', b'm_tt', b'2', b'mul',\n",
       "        b's-', b'2', b'mul', b's_14', b'mul', b's_24', b's_34', b'mul',\n",
       "        b'2', b'mul', b's_13', b'mul', b's_23', b'pow', b'm_tt', b'2',\n",
       "        b'add', b'mul', b's-', b'2', b'mul', b's_23', b'mul', b's_34',\n",
       "        b'pow', b'm_tt', b'2', b'mul', b'2', b'mul', b's_23', b'mul',\n",
       "        b's_24', b'pow', b'm_tt', b'2', b'add', b'mul', b'4', b'mul',\n",
       "        b's_24', b'mul', b'pow', b'm_tt', b'2', b'mul', b'8', b'mul',\n",
       "        b's_13', b'mul', b's_24', b'pow', b'm_tt', b'2', b'mul', b's-',\n",
       "        b'2', b'mul', b's_23', b'mul', b's_34', b'pow', b'm_tt', b'2',\n",
       "        b'mul', b's-', b'2', b'mul', b's_23', b'mul', b's_34', b'pow',\n",
       "        b'm_tt', b'2', b'mul', b's-', b'2', b'mul', b's_23', b'mul',\n",
       "        b's_34', b'pow', b'm_tt', b'2', b'mul', b's-', b'2', b'mul',\n",
       "        b's_23', b'mul', b's_34', b'pow', b'm_tt', b'2', b'add', b'mul',\n",
       "        b's-', b'2', b'mul', b's_23', b'mul', b's_24', b'pow', b'm_tt',\n",
       "        b'2', b'mul', b'mul', b's-', b'2', b'mul', b's_23', b'mul',\n",
       "        b's_34', b'pow', b'm_tt', b'2', b'mul', b'mul', b'mul', b's_24',\n",
       "        b'mul', b'pow', b'm_tt', b'2', b'mul', b'mul', b's-', b'2', b'mul',\n",
       "        b's_23', b'mul', b's_34', b'pow', b'm_tt', b'2', b'mul', b'mul',\n",
       "        b'mul'], dtype=object)>,\n",
       " <tf.Tensor: shape=(1, 8, 350, 27), dtype=float32, numpy=\n",
       " array([[[[0.00609642, 0.15153041, 0.00274909, ..., 0.00150047,\n",
       "           0.00264707, 0.00269867],\n",
       "          [0.0052967 , 0.15357839, 0.00263177, ..., 0.00150018,\n",
       "           0.0025359 , 0.00258117],\n",
       "          [0.00583117, 0.15227929, 0.00294052, ..., 0.00172064,\n",
       "           0.00283237, 0.00288254],\n",
       "          ...,\n",
       "          [0.00071198, 0.16413519, 0.0008504 , ..., 0.00032842,\n",
       "           0.0008713 , 0.00086429],\n",
       "          [0.00367211, 0.15637067, 0.00249051, ..., 0.00096584,\n",
       "           0.00251631, 0.00252367],\n",
       "          [0.00371149, 0.15633078, 0.00247816, ..., 0.00087514,\n",
       "           0.00250369, 0.00251316]],\n",
       " \n",
       "         [[0.01689322, 0.04564391, 0.01104816, ..., 0.01507656,\n",
       "           0.01080301, 0.01081656],\n",
       "          [0.01653329, 0.0433283 , 0.01073942, ..., 0.01477481,\n",
       "           0.01052687, 0.01050784],\n",
       "          [0.01472505, 0.04195366, 0.00932383, ..., 0.01332293,\n",
       "           0.00910951, 0.00910464],\n",
       "          ...,\n",
       "          [0.02407413, 0.07379293, 0.02735358, ..., 0.02006663,\n",
       "           0.02821435, 0.02769257],\n",
       "          [0.03513052, 0.06600828, 0.02997538, ..., 0.02389245,\n",
       "           0.03023542, 0.03009939],\n",
       "          [0.03540717, 0.0706565 , 0.02732649, ..., 0.02055297,\n",
       "           0.02740923, 0.02735479]],\n",
       " \n",
       "         [[0.03156018, 0.03908681, 0.04538356, ..., 0.02548607,\n",
       "           0.04657719, 0.04594937],\n",
       "          [0.03203427, 0.04030607, 0.04423797, ..., 0.02376057,\n",
       "           0.04535729, 0.04479996],\n",
       "          [0.03138492, 0.04089653, 0.04405596, ..., 0.02368526,\n",
       "           0.04533069, 0.04470651],\n",
       "          ...,\n",
       "          [0.00200637, 0.15030089, 0.00340025, ..., 0.00345178,\n",
       "           0.00361168, 0.00348481],\n",
       "          [0.00241347, 0.14895354, 0.00466538, ..., 0.00517503,\n",
       "           0.00494219, 0.00476482],\n",
       "          [0.00305121, 0.14478232, 0.0066317 , ..., 0.00660914,\n",
       "           0.0070062 , 0.00676694]],\n",
       " \n",
       "         ...,\n",
       " \n",
       "         [[0.02800317, 0.06161228, 0.03855311, ..., 0.00879904,\n",
       "           0.04001163, 0.03925679],\n",
       "          [0.02902667, 0.0549776 , 0.04152768, ..., 0.00959343,\n",
       "           0.04312503, 0.04227211],\n",
       "          [0.02846494, 0.05563181, 0.04138827, ..., 0.00941592,\n",
       "           0.04301919, 0.04215685],\n",
       "          ...,\n",
       "          [0.0305258 , 0.10159979, 0.0169348 , ..., 0.01563822,\n",
       "           0.01658178, 0.01664403],\n",
       "          [0.03337456, 0.08090247, 0.02553204, ..., 0.01159193,\n",
       "           0.02564672, 0.02551835],\n",
       "          [0.03171662, 0.08374719, 0.02504459, ..., 0.01158537,\n",
       "           0.02522526, 0.02504516]],\n",
       " \n",
       "         [[0.0065423 , 0.12380715, 0.01084948, ..., 0.00715502,\n",
       "           0.0112474 , 0.01110107],\n",
       "          [0.00600183, 0.12429012, 0.01007851, ..., 0.00755378,\n",
       "           0.01041984, 0.0102808 ],\n",
       "          [0.00637528, 0.12283031, 0.0103468 , ..., 0.00792537,\n",
       "           0.01067144, 0.01053841],\n",
       "          ...,\n",
       "          [0.01100498, 0.11200484, 0.01588698, ..., 0.0079219 ,\n",
       "           0.01651807, 0.01633325],\n",
       "          [0.01936618, 0.04839056, 0.04065802, ..., 0.01538224,\n",
       "           0.04371664, 0.04267323],\n",
       "          [0.01987411, 0.0563297 , 0.03739638, ..., 0.01594159,\n",
       "           0.03978336, 0.03898437]],\n",
       " \n",
       "         [[0.00026868, 0.16225778, 0.00019936, ..., 0.0004288 ,\n",
       "           0.00019345, 0.00019469],\n",
       "          [0.00026069, 0.1609932 , 0.00018337, ..., 0.00043292,\n",
       "           0.00017718, 0.00017845],\n",
       "          [0.00032167, 0.16078234, 0.00022718, ..., 0.00052802,\n",
       "           0.00021978, 0.00022131],\n",
       "          ...,\n",
       "          [0.0003283 , 0.15093873, 0.00021811, ..., 0.00044357,\n",
       "           0.00021063, 0.00021226],\n",
       "          [0.00031746, 0.16498904, 0.00025356, ..., 0.00054208,\n",
       "           0.0002442 , 0.00024628],\n",
       "          [0.00041486, 0.16426212, 0.00035574, ..., 0.00073811,\n",
       "           0.00034445, 0.00034644]]]], dtype=float32)>)"
      ]
     },
     "execution_count": 270,
     "metadata": {},
     "output_type": "execute_result"
    }
   ],
   "source": [
    "translator(tf.constant(sentence))"
   ]
  },
  {
   "cell_type": "code",
   "execution_count": 271,
   "metadata": {},
   "outputs": [
    {
     "data": {
      "text/plain": [
       "'Prod 2/3 Prod i Prod e Prod gamma alpha_2 alpha_0 alpha_1 Prod A^(*) i_2 alpha_2 (p_3) Prod tt i_0 alpha_1 (p_1)_u tt^(*) i_1 alpha_0 (p_2)_u'"
      ]
     },
     "execution_count": 271,
     "metadata": {},
     "output_type": "execute_result"
    }
   ],
   "source": [
    "X_test_final[0][0]"
   ]
  },
  {
   "cell_type": "code",
   "execution_count": null,
   "metadata": {},
   "outputs": [],
   "source": []
  }
 ],
 "metadata": {
  "kernelspec": {
   "display_name": "Python 3.9.12 ('base')",
   "language": "python",
   "name": "python3"
  },
  "language_info": {
   "codemirror_mode": {
    "name": "ipython",
    "version": 3
   },
   "file_extension": ".py",
   "mimetype": "text/x-python",
   "name": "python",
   "nbconvert_exporter": "python",
   "pygments_lexer": "ipython3",
   "version": "3.9.12"
  },
  "orig_nbformat": 4,
  "vscode": {
   "interpreter": {
    "hash": "c4adc2ea131058d4ca334736eaf83f8a99f586a60b7e02773f5921bb39d3dbeb"
   }
  }
 },
 "nbformat": 4,
 "nbformat_minor": 2
}
